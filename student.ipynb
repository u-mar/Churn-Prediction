{
 "cells": [
  {
   "cell_type": "markdown",
   "id": "0dacff24",
   "metadata": {},
   "source": [
    "# Analysis and prediction of Hotel Reservation cancellation.\n",
    "\n",
    "Group Members:\n",
    "- Loise Osoro\n",
    "- Omar Mustaf\n",
    "- William Ndoni\n",
    "- Mulei Mutuku\n",
    "- Paul Muriithi\n",
    "- Derrick Wekesa\n",
    "\n",
    "### Introduction\n",
    "Hotels are a major part of the hospitality industry, that are considered to have a large economic impact to our community. Hotels provide accomodation, entertainment and leisure,both to local and international tourists. Due to their large target population(local and international), hotel reservation system has became a necessary component inorder to expand their customer base.\n",
    "\n",
    "Hotel reservations systems are a convenient and easy way for customers to access hotel services.\n",
    "Hotel customers also have the ability to cancel their hotel reservations in advance and receive a full refund or encounter some charges depending on the situation.This is a very convenient feature of hotel reservations to the customers.\n",
    "\n",
    "### Business Understanding\n",
    "\n",
    "Hotel business is a very profitable business in the current era.However any hotel can encounter great losses when there is an increase in the churn rate (cancellation of hotel reservations).This is because hotels require constant maintenance whose cost can only be accounted for when the hotel business is running.\n",
    "\n",
    "The aim of this project is to develop a model that can predict whether a customer will cancel their hotel reservation or not based on certain features.With this model,hotels can be able to anticipate and counter any predestined hotel reservation cancellations.\n",
    "In addition the model will provide insight on the features that influence the churn rate in the hotel business.This will enable hotel managers to mitigate the churn rate in the hotel business  \n",
    "\n",
    "### Problem Statement\n",
    "\n",
    "Being part of the hotel management, the company is been experiencing a dropping hotel revenue collection, which can be linked to the decreasing number of reservation bookings and increased reservation churning / cancelations. Therefore to mitigate this, we have been tasked with to come up with strategies, solutions and recommendations that will be aimed at increased revenue collection in the hotel by, increasing the hotel bookings and reducing the rate of reservation cancelling.\n",
    "\n",
    "To accomplish this, we will undertake data analysis on the companies reservation data in order to find patterns that can improve revenue collection and hotel bookings as well as developing a model that can predict hotel churning inorder to effectively solve them before their occurence.\n",
    "\n",
    "### research questions\n",
    "\n",
    " * Is the reservation churn rate the same in the various hotel categories?\n",
    " * Which are the busiest months in hotel bookings and which months receive the most cancellations?\n",
    " * Which reservation channel (e.g., online travel agencies, direct booking, etc.) leads to the most bookings, and which channel is associated  with the highest reservation cancellations?\n",
    " * Which countries contribute to the most bookings, and which countries are associated with the highest reservation cancellations?\n",
    " * Which hotel features/services need improvement?Can these improvements lead to a significant reduction in the churn rate?\n",
    " * What are the key factors that influence hotel reservation cancellations?\n",
    " * can we develop a predictive model to anticipate and mitigate reservation cancellations in the hotel business\n",
    "\n",
    "### Main Objective\n",
    "This project is aimed at providing appropriate recommendations / strategies that will increasing hotel revenue and to develop a model that can predict hotel churning / cancelation and its major causes and how to mitigate them.\n",
    "\n",
    "### Specific Objectives\n",
    "\n",
    "- Identify various patterns and trents that can improve revenue collection\n",
    "- To devolope a model that can predict whether a reservation is canceled or not\n",
    "- To identify the top 5 the major factors / features that are associated with reservation cancelations\n",
    "- To develop a predictive model using machine learning algorithms that can anticipate reservation cancellations with a high level of accuracy (80% and above).\n",
    "### Metrics of Success\n",
    "\n",
    "- To provide insights on the factors that influence the churn rate in the hotel business. \n",
    "- The final model should have an accuracy score of 80% and above.\n"
   ]
  },
  {
   "cell_type": "markdown",
   "id": "86104c62",
   "metadata": {},
   "source": [
    "## Data Understanding\n",
    "***\n",
    "The datset contains information collected from two hotel categories; resort and city hotel with a structure of 31 variables and 119,390 observations, with a ratio of 34% to 66% respectively for the two hotels. Each row represents booking done within the period 1st July,2015 and 31st August,2017 and the bookings that were checked-in and the ones canceled.\n",
    "\n",
    "For detail explanation of the dataset's columns, view the [Link](https://github.com/u-mar/Churn-Prediction/blob/main/data/columns.md)\n",
    "\n",
    "The dataset was extracted from hotels’ Property Management System (PMS) SQL databases from different hotel categories ,resort and city,in Portugal. Dataset download [Link](https://bit.ly/2WvQbhJ)\n",
    "\n",
    "The information contained in this dataset will be used to train out model.The columns (features) will provide great insight once used to train the model."
   ]
  },
  {
   "cell_type": "code",
   "execution_count": 2,
   "id": "e94bdff3",
   "metadata": {},
   "outputs": [],
   "source": [
    "# importing necesary packages\n",
    "from imblearn.over_sampling import SMOTE\n",
    "import pandas as pd\n",
    "import numpy as np\n",
    "from sklearn.compose import make_column_transformer\n",
    "from sklearn.ensemble import GradientBoostingClassifier , AdaBoostClassifier , RandomForestClassifier\n",
    "from sklearn.neighbors import KNeighborsClassifier\n",
    "from sklearn.linear_model import LogisticRegression\n",
    "from sklearn.model_selection import train_test_split\n",
    "from sklearn.metrics import roc_curve ,auc, accuracy_score ,precision_score , recall_score, f1_score\n",
    "from sklearn.metrics import confusion_matrix, ConfusionMatrixDisplay\n",
    "from sklearn.model_selection import cross_validate, GridSearchCV\n",
    "from sklearn.preprocessing import StandardScaler\n",
    "from sklearn.pipeline import Pipeline\n",
    "from sklearn.tree import DecisionTreeClassifier\n",
    "from xgboost import XGBClassifier\n",
    "#plottings\n",
    "import matplotlib.pyplot as plt\n",
    "import seaborn as sns\n",
    "\n",
    "%matplotlib inline\n",
    "plt.style.use('ggplot')\n"
   ]
  },
  {
   "cell_type": "code",
   "execution_count": 3,
   "id": "74f4a639",
   "metadata": {},
   "outputs": [
    {
     "name": "stdout",
     "output_type": "stream",
     "text": [
      "Rows: 119390\n",
      " Columns: 32\n"
     ]
    },
    {
     "data": {
      "text/html": [
       "<div>\n",
       "<style scoped>\n",
       "    .dataframe tbody tr th:only-of-type {\n",
       "        vertical-align: middle;\n",
       "    }\n",
       "\n",
       "    .dataframe tbody tr th {\n",
       "        vertical-align: top;\n",
       "    }\n",
       "\n",
       "    .dataframe thead th {\n",
       "        text-align: right;\n",
       "    }\n",
       "</style>\n",
       "<table border=\"1\" class=\"dataframe\">\n",
       "  <thead>\n",
       "    <tr style=\"text-align: right;\">\n",
       "      <th></th>\n",
       "      <th>hotel</th>\n",
       "      <th>is_canceled</th>\n",
       "      <th>lead_time</th>\n",
       "      <th>arrival_date_year</th>\n",
       "      <th>arrival_date_month</th>\n",
       "      <th>arrival_date_week_number</th>\n",
       "      <th>arrival_date_day_of_month</th>\n",
       "      <th>stays_in_weekend_nights</th>\n",
       "      <th>stays_in_week_nights</th>\n",
       "      <th>adults</th>\n",
       "      <th>...</th>\n",
       "      <th>deposit_type</th>\n",
       "      <th>agent</th>\n",
       "      <th>company</th>\n",
       "      <th>days_in_waiting_list</th>\n",
       "      <th>customer_type</th>\n",
       "      <th>adr</th>\n",
       "      <th>required_car_parking_spaces</th>\n",
       "      <th>total_of_special_requests</th>\n",
       "      <th>reservation_status</th>\n",
       "      <th>reservation_status_date</th>\n",
       "    </tr>\n",
       "  </thead>\n",
       "  <tbody>\n",
       "    <tr>\n",
       "      <th>0</th>\n",
       "      <td>Resort Hotel</td>\n",
       "      <td>0</td>\n",
       "      <td>342</td>\n",
       "      <td>2015</td>\n",
       "      <td>July</td>\n",
       "      <td>27</td>\n",
       "      <td>1</td>\n",
       "      <td>0</td>\n",
       "      <td>0</td>\n",
       "      <td>2</td>\n",
       "      <td>...</td>\n",
       "      <td>No Deposit</td>\n",
       "      <td>NaN</td>\n",
       "      <td>NaN</td>\n",
       "      <td>0</td>\n",
       "      <td>Transient</td>\n",
       "      <td>0.0</td>\n",
       "      <td>0</td>\n",
       "      <td>0</td>\n",
       "      <td>Check-Out</td>\n",
       "      <td>2015-07-01</td>\n",
       "    </tr>\n",
       "    <tr>\n",
       "      <th>1</th>\n",
       "      <td>Resort Hotel</td>\n",
       "      <td>0</td>\n",
       "      <td>737</td>\n",
       "      <td>2015</td>\n",
       "      <td>July</td>\n",
       "      <td>27</td>\n",
       "      <td>1</td>\n",
       "      <td>0</td>\n",
       "      <td>0</td>\n",
       "      <td>2</td>\n",
       "      <td>...</td>\n",
       "      <td>No Deposit</td>\n",
       "      <td>NaN</td>\n",
       "      <td>NaN</td>\n",
       "      <td>0</td>\n",
       "      <td>Transient</td>\n",
       "      <td>0.0</td>\n",
       "      <td>0</td>\n",
       "      <td>0</td>\n",
       "      <td>Check-Out</td>\n",
       "      <td>2015-07-01</td>\n",
       "    </tr>\n",
       "    <tr>\n",
       "      <th>2</th>\n",
       "      <td>Resort Hotel</td>\n",
       "      <td>0</td>\n",
       "      <td>7</td>\n",
       "      <td>2015</td>\n",
       "      <td>July</td>\n",
       "      <td>27</td>\n",
       "      <td>1</td>\n",
       "      <td>0</td>\n",
       "      <td>1</td>\n",
       "      <td>1</td>\n",
       "      <td>...</td>\n",
       "      <td>No Deposit</td>\n",
       "      <td>NaN</td>\n",
       "      <td>NaN</td>\n",
       "      <td>0</td>\n",
       "      <td>Transient</td>\n",
       "      <td>75.0</td>\n",
       "      <td>0</td>\n",
       "      <td>0</td>\n",
       "      <td>Check-Out</td>\n",
       "      <td>2015-07-02</td>\n",
       "    </tr>\n",
       "    <tr>\n",
       "      <th>3</th>\n",
       "      <td>Resort Hotel</td>\n",
       "      <td>0</td>\n",
       "      <td>13</td>\n",
       "      <td>2015</td>\n",
       "      <td>July</td>\n",
       "      <td>27</td>\n",
       "      <td>1</td>\n",
       "      <td>0</td>\n",
       "      <td>1</td>\n",
       "      <td>1</td>\n",
       "      <td>...</td>\n",
       "      <td>No Deposit</td>\n",
       "      <td>304.0</td>\n",
       "      <td>NaN</td>\n",
       "      <td>0</td>\n",
       "      <td>Transient</td>\n",
       "      <td>75.0</td>\n",
       "      <td>0</td>\n",
       "      <td>0</td>\n",
       "      <td>Check-Out</td>\n",
       "      <td>2015-07-02</td>\n",
       "    </tr>\n",
       "    <tr>\n",
       "      <th>4</th>\n",
       "      <td>Resort Hotel</td>\n",
       "      <td>0</td>\n",
       "      <td>14</td>\n",
       "      <td>2015</td>\n",
       "      <td>July</td>\n",
       "      <td>27</td>\n",
       "      <td>1</td>\n",
       "      <td>0</td>\n",
       "      <td>2</td>\n",
       "      <td>2</td>\n",
       "      <td>...</td>\n",
       "      <td>No Deposit</td>\n",
       "      <td>240.0</td>\n",
       "      <td>NaN</td>\n",
       "      <td>0</td>\n",
       "      <td>Transient</td>\n",
       "      <td>98.0</td>\n",
       "      <td>0</td>\n",
       "      <td>1</td>\n",
       "      <td>Check-Out</td>\n",
       "      <td>2015-07-03</td>\n",
       "    </tr>\n",
       "  </tbody>\n",
       "</table>\n",
       "<p>5 rows × 32 columns</p>\n",
       "</div>"
      ],
      "text/plain": [
       "          hotel  is_canceled  lead_time  arrival_date_year arrival_date_month  \\\n",
       "0  Resort Hotel            0        342               2015               July   \n",
       "1  Resort Hotel            0        737               2015               July   \n",
       "2  Resort Hotel            0          7               2015               July   \n",
       "3  Resort Hotel            0         13               2015               July   \n",
       "4  Resort Hotel            0         14               2015               July   \n",
       "\n",
       "   arrival_date_week_number  arrival_date_day_of_month  \\\n",
       "0                        27                          1   \n",
       "1                        27                          1   \n",
       "2                        27                          1   \n",
       "3                        27                          1   \n",
       "4                        27                          1   \n",
       "\n",
       "   stays_in_weekend_nights  stays_in_week_nights  adults  ...  deposit_type  \\\n",
       "0                        0                     0       2  ...    No Deposit   \n",
       "1                        0                     0       2  ...    No Deposit   \n",
       "2                        0                     1       1  ...    No Deposit   \n",
       "3                        0                     1       1  ...    No Deposit   \n",
       "4                        0                     2       2  ...    No Deposit   \n",
       "\n",
       "   agent company days_in_waiting_list customer_type   adr  \\\n",
       "0    NaN     NaN                    0     Transient   0.0   \n",
       "1    NaN     NaN                    0     Transient   0.0   \n",
       "2    NaN     NaN                    0     Transient  75.0   \n",
       "3  304.0     NaN                    0     Transient  75.0   \n",
       "4  240.0     NaN                    0     Transient  98.0   \n",
       "\n",
       "   required_car_parking_spaces  total_of_special_requests  reservation_status  \\\n",
       "0                            0                          0           Check-Out   \n",
       "1                            0                          0           Check-Out   \n",
       "2                            0                          0           Check-Out   \n",
       "3                            0                          0           Check-Out   \n",
       "4                            0                          1           Check-Out   \n",
       "\n",
       "  reservation_status_date  \n",
       "0              2015-07-01  \n",
       "1              2015-07-01  \n",
       "2              2015-07-02  \n",
       "3              2015-07-02  \n",
       "4              2015-07-03  \n",
       "\n",
       "[5 rows x 32 columns]"
      ]
     },
     "execution_count": 3,
     "metadata": {},
     "output_type": "execute_result"
    }
   ],
   "source": [
    "# Reading the Dataset and looking at the statistics\n",
    "\n",
    "hotel = pd.read_csv('data/hotel_bookings.csv')\n",
    "print(f\"Rows: {hotel.shape[0]}\\n Columns: {hotel.shape[1]}\")\n",
    "hotel.head()"
   ]
  },
  {
   "cell_type": "code",
   "execution_count": 4,
   "id": "653b0aa4",
   "metadata": {},
   "outputs": [
    {
     "name": "stdout",
     "output_type": "stream",
     "text": [
      "<class 'pandas.core.frame.DataFrame'>\n",
      "RangeIndex: 119390 entries, 0 to 119389\n",
      "Data columns (total 32 columns):\n",
      " #   Column                          Non-Null Count   Dtype  \n",
      "---  ------                          --------------   -----  \n",
      " 0   hotel                           119390 non-null  object \n",
      " 1   is_canceled                     119390 non-null  int64  \n",
      " 2   lead_time                       119390 non-null  int64  \n",
      " 3   arrival_date_year               119390 non-null  int64  \n",
      " 4   arrival_date_month              119390 non-null  object \n",
      " 5   arrival_date_week_number        119390 non-null  int64  \n",
      " 6   arrival_date_day_of_month       119390 non-null  int64  \n",
      " 7   stays_in_weekend_nights         119390 non-null  int64  \n",
      " 8   stays_in_week_nights            119390 non-null  int64  \n",
      " 9   adults                          119390 non-null  int64  \n",
      " 10  children                        119386 non-null  float64\n",
      " 11  babies                          119390 non-null  int64  \n",
      " 12  meal                            119390 non-null  object \n",
      " 13  country                         118902 non-null  object \n",
      " 14  market_segment                  119390 non-null  object \n",
      " 15  distribution_channel            119390 non-null  object \n",
      " 16  is_repeated_guest               119390 non-null  int64  \n",
      " 17  previous_cancellations          119390 non-null  int64  \n",
      " 18  previous_bookings_not_canceled  119390 non-null  int64  \n",
      " 19  reserved_room_type              119390 non-null  object \n",
      " 20  assigned_room_type              119390 non-null  object \n",
      " 21  booking_changes                 119390 non-null  int64  \n",
      " 22  deposit_type                    119390 non-null  object \n",
      " 23  agent                           103050 non-null  float64\n",
      " 24  company                         6797 non-null    float64\n",
      " 25  days_in_waiting_list            119390 non-null  int64  \n",
      " 26  customer_type                   119390 non-null  object \n",
      " 27  adr                             119390 non-null  float64\n",
      " 28  required_car_parking_spaces     119390 non-null  int64  \n",
      " 29  total_of_special_requests       119390 non-null  int64  \n",
      " 30  reservation_status              119390 non-null  object \n",
      " 31  reservation_status_date         119390 non-null  object \n",
      "dtypes: float64(4), int64(16), object(12)\n",
      "memory usage: 29.1+ MB\n"
     ]
    }
   ],
   "source": [
    "# checking structure of the dataset\n",
    "hotel.info()"
   ]
  },
  {
   "cell_type": "markdown",
   "id": "94e483ad",
   "metadata": {},
   "source": [
    "We can observe some columns with missing values like `company` and `agent` have many missing values. The columns seem to be of the right data types."
   ]
  },
  {
   "cell_type": "markdown",
   "id": "85859145",
   "metadata": {},
   "source": [
    "### Dropping Irrelevant columns \n",
    "\n",
    "From the above output, and column descriptions the `company` and `agent`columns represent Identification Numbers  and therefore they are not useful in our data analysis therefore we drop them.\n",
    "Also the `reservation_status_date` column is a date column and is not necessary to our analysis, we also drop it from our dataset.\n",
    "We will therefore drop these column to help reduce the model complexity."
   ]
  },
  {
   "cell_type": "code",
   "execution_count": 5,
   "id": "c6d81350",
   "metadata": {},
   "outputs": [],
   "source": [
    "# dropping the irrelevant columns\n",
    "hotel.drop(columns=['company','agent','reservation_status','reservation_status_date'], \\\n",
    "           axis=1, inplace=True)"
   ]
  },
  {
   "cell_type": "code",
   "execution_count": 6,
   "id": "7ad293f9",
   "metadata": {},
   "outputs": [
    {
     "data": {
      "text/html": [
       "<div>\n",
       "<style scoped>\n",
       "    .dataframe tbody tr th:only-of-type {\n",
       "        vertical-align: middle;\n",
       "    }\n",
       "\n",
       "    .dataframe tbody tr th {\n",
       "        vertical-align: top;\n",
       "    }\n",
       "\n",
       "    .dataframe thead th {\n",
       "        text-align: right;\n",
       "    }\n",
       "</style>\n",
       "<table border=\"1\" class=\"dataframe\">\n",
       "  <thead>\n",
       "    <tr style=\"text-align: right;\">\n",
       "      <th></th>\n",
       "      <th>is_canceled</th>\n",
       "      <th>lead_time</th>\n",
       "      <th>arrival_date_year</th>\n",
       "      <th>arrival_date_week_number</th>\n",
       "      <th>arrival_date_day_of_month</th>\n",
       "      <th>stays_in_weekend_nights</th>\n",
       "      <th>stays_in_week_nights</th>\n",
       "      <th>adults</th>\n",
       "      <th>children</th>\n",
       "      <th>babies</th>\n",
       "      <th>is_repeated_guest</th>\n",
       "      <th>previous_cancellations</th>\n",
       "      <th>previous_bookings_not_canceled</th>\n",
       "      <th>booking_changes</th>\n",
       "      <th>days_in_waiting_list</th>\n",
       "      <th>adr</th>\n",
       "      <th>required_car_parking_spaces</th>\n",
       "      <th>total_of_special_requests</th>\n",
       "    </tr>\n",
       "  </thead>\n",
       "  <tbody>\n",
       "    <tr>\n",
       "      <th>count</th>\n",
       "      <td>119390.000000</td>\n",
       "      <td>119390.000000</td>\n",
       "      <td>119390.000000</td>\n",
       "      <td>119390.000000</td>\n",
       "      <td>119390.000000</td>\n",
       "      <td>119390.000000</td>\n",
       "      <td>119390.000000</td>\n",
       "      <td>119390.000000</td>\n",
       "      <td>119386.000000</td>\n",
       "      <td>119390.000000</td>\n",
       "      <td>119390.000000</td>\n",
       "      <td>119390.000000</td>\n",
       "      <td>119390.000000</td>\n",
       "      <td>119390.000000</td>\n",
       "      <td>119390.000000</td>\n",
       "      <td>119390.000000</td>\n",
       "      <td>119390.000000</td>\n",
       "      <td>119390.000000</td>\n",
       "    </tr>\n",
       "    <tr>\n",
       "      <th>mean</th>\n",
       "      <td>0.370416</td>\n",
       "      <td>104.011416</td>\n",
       "      <td>2016.156554</td>\n",
       "      <td>27.165173</td>\n",
       "      <td>15.798241</td>\n",
       "      <td>0.927599</td>\n",
       "      <td>2.500302</td>\n",
       "      <td>1.856403</td>\n",
       "      <td>0.103890</td>\n",
       "      <td>0.007949</td>\n",
       "      <td>0.031912</td>\n",
       "      <td>0.087118</td>\n",
       "      <td>0.137097</td>\n",
       "      <td>0.221124</td>\n",
       "      <td>2.321149</td>\n",
       "      <td>101.831122</td>\n",
       "      <td>0.062518</td>\n",
       "      <td>0.571363</td>\n",
       "    </tr>\n",
       "    <tr>\n",
       "      <th>std</th>\n",
       "      <td>0.482918</td>\n",
       "      <td>106.863097</td>\n",
       "      <td>0.707476</td>\n",
       "      <td>13.605138</td>\n",
       "      <td>8.780829</td>\n",
       "      <td>0.998613</td>\n",
       "      <td>1.908286</td>\n",
       "      <td>0.579261</td>\n",
       "      <td>0.398561</td>\n",
       "      <td>0.097436</td>\n",
       "      <td>0.175767</td>\n",
       "      <td>0.844336</td>\n",
       "      <td>1.497437</td>\n",
       "      <td>0.652306</td>\n",
       "      <td>17.594721</td>\n",
       "      <td>50.535790</td>\n",
       "      <td>0.245291</td>\n",
       "      <td>0.792798</td>\n",
       "    </tr>\n",
       "    <tr>\n",
       "      <th>min</th>\n",
       "      <td>0.000000</td>\n",
       "      <td>0.000000</td>\n",
       "      <td>2015.000000</td>\n",
       "      <td>1.000000</td>\n",
       "      <td>1.000000</td>\n",
       "      <td>0.000000</td>\n",
       "      <td>0.000000</td>\n",
       "      <td>0.000000</td>\n",
       "      <td>0.000000</td>\n",
       "      <td>0.000000</td>\n",
       "      <td>0.000000</td>\n",
       "      <td>0.000000</td>\n",
       "      <td>0.000000</td>\n",
       "      <td>0.000000</td>\n",
       "      <td>0.000000</td>\n",
       "      <td>-6.380000</td>\n",
       "      <td>0.000000</td>\n",
       "      <td>0.000000</td>\n",
       "    </tr>\n",
       "    <tr>\n",
       "      <th>25%</th>\n",
       "      <td>0.000000</td>\n",
       "      <td>18.000000</td>\n",
       "      <td>2016.000000</td>\n",
       "      <td>16.000000</td>\n",
       "      <td>8.000000</td>\n",
       "      <td>0.000000</td>\n",
       "      <td>1.000000</td>\n",
       "      <td>2.000000</td>\n",
       "      <td>0.000000</td>\n",
       "      <td>0.000000</td>\n",
       "      <td>0.000000</td>\n",
       "      <td>0.000000</td>\n",
       "      <td>0.000000</td>\n",
       "      <td>0.000000</td>\n",
       "      <td>0.000000</td>\n",
       "      <td>69.290000</td>\n",
       "      <td>0.000000</td>\n",
       "      <td>0.000000</td>\n",
       "    </tr>\n",
       "    <tr>\n",
       "      <th>50%</th>\n",
       "      <td>0.000000</td>\n",
       "      <td>69.000000</td>\n",
       "      <td>2016.000000</td>\n",
       "      <td>28.000000</td>\n",
       "      <td>16.000000</td>\n",
       "      <td>1.000000</td>\n",
       "      <td>2.000000</td>\n",
       "      <td>2.000000</td>\n",
       "      <td>0.000000</td>\n",
       "      <td>0.000000</td>\n",
       "      <td>0.000000</td>\n",
       "      <td>0.000000</td>\n",
       "      <td>0.000000</td>\n",
       "      <td>0.000000</td>\n",
       "      <td>0.000000</td>\n",
       "      <td>94.575000</td>\n",
       "      <td>0.000000</td>\n",
       "      <td>0.000000</td>\n",
       "    </tr>\n",
       "    <tr>\n",
       "      <th>75%</th>\n",
       "      <td>1.000000</td>\n",
       "      <td>160.000000</td>\n",
       "      <td>2017.000000</td>\n",
       "      <td>38.000000</td>\n",
       "      <td>23.000000</td>\n",
       "      <td>2.000000</td>\n",
       "      <td>3.000000</td>\n",
       "      <td>2.000000</td>\n",
       "      <td>0.000000</td>\n",
       "      <td>0.000000</td>\n",
       "      <td>0.000000</td>\n",
       "      <td>0.000000</td>\n",
       "      <td>0.000000</td>\n",
       "      <td>0.000000</td>\n",
       "      <td>0.000000</td>\n",
       "      <td>126.000000</td>\n",
       "      <td>0.000000</td>\n",
       "      <td>1.000000</td>\n",
       "    </tr>\n",
       "    <tr>\n",
       "      <th>max</th>\n",
       "      <td>1.000000</td>\n",
       "      <td>737.000000</td>\n",
       "      <td>2017.000000</td>\n",
       "      <td>53.000000</td>\n",
       "      <td>31.000000</td>\n",
       "      <td>19.000000</td>\n",
       "      <td>50.000000</td>\n",
       "      <td>55.000000</td>\n",
       "      <td>10.000000</td>\n",
       "      <td>10.000000</td>\n",
       "      <td>1.000000</td>\n",
       "      <td>26.000000</td>\n",
       "      <td>72.000000</td>\n",
       "      <td>21.000000</td>\n",
       "      <td>391.000000</td>\n",
       "      <td>5400.000000</td>\n",
       "      <td>8.000000</td>\n",
       "      <td>5.000000</td>\n",
       "    </tr>\n",
       "  </tbody>\n",
       "</table>\n",
       "</div>"
      ],
      "text/plain": [
       "         is_canceled      lead_time  arrival_date_year  \\\n",
       "count  119390.000000  119390.000000      119390.000000   \n",
       "mean        0.370416     104.011416        2016.156554   \n",
       "std         0.482918     106.863097           0.707476   \n",
       "min         0.000000       0.000000        2015.000000   \n",
       "25%         0.000000      18.000000        2016.000000   \n",
       "50%         0.000000      69.000000        2016.000000   \n",
       "75%         1.000000     160.000000        2017.000000   \n",
       "max         1.000000     737.000000        2017.000000   \n",
       "\n",
       "       arrival_date_week_number  arrival_date_day_of_month  \\\n",
       "count             119390.000000              119390.000000   \n",
       "mean                  27.165173                  15.798241   \n",
       "std                   13.605138                   8.780829   \n",
       "min                    1.000000                   1.000000   \n",
       "25%                   16.000000                   8.000000   \n",
       "50%                   28.000000                  16.000000   \n",
       "75%                   38.000000                  23.000000   \n",
       "max                   53.000000                  31.000000   \n",
       "\n",
       "       stays_in_weekend_nights  stays_in_week_nights         adults  \\\n",
       "count            119390.000000         119390.000000  119390.000000   \n",
       "mean                  0.927599              2.500302       1.856403   \n",
       "std                   0.998613              1.908286       0.579261   \n",
       "min                   0.000000              0.000000       0.000000   \n",
       "25%                   0.000000              1.000000       2.000000   \n",
       "50%                   1.000000              2.000000       2.000000   \n",
       "75%                   2.000000              3.000000       2.000000   \n",
       "max                  19.000000             50.000000      55.000000   \n",
       "\n",
       "            children         babies  is_repeated_guest  \\\n",
       "count  119386.000000  119390.000000      119390.000000   \n",
       "mean        0.103890       0.007949           0.031912   \n",
       "std         0.398561       0.097436           0.175767   \n",
       "min         0.000000       0.000000           0.000000   \n",
       "25%         0.000000       0.000000           0.000000   \n",
       "50%         0.000000       0.000000           0.000000   \n",
       "75%         0.000000       0.000000           0.000000   \n",
       "max        10.000000      10.000000           1.000000   \n",
       "\n",
       "       previous_cancellations  previous_bookings_not_canceled  \\\n",
       "count           119390.000000                   119390.000000   \n",
       "mean                 0.087118                        0.137097   \n",
       "std                  0.844336                        1.497437   \n",
       "min                  0.000000                        0.000000   \n",
       "25%                  0.000000                        0.000000   \n",
       "50%                  0.000000                        0.000000   \n",
       "75%                  0.000000                        0.000000   \n",
       "max                 26.000000                       72.000000   \n",
       "\n",
       "       booking_changes  days_in_waiting_list            adr  \\\n",
       "count    119390.000000         119390.000000  119390.000000   \n",
       "mean          0.221124              2.321149     101.831122   \n",
       "std           0.652306             17.594721      50.535790   \n",
       "min           0.000000              0.000000      -6.380000   \n",
       "25%           0.000000              0.000000      69.290000   \n",
       "50%           0.000000              0.000000      94.575000   \n",
       "75%           0.000000              0.000000     126.000000   \n",
       "max          21.000000            391.000000    5400.000000   \n",
       "\n",
       "       required_car_parking_spaces  total_of_special_requests  \n",
       "count                119390.000000              119390.000000  \n",
       "mean                      0.062518                   0.571363  \n",
       "std                       0.245291                   0.792798  \n",
       "min                       0.000000                   0.000000  \n",
       "25%                       0.000000                   0.000000  \n",
       "50%                       0.000000                   0.000000  \n",
       "75%                       0.000000                   1.000000  \n",
       "max                       8.000000                   5.000000  "
      ]
     },
     "execution_count": 6,
     "metadata": {},
     "output_type": "execute_result"
    }
   ],
   "source": [
    "# summary statistics of columns\n",
    "hotel.describe()"
   ]
  },
  {
   "cell_type": "markdown",
   "id": "25cd386a",
   "metadata": {},
   "source": [
    "## Data Preparation\n",
    "In this section, we will perform data cleaning to prepare the dataset for analysis, the various data cleaning methods that are to be used will be;\n",
    "- Checking and removing duplicates \n",
    "- Dealing with missing data \n",
    "- Checking if columns are of required data type "
   ]
  },
  {
   "cell_type": "markdown",
   "id": "13048b5a",
   "metadata": {},
   "source": [
    "#### Dealing with duplicates"
   ]
  },
  {
   "cell_type": "code",
   "execution_count": 7,
   "id": "0ee2acc0",
   "metadata": {},
   "outputs": [
    {
     "name": "stdout",
     "output_type": "stream",
     "text": [
      "Duplicated: 32280\n"
     ]
    },
    {
     "data": {
      "text/plain": [
       "(87110, 28)"
      ]
     },
     "execution_count": 7,
     "metadata": {},
     "output_type": "execute_result"
    }
   ],
   "source": [
    "# checking for duplicates\n",
    "print(f\"Duplicated: {hotel.duplicated().sum()}\")\n",
    "\n",
    "# droping duplicates\n",
    "hotel.drop_duplicates(inplace=True)\n",
    "hotel.shape"
   ]
  },
  {
   "cell_type": "markdown",
   "id": "ffb2766e",
   "metadata": {},
   "source": [
    "#### Dealing with missing values "
   ]
  },
  {
   "cell_type": "code",
   "execution_count": 8,
   "id": "e10842ac",
   "metadata": {},
   "outputs": [
    {
     "data": {
      "text/plain": [
       "hotel                               0\n",
       "is_canceled                         0\n",
       "lead_time                           0\n",
       "arrival_date_year                   0\n",
       "arrival_date_month                  0\n",
       "arrival_date_week_number            0\n",
       "arrival_date_day_of_month           0\n",
       "stays_in_weekend_nights             0\n",
       "stays_in_week_nights                0\n",
       "adults                              0\n",
       "children                            4\n",
       "babies                              0\n",
       "meal                                0\n",
       "country                           451\n",
       "market_segment                      0\n",
       "distribution_channel                0\n",
       "is_repeated_guest                   0\n",
       "previous_cancellations              0\n",
       "previous_bookings_not_canceled      0\n",
       "reserved_room_type                  0\n",
       "assigned_room_type                  0\n",
       "booking_changes                     0\n",
       "deposit_type                        0\n",
       "days_in_waiting_list                0\n",
       "customer_type                       0\n",
       "adr                                 0\n",
       "required_car_parking_spaces         0\n",
       "total_of_special_requests           0\n",
       "dtype: int64"
      ]
     },
     "execution_count": 8,
     "metadata": {},
     "output_type": "execute_result"
    }
   ],
   "source": [
    "# checking for missing values\n",
    "hotel.isna().sum()"
   ]
  },
  {
   "cell_type": "markdown",
   "id": "254aab2e",
   "metadata": {},
   "source": [
    "> Since out children column has only 4 missing values, therefore we can impute with median not to affect the distribution of the column"
   ]
  },
  {
   "cell_type": "code",
   "execution_count": 9,
   "id": "5a8d43cd",
   "metadata": {},
   "outputs": [],
   "source": [
    "# since children has 4 missing values we impute the median since it is least affected by outliers\n",
    "hotel.children.fillna(value= hotel.children.median(), inplace=True )"
   ]
  },
  {
   "cell_type": "markdown",
   "id": "83e36603",
   "metadata": {},
   "source": [
    "> Also since the country column has missing values, we will impute the missing values with \"missing\" value not fo affect the distribution of our column values."
   ]
  },
  {
   "cell_type": "code",
   "execution_count": 10,
   "id": "b8c26605",
   "metadata": {},
   "outputs": [],
   "source": [
    "# country fill missing with \"missing\" value\n",
    "hotel.country.fillna(value= 'missing', inplace=True )"
   ]
  },
  {
   "cell_type": "code",
   "execution_count": 11,
   "id": "08a97600",
   "metadata": {},
   "outputs": [
    {
     "data": {
      "text/plain": [
       "hotel                             0\n",
       "is_canceled                       0\n",
       "lead_time                         0\n",
       "arrival_date_year                 0\n",
       "arrival_date_month                0\n",
       "arrival_date_week_number          0\n",
       "arrival_date_day_of_month         0\n",
       "stays_in_weekend_nights           0\n",
       "stays_in_week_nights              0\n",
       "adults                            0\n",
       "children                          0\n",
       "babies                            0\n",
       "meal                              0\n",
       "country                           0\n",
       "market_segment                    0\n",
       "distribution_channel              0\n",
       "is_repeated_guest                 0\n",
       "previous_cancellations            0\n",
       "previous_bookings_not_canceled    0\n",
       "reserved_room_type                0\n",
       "assigned_room_type                0\n",
       "booking_changes                   0\n",
       "deposit_type                      0\n",
       "days_in_waiting_list              0\n",
       "customer_type                     0\n",
       "adr                               0\n",
       "required_car_parking_spaces       0\n",
       "total_of_special_requests         0\n",
       "dtype: int64"
      ]
     },
     "execution_count": 11,
     "metadata": {},
     "output_type": "execute_result"
    }
   ],
   "source": [
    "# confirming our changes\n",
    "hotel.isna().sum()"
   ]
  },
  {
   "cell_type": "code",
   "execution_count": 12,
   "id": "33c3fd32",
   "metadata": {},
   "outputs": [
    {
     "name": "stdout",
     "output_type": "stream",
     "text": [
      "<class 'pandas.core.frame.DataFrame'>\n",
      "Int64Index: 87110 entries, 0 to 119389\n",
      "Data columns (total 28 columns):\n",
      " #   Column                          Non-Null Count  Dtype  \n",
      "---  ------                          --------------  -----  \n",
      " 0   hotel                           87110 non-null  object \n",
      " 1   is_canceled                     87110 non-null  int64  \n",
      " 2   lead_time                       87110 non-null  int64  \n",
      " 3   arrival_date_year               87110 non-null  int64  \n",
      " 4   arrival_date_month              87110 non-null  object \n",
      " 5   arrival_date_week_number        87110 non-null  int64  \n",
      " 6   arrival_date_day_of_month       87110 non-null  int64  \n",
      " 7   stays_in_weekend_nights         87110 non-null  int64  \n",
      " 8   stays_in_week_nights            87110 non-null  int64  \n",
      " 9   adults                          87110 non-null  int64  \n",
      " 10  children                        87110 non-null  float64\n",
      " 11  babies                          87110 non-null  int64  \n",
      " 12  meal                            87110 non-null  object \n",
      " 13  country                         87110 non-null  object \n",
      " 14  market_segment                  87110 non-null  object \n",
      " 15  distribution_channel            87110 non-null  object \n",
      " 16  is_repeated_guest               87110 non-null  int64  \n",
      " 17  previous_cancellations          87110 non-null  int64  \n",
      " 18  previous_bookings_not_canceled  87110 non-null  int64  \n",
      " 19  reserved_room_type              87110 non-null  object \n",
      " 20  assigned_room_type              87110 non-null  object \n",
      " 21  booking_changes                 87110 non-null  int64  \n",
      " 22  deposit_type                    87110 non-null  object \n",
      " 23  days_in_waiting_list            87110 non-null  int64  \n",
      " 24  customer_type                   87110 non-null  object \n",
      " 25  adr                             87110 non-null  float64\n",
      " 26  required_car_parking_spaces     87110 non-null  int64  \n",
      " 27  total_of_special_requests       87110 non-null  int64  \n",
      "dtypes: float64(2), int64(16), object(10)\n",
      "memory usage: 19.3+ MB\n"
     ]
    }
   ],
   "source": [
    "# confirming the columns data types\n",
    "hotel.info()"
   ]
  },
  {
   "cell_type": "markdown",
   "id": "44a7f960",
   "metadata": {},
   "source": [
    "All the columns are of requried data types"
   ]
  },
  {
   "cell_type": "markdown",
   "id": "a35de196",
   "metadata": {},
   "source": [
    "## Explolatory Data Analysis"
   ]
  },
  {
   "cell_type": "markdown",
   "id": "29df9f84",
   "metadata": {},
   "source": [
    "In order to develop a model from the dataset,it is necessary to explore the dataset exhaustively to gain a better understanding therefore we will perform explolatory analsis while exploring the various research questions. "
   ]
  },
  {
   "cell_type": "code",
   "execution_count": 13,
   "id": "64dcba5c",
   "metadata": {},
   "outputs": [
    {
     "name": "stdout",
     "output_type": "stream",
     "text": [
      "0    0.72723\n",
      "1    0.27277\n",
      "Name: is_canceled, dtype: float64\n"
     ]
    },
    {
     "data": {
      "image/png": "[encoded data removed]",
      "text/plain": [
       "<Figure size 640x480 with 1 Axes>"
      ]
     },
     "metadata": {},
     "output_type": "display_data"
    }
   ],
   "source": [
    "# ploting value counts of our dependent variable\n",
    "\n",
    "print(hotel.is_canceled.value_counts(normalize=True))\n",
    "sns.countplot(x=hotel.is_canceled.replace({1:'Canceled',0:'Not Canceled'}))\n",
    "plt.title(\"Reservation Status\");"
   ]
  },
  {
   "cell_type": "markdown",
   "id": "a6061dd6",
   "metadata": {},
   "source": [
    "From the graph above, 72% of the reservations were not canceled while 27% that were canceled. To our model this represents class imbalance and will be delt with in later sections \n",
    "\n",
    "Then we plot the most busy months for the hotel."
   ]
  },
  {
   "cell_type": "code",
   "execution_count": 14,
   "id": "d99a8190",
   "metadata": {},
   "outputs": [
    {
     "data": {
      "image/png": "[encoded data removed]",
      "text/plain": [
       "<Figure size 800x400 with 1 Axes>"
      ]
     },
     "metadata": {},
     "output_type": "display_data"
    }
   ],
   "source": [
    "# Convert 'arrival_date_month' to a categorical data type with correct ordering\n",
    "month_order = [\n",
    "    'January', 'February', 'March', 'April', 'May', 'June',\n",
    "    'July', 'August', 'September', 'October', 'November', 'December'\n",
    "]\n",
    "\n",
    "hotel['arrival_date_month'] = pd.Categorical(\n",
    "    hotel['arrival_date_month'], categories=month_order, ordered=True\n",
    ")\n",
    "\n",
    "# Group data by month and calculate counts\n",
    "monthly_counts = hotel.groupby('arrival_date_month').size().reset_index(name='total_bookings')\n",
    "\n",
    "cancelled_counts = hotel[hotel['is_canceled'] == 1].groupby('arrival_date_month').size()\\\n",
    "    .reset_index(name='total_cancellations')\n",
    "\n",
    "# Merge the two count DataFrames\n",
    "result = pd.merge(monthly_counts, cancelled_counts, on='arrival_date_month')\n",
    "\n",
    "#Plotting\n",
    "plt.figure(figsize=(8, 4))\n",
    "sns.barplot(x='arrival_date_month', y='total_bookings', \n",
    "            data=result, color='skyblue', label='Total Bookings')\n",
    "sns.barplot(x='arrival_date_month', y='total_cancellations',\n",
    "            data=result, color='salmon', label='Total Cancellations')\n",
    "plt.xlabel('Month')\n",
    "plt.ylabel('Counts')\n",
    "plt.title('Busiest Months in Hotel Bookings and Cancellations')\n",
    "plt.xticks(rotation=45)\n",
    "plt.legend()\n",
    "plt.tight_layout()\n",
    "plt.show()"
   ]
  },
  {
   "cell_type": "markdown",
   "id": "0f38be43",
   "metadata": {},
   "source": [
    "From the graph, we can observe trends in booking and cancellation activity across the months.\n",
    "\n",
    "Although the summer months of July and August have the most reservations, they also continue to have high cancellation rates, which could mean that travellers are more flexible with their plans at this time of year. On the other hand, although there are fewer bookings made during months like January, February, November, and December, there are also fewer cancellations, maybe as a result of a more rigid plans. "
   ]
  },
  {
   "cell_type": "code",
   "execution_count": 15,
   "id": "32b1217c",
   "metadata": {},
   "outputs": [
    {
     "data": {
      "image/png": "[encoded data removed]",
      "text/plain": [
       "<Figure size 600x400 with 1 Axes>"
      ]
     },
     "metadata": {},
     "output_type": "display_data"
    }
   ],
   "source": [
    "# Selecting and counting number of cancelled bookings for each hotel.\n",
    "\n",
    "# filtering the DataFrame to include only rows where bookings are canceled\n",
    "cancelled_data = hotel[hotel['is_canceled'] == 1]\n",
    "\n",
    "# grouping the filtered data by the 'hotel' column.\n",
    "cancel_grp = cancelled_data.groupby('hotel')\n",
    "\n",
    "# calculates the size (count) of each group \n",
    "# creating a DataFrame d_1 with the number of cancelled bookings for each hotel\n",
    "d_1 = pd.DataFrame(cancel_grp.size()).rename(columns = {0:'total_cancelled_bookings'})\n",
    "\n",
    "# Counting total number of bookings for each type of hotel\n",
    "grouped_by_hotel = hotel.groupby('hotel')\n",
    "total_booking = grouped_by_hotel.size()\n",
    "d_2 = pd.DataFrame(total_booking).rename(columns = {0: 'total_bookings'})\n",
    "\n",
    "d_3 = pd.concat([d_1, d_2], axis = 1)\n",
    "\n",
    "# Calculating cancel percentage \n",
    "d_3['cancel_%'] = round((d_3['total_cancelled_bookings']/d_3['total_bookings'])*100,2)\n",
    "\n",
    "# plotting the graph\n",
    "plt.figure(figsize=(6, 4))\n",
    "sns.barplot(x=d_3.index, y=d_3['cancel_%'], width=0.2)\n",
    "plt.xlabel('Hotel Type')\n",
    "plt.ylabel('Cancellation_%')\n",
    "plt.title('Cancellation Rate Percent by Hotel Type');"
   ]
  },
  {
   "cell_type": "markdown",
   "id": "d97a6a88",
   "metadata": {},
   "source": [
    "> It is evident that the City Hotel had a significantly higher churn rate in comparison to the Resort Hotel. Nearly 30% of the bookings at the City Hotel were canceled."
   ]
  },
  {
   "cell_type": "code",
   "execution_count": 16,
   "id": "61dbfd46",
   "metadata": {},
   "outputs": [
    {
     "data": {
      "image/png": "[encoded data removed]",
      "text/plain": [
       "<Figure size 1500x500 with 3 Axes>"
      ]
     },
     "metadata": {},
     "output_type": "display_data"
    }
   ],
   "source": [
    "# creating the plotting axes\n",
    "fig, ax=plt.subplots(ncols=3, figsize=(15,5))\n",
    "\n",
    "# grouping our data by room_type inorder to get the total number of reservations per toom type\n",
    "hotel.groupby('assigned_room_type')['is_canceled'].count().\\\n",
    "            plot.bar(ax=ax[0],color='tab:blue')                         # creating a bar plot for the first axis\n",
    "ax[0].set_ylabel(\"Count\")                                               #labeling the y axis\n",
    "ax[0].set_title(\"Number of Reservations per Room Type\", fontsize='11')  # setting the subplot title\n",
    "\n",
    "\n",
    "# creating a pivot table for the number of booking changes that happened for each room type\n",
    "pd.pivot_table(hotel,                                                   # data\n",
    "               values='booking_changes',                                # values used for aggregation\n",
    "               index=['assigned_room_type'],                            # column used as index\n",
    "               aggfunc=[np.sum] )[('sum', 'booking_changes')].\\\n",
    "            plot.bar(ax=ax[1], color=\"tab:blue\")                        # bar plot for middle axis               \n",
    "ax[1].set_ylabel(\"Count\")                                               # y axis labe\n",
    "ax[1].set_title(\"Total Booking changes per Room Type\", fontsize='11')   # title\n",
    "\n",
    "\n",
    "# creating a pivot table for the mean number of booking changes that happened for each room type\n",
    "pd.pivot_table(hotel,                                                 # data\n",
    "               values='booking_changes',                              # values used for aggregation\n",
    "               index=['assigned_room_type'],                          # column used for grouping\n",
    "               aggfunc=[np.mean])[('mean', 'booking_changes')].\\\n",
    "            plot.bar(ax=ax[2], color=\"tab:blue\")                              # bar plot for the third axis\n",
    "ax[2].set_ylabel(\"Count\")                                             # y axis label\n",
    "ax[2].set_title(\"Average Booking changes per Room Type\", fontsize='11') # title\n",
    "\n",
    "plt.tight_layout()\n",
    "plt.show();"
   ]
  },
  {
   "cell_type": "markdown",
   "id": "c73c5e28",
   "metadata": {},
   "source": [
    "From the graphs above:\n",
    "- The room_type A gote the many reservations and also due to the high number of reservations it got the most booking changes\n",
    "- Room_type B got the most mean booking changes while it had few bookings therefore that particular room type should be imporved or upgraded because most most are changing their booking on that particular room-type"
   ]
  },
  {
   "cell_type": "code",
   "execution_count": 17,
   "id": "3ecc6277",
   "metadata": {},
   "outputs": [
    {
     "data": {
      "image/png": "[encoded data removed]",
      "text/plain": [
       "<Figure size 1400x500 with 2 Axes>"
      ]
     },
     "metadata": {},
     "output_type": "display_data"
    }
   ],
   "source": [
    "# creating the plotting axes and figure size\n",
    "fig, axes=plt.subplots(ncols=2, figsize=(14,5))\n",
    "\n",
    "# grouping the canceled rows by distribution_channel to get the total number of canceled reservations \n",
    "#obtained from each channel\n",
    "hotel.groupby('distribution_channel')['distribution_channel'].count().\\\n",
    "            plot.bar(ax=axes[0],color='tab:blue')                                           #creating the bar plot\n",
    "axes[0].set_title(\"Canceled Reservation per Distribution Channel\", fontsize='10')           # axis title\n",
    "axes[0].set_ylabel(\"Counts\")                                                                # y axis label\n",
    "\n",
    "\n",
    "# grouping the whole dataframe and by mean aggregate to get the mean number of canceled reservations for each channel\n",
    "data3= hotel[['is_canceled','distribution_channel']].groupby(['distribution_channel']).mean().\\\n",
    "            plot.bar(ax=axes[1], color='tab:red')                                                 # creating bar plot\n",
    "axes[1].set_title(\"Mean Churning per Distribution Channel\", fontsize='10')                        # axis title\n",
    "axes[1].set_ylabel(\"Cancellation Rate\")                                                           # y axis label\n",
    "\n",
    "\n",
    "plt.tight_layout()\n",
    "plt.show();"
   ]
  },
  {
   "cell_type": "markdown",
   "id": "b53cd2e9",
   "metadata": {},
   "source": [
    "From the graphs above;\n",
    "- The most of the reservations were obtained from the TA/TO (ie Travel Agencies and Tour Operators) channels\n",
    "- Due to the fact the TA?TO channel had the most reservations therefore it would also have the most canceled reservations therefore we used mean to determine. The channel with the most mean reservation canceling were the reservations obatined from Undefined channels followed by the Travel Agencies channel.\n"
   ]
  },
  {
   "cell_type": "code",
   "execution_count": 18,
   "id": "44c0513b",
   "metadata": {},
   "outputs": [
    {
     "data": {
      "image/png": "[encoded data removed]",
      "text/plain": [
       "<Figure size 1000x400 with 2 Axes>"
      ]
     },
     "metadata": {},
     "output_type": "display_data"
    }
   ],
   "source": [
    "# creating the plotting axes\n",
    "fig, axes=plt.subplots(ncols=2, figsize=(10,4))\n",
    "\n",
    "# grouping our data country and selecting the top 10  countries with the most reservation requests\n",
    "hotel.groupby('country')['is_canceled'].count().\\\n",
    "            sort_values( ascending=False)[:10].\\\n",
    "            plot.bar(ax=axes[0],color='tab:blue')                                 # plotting barplot\n",
    "axes[0].set_title(\"Number of reservations per Country\",fontsize='10')             # setting axis title\n",
    "axes[0].set_ylabel(\"Count\")                                                       # setting y axis label\n",
    "\n",
    "# pivoting our data country a to get the mean reservation cancelation rate for each country\n",
    "data=pd.pivot_table(hotel,                                                        # creating pivot table\n",
    "                    values='is_canceled',                                         # is_canceled column used for aggregation\n",
    "                    index=['country'],                                            # grouping by country column\n",
    "                    aggfunc=[np.mean])\n",
    "\n",
    "# using the pivot output to display the top 10 countries with most reservation cancelations\n",
    "data[data[('mean', 'is_canceled')]!=1].\\\n",
    "            sort_values(by=('mean', 'is_canceled') ,ascending=False)[:10].\\\n",
    "            plot.bar(ax=axes[1],color='tab:blue')                                  # creating the bar plot\n",
    "axes[1].set_title(\"Mean Churning per Country\",fontsize='10' )                      # setting axis title\n",
    "axes[1].set_ylabel(\"Mean\")                                                         # setting y label\n",
    "\n",
    "plt.tight_layout()\n",
    "plt.show()"
   ]
  },
  {
   "cell_type": "markdown",
   "id": "3d8ba053",
   "metadata": {},
   "source": [
    "From the graphs above;\n",
    "- PRT (Portugal) had the most reservations since the hotels are located in Portugal. GBR( United Kingdom of Great Britain and Northern Ireland), FRA(France) and ESP(Spain) were the top 3 most international reservations obtained. Therefore more resources / offers should be directed to those countries to boost their booking rates.\n",
    "- HKG(Hong Kong), MAC(Macao) and ARE( United Arab Emirates) are the top 3with the most canceled rate. the Management should device startegies , like tayloring those countries specialised rooms or menu, to reduce the cancelation rate from those countries and increase bookings"
   ]
  },
  {
   "cell_type": "markdown",
   "id": "110d73c9",
   "metadata": {},
   "source": [
    "### Creating dummy variables with one hot encoding"
   ]
  },
  {
   "cell_type": "code",
   "execution_count": 19,
   "id": "c7fb3362",
   "metadata": {},
   "outputs": [
    {
     "data": {
      "text/html": [
       "<div>\n",
       "<style scoped>\n",
       "    .dataframe tbody tr th:only-of-type {\n",
       "        vertical-align: middle;\n",
       "    }\n",
       "\n",
       "    .dataframe tbody tr th {\n",
       "        vertical-align: top;\n",
       "    }\n",
       "\n",
       "    .dataframe thead th {\n",
       "        text-align: right;\n",
       "    }\n",
       "</style>\n",
       "<table border=\"1\" class=\"dataframe\">\n",
       "  <thead>\n",
       "    <tr style=\"text-align: right;\">\n",
       "      <th></th>\n",
       "      <th>is_canceled</th>\n",
       "      <th>lead_time</th>\n",
       "      <th>arrival_date_year</th>\n",
       "      <th>arrival_date_week_number</th>\n",
       "      <th>arrival_date_day_of_month</th>\n",
       "      <th>stays_in_weekend_nights</th>\n",
       "      <th>stays_in_week_nights</th>\n",
       "      <th>adults</th>\n",
       "      <th>children</th>\n",
       "      <th>babies</th>\n",
       "      <th>...</th>\n",
       "      <th>assigned_room_type_H</th>\n",
       "      <th>assigned_room_type_I</th>\n",
       "      <th>assigned_room_type_K</th>\n",
       "      <th>assigned_room_type_L</th>\n",
       "      <th>assigned_room_type_P</th>\n",
       "      <th>deposit_type_Non Refund</th>\n",
       "      <th>deposit_type_Refundable</th>\n",
       "      <th>customer_type_Group</th>\n",
       "      <th>customer_type_Transient</th>\n",
       "      <th>customer_type_Transient-Party</th>\n",
       "    </tr>\n",
       "  </thead>\n",
       "  <tbody>\n",
       "    <tr>\n",
       "      <th>0</th>\n",
       "      <td>0</td>\n",
       "      <td>342</td>\n",
       "      <td>2015</td>\n",
       "      <td>27</td>\n",
       "      <td>1</td>\n",
       "      <td>0</td>\n",
       "      <td>0</td>\n",
       "      <td>2</td>\n",
       "      <td>0.0</td>\n",
       "      <td>0</td>\n",
       "      <td>...</td>\n",
       "      <td>0</td>\n",
       "      <td>0</td>\n",
       "      <td>0</td>\n",
       "      <td>0</td>\n",
       "      <td>0</td>\n",
       "      <td>0</td>\n",
       "      <td>0</td>\n",
       "      <td>0</td>\n",
       "      <td>1</td>\n",
       "      <td>0</td>\n",
       "    </tr>\n",
       "    <tr>\n",
       "      <th>1</th>\n",
       "      <td>0</td>\n",
       "      <td>737</td>\n",
       "      <td>2015</td>\n",
       "      <td>27</td>\n",
       "      <td>1</td>\n",
       "      <td>0</td>\n",
       "      <td>0</td>\n",
       "      <td>2</td>\n",
       "      <td>0.0</td>\n",
       "      <td>0</td>\n",
       "      <td>...</td>\n",
       "      <td>0</td>\n",
       "      <td>0</td>\n",
       "      <td>0</td>\n",
       "      <td>0</td>\n",
       "      <td>0</td>\n",
       "      <td>0</td>\n",
       "      <td>0</td>\n",
       "      <td>0</td>\n",
       "      <td>1</td>\n",
       "      <td>0</td>\n",
       "    </tr>\n",
       "    <tr>\n",
       "      <th>2</th>\n",
       "      <td>0</td>\n",
       "      <td>7</td>\n",
       "      <td>2015</td>\n",
       "      <td>27</td>\n",
       "      <td>1</td>\n",
       "      <td>0</td>\n",
       "      <td>1</td>\n",
       "      <td>1</td>\n",
       "      <td>0.0</td>\n",
       "      <td>0</td>\n",
       "      <td>...</td>\n",
       "      <td>0</td>\n",
       "      <td>0</td>\n",
       "      <td>0</td>\n",
       "      <td>0</td>\n",
       "      <td>0</td>\n",
       "      <td>0</td>\n",
       "      <td>0</td>\n",
       "      <td>0</td>\n",
       "      <td>1</td>\n",
       "      <td>0</td>\n",
       "    </tr>\n",
       "    <tr>\n",
       "      <th>3</th>\n",
       "      <td>0</td>\n",
       "      <td>13</td>\n",
       "      <td>2015</td>\n",
       "      <td>27</td>\n",
       "      <td>1</td>\n",
       "      <td>0</td>\n",
       "      <td>1</td>\n",
       "      <td>1</td>\n",
       "      <td>0.0</td>\n",
       "      <td>0</td>\n",
       "      <td>...</td>\n",
       "      <td>0</td>\n",
       "      <td>0</td>\n",
       "      <td>0</td>\n",
       "      <td>0</td>\n",
       "      <td>0</td>\n",
       "      <td>0</td>\n",
       "      <td>0</td>\n",
       "      <td>0</td>\n",
       "      <td>1</td>\n",
       "      <td>0</td>\n",
       "    </tr>\n",
       "    <tr>\n",
       "      <th>4</th>\n",
       "      <td>0</td>\n",
       "      <td>14</td>\n",
       "      <td>2015</td>\n",
       "      <td>27</td>\n",
       "      <td>1</td>\n",
       "      <td>0</td>\n",
       "      <td>2</td>\n",
       "      <td>2</td>\n",
       "      <td>0.0</td>\n",
       "      <td>0</td>\n",
       "      <td>...</td>\n",
       "      <td>0</td>\n",
       "      <td>0</td>\n",
       "      <td>0</td>\n",
       "      <td>0</td>\n",
       "      <td>0</td>\n",
       "      <td>0</td>\n",
       "      <td>0</td>\n",
       "      <td>0</td>\n",
       "      <td>1</td>\n",
       "      <td>0</td>\n",
       "    </tr>\n",
       "    <tr>\n",
       "      <th>...</th>\n",
       "      <td>...</td>\n",
       "      <td>...</td>\n",
       "      <td>...</td>\n",
       "      <td>...</td>\n",
       "      <td>...</td>\n",
       "      <td>...</td>\n",
       "      <td>...</td>\n",
       "      <td>...</td>\n",
       "      <td>...</td>\n",
       "      <td>...</td>\n",
       "      <td>...</td>\n",
       "      <td>...</td>\n",
       "      <td>...</td>\n",
       "      <td>...</td>\n",
       "      <td>...</td>\n",
       "      <td>...</td>\n",
       "      <td>...</td>\n",
       "      <td>...</td>\n",
       "      <td>...</td>\n",
       "      <td>...</td>\n",
       "      <td>...</td>\n",
       "    </tr>\n",
       "    <tr>\n",
       "      <th>119385</th>\n",
       "      <td>0</td>\n",
       "      <td>23</td>\n",
       "      <td>2017</td>\n",
       "      <td>35</td>\n",
       "      <td>30</td>\n",
       "      <td>2</td>\n",
       "      <td>5</td>\n",
       "      <td>2</td>\n",
       "      <td>0.0</td>\n",
       "      <td>0</td>\n",
       "      <td>...</td>\n",
       "      <td>0</td>\n",
       "      <td>0</td>\n",
       "      <td>0</td>\n",
       "      <td>0</td>\n",
       "      <td>0</td>\n",
       "      <td>0</td>\n",
       "      <td>0</td>\n",
       "      <td>0</td>\n",
       "      <td>1</td>\n",
       "      <td>0</td>\n",
       "    </tr>\n",
       "    <tr>\n",
       "      <th>119386</th>\n",
       "      <td>0</td>\n",
       "      <td>102</td>\n",
       "      <td>2017</td>\n",
       "      <td>35</td>\n",
       "      <td>31</td>\n",
       "      <td>2</td>\n",
       "      <td>5</td>\n",
       "      <td>3</td>\n",
       "      <td>0.0</td>\n",
       "      <td>0</td>\n",
       "      <td>...</td>\n",
       "      <td>0</td>\n",
       "      <td>0</td>\n",
       "      <td>0</td>\n",
       "      <td>0</td>\n",
       "      <td>0</td>\n",
       "      <td>0</td>\n",
       "      <td>0</td>\n",
       "      <td>0</td>\n",
       "      <td>1</td>\n",
       "      <td>0</td>\n",
       "    </tr>\n",
       "    <tr>\n",
       "      <th>119387</th>\n",
       "      <td>0</td>\n",
       "      <td>34</td>\n",
       "      <td>2017</td>\n",
       "      <td>35</td>\n",
       "      <td>31</td>\n",
       "      <td>2</td>\n",
       "      <td>5</td>\n",
       "      <td>2</td>\n",
       "      <td>0.0</td>\n",
       "      <td>0</td>\n",
       "      <td>...</td>\n",
       "      <td>0</td>\n",
       "      <td>0</td>\n",
       "      <td>0</td>\n",
       "      <td>0</td>\n",
       "      <td>0</td>\n",
       "      <td>0</td>\n",
       "      <td>0</td>\n",
       "      <td>0</td>\n",
       "      <td>1</td>\n",
       "      <td>0</td>\n",
       "    </tr>\n",
       "    <tr>\n",
       "      <th>119388</th>\n",
       "      <td>0</td>\n",
       "      <td>109</td>\n",
       "      <td>2017</td>\n",
       "      <td>35</td>\n",
       "      <td>31</td>\n",
       "      <td>2</td>\n",
       "      <td>5</td>\n",
       "      <td>2</td>\n",
       "      <td>0.0</td>\n",
       "      <td>0</td>\n",
       "      <td>...</td>\n",
       "      <td>0</td>\n",
       "      <td>0</td>\n",
       "      <td>0</td>\n",
       "      <td>0</td>\n",
       "      <td>0</td>\n",
       "      <td>0</td>\n",
       "      <td>0</td>\n",
       "      <td>0</td>\n",
       "      <td>1</td>\n",
       "      <td>0</td>\n",
       "    </tr>\n",
       "    <tr>\n",
       "      <th>119389</th>\n",
       "      <td>0</td>\n",
       "      <td>205</td>\n",
       "      <td>2017</td>\n",
       "      <td>35</td>\n",
       "      <td>29</td>\n",
       "      <td>2</td>\n",
       "      <td>7</td>\n",
       "      <td>2</td>\n",
       "      <td>0.0</td>\n",
       "      <td>0</td>\n",
       "      <td>...</td>\n",
       "      <td>0</td>\n",
       "      <td>0</td>\n",
       "      <td>0</td>\n",
       "      <td>0</td>\n",
       "      <td>0</td>\n",
       "      <td>0</td>\n",
       "      <td>0</td>\n",
       "      <td>0</td>\n",
       "      <td>1</td>\n",
       "      <td>0</td>\n",
       "    </tr>\n",
       "  </tbody>\n",
       "</table>\n",
       "<p>87110 rows × 247 columns</p>\n",
       "</div>"
      ],
      "text/plain": [
       "        is_canceled  lead_time  arrival_date_year  arrival_date_week_number  \\\n",
       "0                 0        342               2015                        27   \n",
       "1                 0        737               2015                        27   \n",
       "2                 0          7               2015                        27   \n",
       "3                 0         13               2015                        27   \n",
       "4                 0         14               2015                        27   \n",
       "...             ...        ...                ...                       ...   \n",
       "119385            0         23               2017                        35   \n",
       "119386            0        102               2017                        35   \n",
       "119387            0         34               2017                        35   \n",
       "119388            0        109               2017                        35   \n",
       "119389            0        205               2017                        35   \n",
       "\n",
       "        arrival_date_day_of_month  stays_in_weekend_nights  \\\n",
       "0                               1                        0   \n",
       "1                               1                        0   \n",
       "2                               1                        0   \n",
       "3                               1                        0   \n",
       "4                               1                        0   \n",
       "...                           ...                      ...   \n",
       "119385                         30                        2   \n",
       "119386                         31                        2   \n",
       "119387                         31                        2   \n",
       "119388                         31                        2   \n",
       "119389                         29                        2   \n",
       "\n",
       "        stays_in_week_nights  adults  children  babies  ...  \\\n",
       "0                          0       2       0.0       0  ...   \n",
       "1                          0       2       0.0       0  ...   \n",
       "2                          1       1       0.0       0  ...   \n",
       "3                          1       1       0.0       0  ...   \n",
       "4                          2       2       0.0       0  ...   \n",
       "...                      ...     ...       ...     ...  ...   \n",
       "119385                     5       2       0.0       0  ...   \n",
       "119386                     5       3       0.0       0  ...   \n",
       "119387                     5       2       0.0       0  ...   \n",
       "119388                     5       2       0.0       0  ...   \n",
       "119389                     7       2       0.0       0  ...   \n",
       "\n",
       "        assigned_room_type_H  assigned_room_type_I  assigned_room_type_K  \\\n",
       "0                          0                     0                     0   \n",
       "1                          0                     0                     0   \n",
       "2                          0                     0                     0   \n",
       "3                          0                     0                     0   \n",
       "4                          0                     0                     0   \n",
       "...                      ...                   ...                   ...   \n",
       "119385                     0                     0                     0   \n",
       "119386                     0                     0                     0   \n",
       "119387                     0                     0                     0   \n",
       "119388                     0                     0                     0   \n",
       "119389                     0                     0                     0   \n",
       "\n",
       "        assigned_room_type_L  assigned_room_type_P  deposit_type_Non Refund  \\\n",
       "0                          0                     0                        0   \n",
       "1                          0                     0                        0   \n",
       "2                          0                     0                        0   \n",
       "3                          0                     0                        0   \n",
       "4                          0                     0                        0   \n",
       "...                      ...                   ...                      ...   \n",
       "119385                     0                     0                        0   \n",
       "119386                     0                     0                        0   \n",
       "119387                     0                     0                        0   \n",
       "119388                     0                     0                        0   \n",
       "119389                     0                     0                        0   \n",
       "\n",
       "        deposit_type_Refundable  customer_type_Group  customer_type_Transient  \\\n",
       "0                             0                    0                        1   \n",
       "1                             0                    0                        1   \n",
       "2                             0                    0                        1   \n",
       "3                             0                    0                        1   \n",
       "4                             0                    0                        1   \n",
       "...                         ...                  ...                      ...   \n",
       "119385                        0                    0                        1   \n",
       "119386                        0                    0                        1   \n",
       "119387                        0                    0                        1   \n",
       "119388                        0                    0                        1   \n",
       "119389                        0                    0                        1   \n",
       "\n",
       "        customer_type_Transient-Party  \n",
       "0                                   0  \n",
       "1                                   0  \n",
       "2                                   0  \n",
       "3                                   0  \n",
       "4                                   0  \n",
       "...                               ...  \n",
       "119385                              0  \n",
       "119386                              0  \n",
       "119387                              0  \n",
       "119388                              0  \n",
       "119389                              0  \n",
       "\n",
       "[87110 rows x 247 columns]"
      ]
     },
     "execution_count": 19,
     "metadata": {},
     "output_type": "execute_result"
    }
   ],
   "source": [
    "### Creating dummy variables\n",
    "hotel_with_dummies = pd.get_dummies(hotel,drop_first=True)\n",
    "hotel_with_dummies"
   ]
  },
  {
   "cell_type": "markdown",
   "id": "1ca5b14e",
   "metadata": {},
   "source": [
    "### Splitting the dataset"
   ]
  },
  {
   "cell_type": "code",
   "execution_count": 20,
   "id": "80ef2743",
   "metadata": {},
   "outputs": [],
   "source": [
    "### Defining the target and the predictors\n",
    "X = hotel_with_dummies.drop('is_canceled',axis =1)\n",
    "y = hotel_with_dummies['is_canceled']"
   ]
  },
  {
   "cell_type": "code",
   "execution_count": 21,
   "id": "e5eaa35d",
   "metadata": {},
   "outputs": [],
   "source": [
    "### Splitting the datatset into train and test sets\n",
    "X_train,X_test,y_train,y_test = train_test_split(X,y,random_state=42,test_size=0.3)"
   ]
  },
  {
   "cell_type": "markdown",
   "id": "b5f63401",
   "metadata": {},
   "source": [
    "### Normalizing the dataset"
   ]
  },
  {
   "cell_type": "markdown",
   "id": "f91aa9b1",
   "metadata": {},
   "source": [
    "In order to reduce the impact of outliers,we will normalize our data to ensure the data point fall in the same scale.Some models such as KNN that will be developed in this project are sensitive to outliers."
   ]
  },
  {
   "cell_type": "code",
   "execution_count": 22,
   "id": "2d6209b9",
   "metadata": {},
   "outputs": [],
   "source": [
    "# importing the relevant packages\n",
    "from sklearn.preprocessing import MinMaxScaler\n",
    "minmax_scaler = MinMaxScaler()\n",
    "X_train_scaled = minmax_scaler.fit_transform(X_train)\n",
    "X_test_scaled = minmax_scaler.transform(X_test)"
   ]
  },
  {
   "cell_type": "code",
   "execution_count": 23,
   "id": "39822bee",
   "metadata": {},
   "outputs": [],
   "source": [
    "### Creating a pandas dataframe from the scaled dataset\n",
    "X_train_scaled = pd.DataFrame(X_train_scaled,columns =X_train.columns,index = X_train.index)\n",
    "X_test_scaled = pd.DataFrame(X_test_scaled,columns =X_test.columns,index = X_test.index)"
   ]
  },
  {
   "cell_type": "markdown",
   "id": "b5c75aa8",
   "metadata": {},
   "source": [
    "### Addressing the imbalanced dataset.\n",
    "\n",
    "Undersampling and oversampling are the two primary random resampling techniques that can be applied to deal with unbalanced datasets.\n",
    "\n",
    "**Undersampling:** This approach reduces the number of majority class samples to balance the class distribution. However, it may lead to the loss of valuable data due to the removal of observations.\n",
    "\n",
    "**Oversampling:** This technique involves increasing the number of minority class samples in the training set. Unlike undersampling, oversampling retains all observations from both classes, which can lead to potential overfitting.\n",
    "\n",
    "One effective oversampling technique is **SMOTE (Synthetic Minority Over-sampling Technique)**. SMOTE generates synthetic examples for the minority class by interpolating between existing examples. This helps create a more balanced dataset while avoiding the loss of information."
   ]
  },
  {
   "cell_type": "code",
   "execution_count": 24,
   "id": "6eee443a",
   "metadata": {},
   "outputs": [],
   "source": [
    "### importing the relevant packages\n",
    "from imblearn.over_sampling import SMOTE\n",
    "smote = SMOTE(random_state=42)\n",
    "# oversampling the minority class\n",
    "X_resampled,y_resampled = smote.fit_resample(X_train_scaled,y_train)"
   ]
  },
  {
   "cell_type": "markdown",
   "id": "76d23100",
   "metadata": {},
   "source": [
    "### Modelling"
   ]
  },
  {
   "cell_type": "markdown",
   "id": "304a6671",
   "metadata": {},
   "source": [
    "### Building a DecisionTreeClassifier"
   ]
  },
  {
   "cell_type": "markdown",
   "id": "b58161cc",
   "metadata": {},
   "source": [
    "We will build a a DecisionTreeClassifier using the default parameters before using GridSearchCV to find the best parameters"
   ]
  },
  {
   "cell_type": "code",
   "execution_count": 25,
   "id": "77ec6e75",
   "metadata": {},
   "outputs": [
    {
     "data": {
      "text/html": [
       "<style>#sk-container-id-1 {color: black;}#sk-container-id-1 pre{padding: 0;}#sk-container-id-1 div.sk-toggleable {background-color: white;}#sk-container-id-1 label.sk-toggleable__label {cursor: pointer;display: block;width: 100%;margin-bottom: 0;padding: 0.3em;box-sizing: border-box;text-align: center;}#sk-container-id-1 label.sk-toggleable__label-arrow:before {content: \"▸\";float: left;margin-right: 0.25em;color: #696969;}#sk-container-id-1 label.sk-toggleable__label-arrow:hover:before {color: black;}#sk-container-id-1 div.sk-estimator:hover label.sk-toggleable__label-arrow:before {color: black;}#sk-container-id-1 div.sk-toggleable__content {max-height: 0;max-width: 0;overflow: hidden;text-align: left;background-color: #f0f8ff;}#sk-container-id-1 div.sk-toggleable__content pre {margin: 0.2em;color: black;border-radius: 0.25em;background-color: #f0f8ff;}#sk-container-id-1 input.sk-toggleable__control:checked~div.sk-toggleable__content {max-height: 200px;max-width: 100%;overflow: auto;}#sk-container-id-1 input.sk-toggleable__control:checked~label.sk-toggleable__label-arrow:before {content: \"▾\";}#sk-container-id-1 div.sk-estimator input.sk-toggleable__control:checked~label.sk-toggleable__label {background-color: #d4ebff;}#sk-container-id-1 div.sk-label input.sk-toggleable__control:checked~label.sk-toggleable__label {background-color: #d4ebff;}#sk-container-id-1 input.sk-hidden--visually {border: 0;clip: rect(1px 1px 1px 1px);clip: rect(1px, 1px, 1px, 1px);height: 1px;margin: -1px;overflow: hidden;padding: 0;position: absolute;width: 1px;}#sk-container-id-1 div.sk-estimator {font-family: monospace;background-color: #f0f8ff;border: 1px dotted black;border-radius: 0.25em;box-sizing: border-box;margin-bottom: 0.5em;}#sk-container-id-1 div.sk-estimator:hover {background-color: #d4ebff;}#sk-container-id-1 div.sk-parallel-item::after {content: \"\";width: 100%;border-bottom: 1px solid gray;flex-grow: 1;}#sk-container-id-1 div.sk-label:hover label.sk-toggleable__label {background-color: #d4ebff;}#sk-container-id-1 div.sk-serial::before {content: \"\";position: absolute;border-left: 1px solid gray;box-sizing: border-box;top: 0;bottom: 0;left: 50%;z-index: 0;}#sk-container-id-1 div.sk-serial {display: flex;flex-direction: column;align-items: center;background-color: white;padding-right: 0.2em;padding-left: 0.2em;position: relative;}#sk-container-id-1 div.sk-item {position: relative;z-index: 1;}#sk-container-id-1 div.sk-parallel {display: flex;align-items: stretch;justify-content: center;background-color: white;position: relative;}#sk-container-id-1 div.sk-item::before, #sk-container-id-1 div.sk-parallel-item::before {content: \"\";position: absolute;border-left: 1px solid gray;box-sizing: border-box;top: 0;bottom: 0;left: 50%;z-index: -1;}#sk-container-id-1 div.sk-parallel-item {display: flex;flex-direction: column;z-index: 1;position: relative;background-color: white;}#sk-container-id-1 div.sk-parallel-item:first-child::after {align-self: flex-end;width: 50%;}#sk-container-id-1 div.sk-parallel-item:last-child::after {align-self: flex-start;width: 50%;}#sk-container-id-1 div.sk-parallel-item:only-child::after {width: 0;}#sk-container-id-1 div.sk-dashed-wrapped {border: 1px dashed gray;margin: 0 0.4em 0.5em 0.4em;box-sizing: border-box;padding-bottom: 0.4em;background-color: white;}#sk-container-id-1 div.sk-label label {font-family: monospace;font-weight: bold;display: inline-block;line-height: 1.2em;}#sk-container-id-1 div.sk-label-container {text-align: center;}#sk-container-id-1 div.sk-container {/* jupyter's `normalize.less` sets `[hidden] { display: none; }` but bootstrap.min.css set `[hidden] { display: none !important; }` so we also need the `!important` here to be able to override the default hidden behavior on the sphinx rendered scikit-learn.org. See: https://github.com/scikit-learn/scikit-learn/issues/21755 */display: inline-block !important;position: relative;}#sk-container-id-1 div.sk-text-repr-fallback {display: none;}</style><div id=\"sk-container-id-1\" class=\"sk-top-container\"><div class=\"sk-text-repr-fallback\"><pre>DecisionTreeClassifier(random_state=123)</pre><b>In a Jupyter environment, please rerun this cell to show the HTML representation or trust the notebook. <br />On GitHub, the HTML representation is unable to render, please try loading this page with nbviewer.org.</b></div><div class=\"sk-container\" hidden><div class=\"sk-item\"><div class=\"sk-estimator sk-toggleable\"><input class=\"sk-toggleable__control sk-hidden--visually\" id=\"sk-estimator-id-1\" type=\"checkbox\" checked><label for=\"sk-estimator-id-1\" class=\"sk-toggleable__label sk-toggleable__label-arrow\">DecisionTreeClassifier</label><div class=\"sk-toggleable__content\"><pre>DecisionTreeClassifier(random_state=123)</pre></div></div></div></div></div>"
      ],
      "text/plain": [
       "DecisionTreeClassifier(random_state=123)"
      ]
     },
     "execution_count": 25,
     "metadata": {},
     "output_type": "execute_result"
    }
   ],
   "source": [
    "### Importing the relevant libraries\n",
    "from sklearn.tree import DecisionTreeClassifier\n",
    "from sklearn.metrics import classification_report\n",
    "# creating an object from the classifier\n",
    "tree_clf = DecisionTreeClassifier(random_state=123)\n",
    "# fitting the classifier\n",
    "tree_clf.fit(X_train_scaled,y_train)\n"
   ]
  },
  {
   "cell_type": "code",
   "execution_count": 26,
   "id": "f4c0e4e6",
   "metadata": {},
   "outputs": [
    {
     "name": "stdout",
     "output_type": "stream",
     "text": [
      "              precision    recall  f1-score   support\n",
      "\n",
      "           0       1.00      1.00      1.00     44199\n",
      "           1       1.00      0.99      1.00     16778\n",
      "\n",
      "    accuracy                           1.00     60977\n",
      "   macro avg       1.00      1.00      1.00     60977\n",
      "weighted avg       1.00      1.00      1.00     60977\n",
      "\n"
     ]
    }
   ],
   "source": [
    "# creating a classification report of the classifier..we will begin with the training dataset\n",
    "y_train_pred =tree_clf.predict(X_train_scaled)\n",
    "print(classification_report(y_train,y_train_pred))"
   ]
  },
  {
   "cell_type": "code",
   "execution_count": 27,
   "id": "9156d8f4",
   "metadata": {},
   "outputs": [
    {
     "name": "stdout",
     "output_type": "stream",
     "text": [
      "              precision    recall  f1-score   support\n",
      "\n",
      "           0       0.86      0.85      0.85     19150\n",
      "           1       0.59      0.61      0.60      6983\n",
      "\n",
      "    accuracy                           0.79     26133\n",
      "   macro avg       0.73      0.73      0.73     26133\n",
      "weighted avg       0.79      0.79      0.79     26133\n",
      "\n"
     ]
    }
   ],
   "source": [
    "# taking a look at the report when the model is used on the test set\n",
    "y_test_pred = tree_clf.predict(X_test_scaled)\n",
    "print(classification_report(y_test,y_test_pred))"
   ]
  },
  {
   "cell_type": "markdown",
   "id": "2b40fc66",
   "metadata": {},
   "source": [
    "From the two reports it can be concluded that our model performance on unseen data is low(it cannot generalize).\n",
    "- The precision and recall scores are high when predicting the class 0(hotel reservations that were not cancelled) but low when predicting class 1(cancelled hotel reservation).\n",
    "- The low test scores are a sign of an overfitted model.Next we will try determining the best parameters for the classifier using GridSearchCV"
   ]
  },
  {
   "cell_type": "markdown",
   "id": "18f5a4ed",
   "metadata": {},
   "source": [
    "### Using GridSearchCV to build a DecisionTreeClassifier"
   ]
  },
  {
   "cell_type": "code",
   "execution_count": 28,
   "id": "0ad240a4",
   "metadata": {},
   "outputs": [],
   "source": [
    "###### importing the relevant libraries\n",
    "from sklearn.model_selection import GridSearchCV\n",
    "# To reduce the model complexity we must prune/reduce some of the parameters to reduce model complexity\n",
    "# creating a parameter grid\n",
    "params= {'criterion':['gini','entropy','log_loss'],\n",
    "             'max_depth':[3,5,7,10],\n",
    "             'min_samples_split':[100,300,500,1000]}"
   ]
  },
  {
   "cell_type": "code",
   "execution_count": 29,
   "id": "f4d00e12",
   "metadata": {},
   "outputs": [
    {
     "data": {
      "text/html": [
       "<style>#sk-container-id-2 {color: black;}#sk-container-id-2 pre{padding: 0;}#sk-container-id-2 div.sk-toggleable {background-color: white;}#sk-container-id-2 label.sk-toggleable__label {cursor: pointer;display: block;width: 100%;margin-bottom: 0;padding: 0.3em;box-sizing: border-box;text-align: center;}#sk-container-id-2 label.sk-toggleable__label-arrow:before {content: \"▸\";float: left;margin-right: 0.25em;color: #696969;}#sk-container-id-2 label.sk-toggleable__label-arrow:hover:before {color: black;}#sk-container-id-2 div.sk-estimator:hover label.sk-toggleable__label-arrow:before {color: black;}#sk-container-id-2 div.sk-toggleable__content {max-height: 0;max-width: 0;overflow: hidden;text-align: left;background-color: #f0f8ff;}#sk-container-id-2 div.sk-toggleable__content pre {margin: 0.2em;color: black;border-radius: 0.25em;background-color: #f0f8ff;}#sk-container-id-2 input.sk-toggleable__control:checked~div.sk-toggleable__content {max-height: 200px;max-width: 100%;overflow: auto;}#sk-container-id-2 input.sk-toggleable__control:checked~label.sk-toggleable__label-arrow:before {content: \"▾\";}#sk-container-id-2 div.sk-estimator input.sk-toggleable__control:checked~label.sk-toggleable__label {background-color: #d4ebff;}#sk-container-id-2 div.sk-label input.sk-toggleable__control:checked~label.sk-toggleable__label {background-color: #d4ebff;}#sk-container-id-2 input.sk-hidden--visually {border: 0;clip: rect(1px 1px 1px 1px);clip: rect(1px, 1px, 1px, 1px);height: 1px;margin: -1px;overflow: hidden;padding: 0;position: absolute;width: 1px;}#sk-container-id-2 div.sk-estimator {font-family: monospace;background-color: #f0f8ff;border: 1px dotted black;border-radius: 0.25em;box-sizing: border-box;margin-bottom: 0.5em;}#sk-container-id-2 div.sk-estimator:hover {background-color: #d4ebff;}#sk-container-id-2 div.sk-parallel-item::after {content: \"\";width: 100%;border-bottom: 1px solid gray;flex-grow: 1;}#sk-container-id-2 div.sk-label:hover label.sk-toggleable__label {background-color: #d4ebff;}#sk-container-id-2 div.sk-serial::before {content: \"\";position: absolute;border-left: 1px solid gray;box-sizing: border-box;top: 0;bottom: 0;left: 50%;z-index: 0;}#sk-container-id-2 div.sk-serial {display: flex;flex-direction: column;align-items: center;background-color: white;padding-right: 0.2em;padding-left: 0.2em;position: relative;}#sk-container-id-2 div.sk-item {position: relative;z-index: 1;}#sk-container-id-2 div.sk-parallel {display: flex;align-items: stretch;justify-content: center;background-color: white;position: relative;}#sk-container-id-2 div.sk-item::before, #sk-container-id-2 div.sk-parallel-item::before {content: \"\";position: absolute;border-left: 1px solid gray;box-sizing: border-box;top: 0;bottom: 0;left: 50%;z-index: -1;}#sk-container-id-2 div.sk-parallel-item {display: flex;flex-direction: column;z-index: 1;position: relative;background-color: white;}#sk-container-id-2 div.sk-parallel-item:first-child::after {align-self: flex-end;width: 50%;}#sk-container-id-2 div.sk-parallel-item:last-child::after {align-self: flex-start;width: 50%;}#sk-container-id-2 div.sk-parallel-item:only-child::after {width: 0;}#sk-container-id-2 div.sk-dashed-wrapped {border: 1px dashed gray;margin: 0 0.4em 0.5em 0.4em;box-sizing: border-box;padding-bottom: 0.4em;background-color: white;}#sk-container-id-2 div.sk-label label {font-family: monospace;font-weight: bold;display: inline-block;line-height: 1.2em;}#sk-container-id-2 div.sk-label-container {text-align: center;}#sk-container-id-2 div.sk-container {/* jupyter's `normalize.less` sets `[hidden] { display: none; }` but bootstrap.min.css set `[hidden] { display: none !important; }` so we also need the `!important` here to be able to override the default hidden behavior on the sphinx rendered scikit-learn.org. See: https://github.com/scikit-learn/scikit-learn/issues/21755 */display: inline-block !important;position: relative;}#sk-container-id-2 div.sk-text-repr-fallback {display: none;}</style><div id=\"sk-container-id-2\" class=\"sk-top-container\"><div class=\"sk-text-repr-fallback\"><pre>GridSearchCV(cv=5, estimator=DecisionTreeClassifier(random_state=123),\n",
       "             param_grid={&#x27;criterion&#x27;: [&#x27;gini&#x27;, &#x27;entropy&#x27;, &#x27;log_loss&#x27;],\n",
       "                         &#x27;max_depth&#x27;: [3, 5, 7, 10],\n",
       "                         &#x27;min_samples_split&#x27;: [100, 300, 500, 1000]})</pre><b>In a Jupyter environment, please rerun this cell to show the HTML representation or trust the notebook. <br />On GitHub, the HTML representation is unable to render, please try loading this page with nbviewer.org.</b></div><div class=\"sk-container\" hidden><div class=\"sk-item sk-dashed-wrapped\"><div class=\"sk-label-container\"><div class=\"sk-label sk-toggleable\"><input class=\"sk-toggleable__control sk-hidden--visually\" id=\"sk-estimator-id-2\" type=\"checkbox\" ><label for=\"sk-estimator-id-2\" class=\"sk-toggleable__label sk-toggleable__label-arrow\">GridSearchCV</label><div class=\"sk-toggleable__content\"><pre>GridSearchCV(cv=5, estimator=DecisionTreeClassifier(random_state=123),\n",
       "             param_grid={&#x27;criterion&#x27;: [&#x27;gini&#x27;, &#x27;entropy&#x27;, &#x27;log_loss&#x27;],\n",
       "                         &#x27;max_depth&#x27;: [3, 5, 7, 10],\n",
       "                         &#x27;min_samples_split&#x27;: [100, 300, 500, 1000]})</pre></div></div></div><div class=\"sk-parallel\"><div class=\"sk-parallel-item\"><div class=\"sk-item\"><div class=\"sk-label-container\"><div class=\"sk-label sk-toggleable\"><input class=\"sk-toggleable__control sk-hidden--visually\" id=\"sk-estimator-id-3\" type=\"checkbox\" ><label for=\"sk-estimator-id-3\" class=\"sk-toggleable__label sk-toggleable__label-arrow\">estimator: DecisionTreeClassifier</label><div class=\"sk-toggleable__content\"><pre>DecisionTreeClassifier(random_state=123)</pre></div></div></div><div class=\"sk-serial\"><div class=\"sk-item\"><div class=\"sk-estimator sk-toggleable\"><input class=\"sk-toggleable__control sk-hidden--visually\" id=\"sk-estimator-id-4\" type=\"checkbox\" ><label for=\"sk-estimator-id-4\" class=\"sk-toggleable__label sk-toggleable__label-arrow\">DecisionTreeClassifier</label><div class=\"sk-toggleable__content\"><pre>DecisionTreeClassifier(random_state=123)</pre></div></div></div></div></div></div></div></div></div></div>"
      ],
      "text/plain": [
       "GridSearchCV(cv=5, estimator=DecisionTreeClassifier(random_state=123),\n",
       "             param_grid={'criterion': ['gini', 'entropy', 'log_loss'],\n",
       "                         'max_depth': [3, 5, 7, 10],\n",
       "                         'min_samples_split': [100, 300, 500, 1000]})"
      ]
     },
     "execution_count": 29,
     "metadata": {},
     "output_type": "execute_result"
    }
   ],
   "source": [
    "# performing gridsearch to find the best model from the parameter_grid with cv = 5\n",
    "grid_clf = GridSearchCV(tree_clf,param_grid=params,cv=5)\n",
    "grid_clf.fit(X_train_scaled,y_train)"
   ]
  },
  {
   "cell_type": "code",
   "execution_count": 30,
   "id": "aae170bb",
   "metadata": {},
   "outputs": [
    {
     "name": "stdout",
     "output_type": "stream",
     "text": [
      "              precision    recall  f1-score   support\n",
      "\n",
      "           0       0.86      0.90      0.88     44199\n",
      "           1       0.70      0.62      0.66     16778\n",
      "\n",
      "    accuracy                           0.82     60977\n",
      "   macro avg       0.78      0.76      0.77     60977\n",
      "weighted avg       0.82      0.82      0.82     60977\n",
      "\n"
     ]
    }
   ],
   "source": [
    "# assignimg the best parameters from the search to a variable\n",
    "best_params = grid_clf.best_params_\n",
    "# creating a DecisionTreeClassifier from the parameters\n",
    "tree_clf2 = DecisionTreeClassifier(random_state=123,**best_params)\n",
    "# fitting the classifier\n",
    "tree_clf2.fit(X_train_scaled,y_train)\n",
    "# printing a classification_report using the training set\n",
    "y_hat_train = tree_clf2.predict(X_train_scaled)\n",
    "print(classification_report(y_train,y_hat_train))"
   ]
  },
  {
   "cell_type": "code",
   "execution_count": 31,
   "id": "53e33929",
   "metadata": {},
   "outputs": [
    {
     "name": "stdout",
     "output_type": "stream",
     "text": [
      "              precision    recall  f1-score   support\n",
      "\n",
      "           0       0.86      0.89      0.88     19150\n",
      "           1       0.67      0.61      0.64      6983\n",
      "\n",
      "    accuracy                           0.82     26133\n",
      "   macro avg       0.77      0.75      0.76     26133\n",
      "weighted avg       0.81      0.82      0.81     26133\n",
      "\n"
     ]
    }
   ],
   "source": [
    "# printing a classification_report using the testing set\n",
    "y_pred_test = tree_clf2.predict(X_test_scaled)\n",
    "print(classification_report(y_test,y_pred_test))"
   ]
  },
  {
   "cell_type": "markdown",
   "id": "6867ea1c",
   "metadata": {},
   "source": [
    "From the classification report we can conclude that our model can now generalize to unseen data.\n",
    "The precision and recall are high for class 0 (hotel reservations that were not cancelled).However,for class zero they are not that high.\n",
    "- If the hotel management is concerned with hotel reservations that will not be cancelled then this model can be of great value to the management.\n",
    "- In other words if the model predicts that a reservation will not be cancelled then there is a higher probability that the model is right.\n",
    "- The model has an accuracy score of 82% which is higher than our metric for success."
   ]
  },
  {
   "cell_type": "code",
   "execution_count": 32,
   "id": "a6de5ef6",
   "metadata": {},
   "outputs": [
    {
     "data": {
      "text/plain": [
       "<Axes: >"
      ]
     },
     "execution_count": 32,
     "metadata": {},
     "output_type": "execute_result"
    },
    {
     "data": {
      "image/png": "[encoded data removed]",
      "text/plain": [
       "<Figure size 640x480 with 2 Axes>"
      ]
     },
     "metadata": {},
     "output_type": "display_data"
    }
   ],
   "source": [
    "# creating a pandas dataframe of the feature importance\n",
    "feat_importances = pd.DataFrame(tree_clf2.feature_importances_, index=X_train_scaled.columns,\n",
    "                                columns=[\"Importance\"])\n",
    "# sorting  in descending order\n",
    "feat_importances.sort_values(by='Importance', ascending=False, inplace=True)\n",
    "# creating a heatmap of the top_10 features that have an impact on the model..ie influence whether a hotel \n",
    "# reservation will be cancelled or not\n",
    "sns.heatmap(feat_importances[:20])"
   ]
  },
  {
   "cell_type": "code",
   "execution_count": 33,
   "id": "daad3e89",
   "metadata": {},
   "outputs": [
    {
     "data": {
      "image/png": "[encoded data removed]",
      "text/plain": [
       "<Figure size 640x480 with 1 Axes>"
      ]
     },
     "metadata": {},
     "output_type": "display_data"
    }
   ],
   "source": [
    "# creating a bar graph of the top 10 features\n",
    "feat_importances[:10].plot(kind='bar');"
   ]
  },
  {
   "cell_type": "markdown",
   "id": "83deafe8",
   "metadata": {},
   "source": [
    "### creating a pipeline for the DecisionTreeClassiffier"
   ]
  },
  {
   "cell_type": "code",
   "execution_count": 34,
   "id": "e127172e",
   "metadata": {},
   "outputs": [],
   "source": [
    "# importing the relevant libraries\n",
    "from sklearn.pipeline import Pipeline\n",
    "# creating a pipeline\n",
    "pipe_tree = Pipeline([('scaler',MinMaxScaler()),\n",
    "                     ('tree',DecisionTreeClassifier(random_state=123,**best_params))])\n",
    "# fitting the pipeline\n",
    "tree_model = pipe_tree.fit(X_train,y_train)\n"
   ]
  },
  {
   "cell_type": "code",
   "execution_count": 35,
   "id": "55b257d7",
   "metadata": {},
   "outputs": [],
   "source": [
    "# storing the model using joblib\n",
    "# importing joblib\n",
    "import joblib\n",
    "with open('tree_model.pkl','wb') as f:\n",
    "    joblib.dump(tree_model,f)\n",
    "# the model is now stored in the tree_model.pkl file"
   ]
  },
  {
   "cell_type": "code",
   "execution_count": 36,
   "id": "5c0d43ba",
   "metadata": {},
   "outputs": [
    {
     "data": {
      "text/plain": [
       "{'criterion': 'gini', 'max_depth': 10, 'min_samples_split': 100}"
      ]
     },
     "execution_count": 36,
     "metadata": {},
     "output_type": "execute_result"
    }
   ],
   "source": [
    "# displaying the best parameters from the grid search\n",
    "best_params"
   ]
  },
  {
   "cell_type": "markdown",
   "id": "c9668b5d",
   "metadata": {},
   "source": [
    "### Next model"
   ]
  },
  {
   "cell_type": "markdown",
   "id": "cc2017b9",
   "metadata": {},
   "source": [
    "### Random Forest Algorithm\n",
    "The Random Forest classifier is an ensemble learning technique that goes beyond using a single decision tree for predictions. Instead, it constructs and utilizes multiple decision trees within its framework. By aggregating the predictions from each individual tree, the Random Forest makes its final prediction based on a majority vote among these individual tree predictions. This method of combining predictions helps improve accuracy and addresses the issue of overfitting that can occur with a single decision tree."
   ]
  },
  {
   "cell_type": "code",
   "execution_count": 39,
   "id": "4bc4d0f2",
   "metadata": {},
   "outputs": [
    {
     "data": {
      "text/html": [
       "<style>#sk-container-id-3 {color: black;}#sk-container-id-3 pre{padding: 0;}#sk-container-id-3 div.sk-toggleable {background-color: white;}#sk-container-id-3 label.sk-toggleable__label {cursor: pointer;display: block;width: 100%;margin-bottom: 0;padding: 0.3em;box-sizing: border-box;text-align: center;}#sk-container-id-3 label.sk-toggleable__label-arrow:before {content: \"▸\";float: left;margin-right: 0.25em;color: #696969;}#sk-container-id-3 label.sk-toggleable__label-arrow:hover:before {color: black;}#sk-container-id-3 div.sk-estimator:hover label.sk-toggleable__label-arrow:before {color: black;}#sk-container-id-3 div.sk-toggleable__content {max-height: 0;max-width: 0;overflow: hidden;text-align: left;background-color: #f0f8ff;}#sk-container-id-3 div.sk-toggleable__content pre {margin: 0.2em;color: black;border-radius: 0.25em;background-color: #f0f8ff;}#sk-container-id-3 input.sk-toggleable__control:checked~div.sk-toggleable__content {max-height: 200px;max-width: 100%;overflow: auto;}#sk-container-id-3 input.sk-toggleable__control:checked~label.sk-toggleable__label-arrow:before {content: \"▾\";}#sk-container-id-3 div.sk-estimator input.sk-toggleable__control:checked~label.sk-toggleable__label {background-color: #d4ebff;}#sk-container-id-3 div.sk-label input.sk-toggleable__control:checked~label.sk-toggleable__label {background-color: #d4ebff;}#sk-container-id-3 input.sk-hidden--visually {border: 0;clip: rect(1px 1px 1px 1px);clip: rect(1px, 1px, 1px, 1px);height: 1px;margin: -1px;overflow: hidden;padding: 0;position: absolute;width: 1px;}#sk-container-id-3 div.sk-estimator {font-family: monospace;background-color: #f0f8ff;border: 1px dotted black;border-radius: 0.25em;box-sizing: border-box;margin-bottom: 0.5em;}#sk-container-id-3 div.sk-estimator:hover {background-color: #d4ebff;}#sk-container-id-3 div.sk-parallel-item::after {content: \"\";width: 100%;border-bottom: 1px solid gray;flex-grow: 1;}#sk-container-id-3 div.sk-label:hover label.sk-toggleable__label {background-color: #d4ebff;}#sk-container-id-3 div.sk-serial::before {content: \"\";position: absolute;border-left: 1px solid gray;box-sizing: border-box;top: 0;bottom: 0;left: 50%;z-index: 0;}#sk-container-id-3 div.sk-serial {display: flex;flex-direction: column;align-items: center;background-color: white;padding-right: 0.2em;padding-left: 0.2em;position: relative;}#sk-container-id-3 div.sk-item {position: relative;z-index: 1;}#sk-container-id-3 div.sk-parallel {display: flex;align-items: stretch;justify-content: center;background-color: white;position: relative;}#sk-container-id-3 div.sk-item::before, #sk-container-id-3 div.sk-parallel-item::before {content: \"\";position: absolute;border-left: 1px solid gray;box-sizing: border-box;top: 0;bottom: 0;left: 50%;z-index: -1;}#sk-container-id-3 div.sk-parallel-item {display: flex;flex-direction: column;z-index: 1;position: relative;background-color: white;}#sk-container-id-3 div.sk-parallel-item:first-child::after {align-self: flex-end;width: 50%;}#sk-container-id-3 div.sk-parallel-item:last-child::after {align-self: flex-start;width: 50%;}#sk-container-id-3 div.sk-parallel-item:only-child::after {width: 0;}#sk-container-id-3 div.sk-dashed-wrapped {border: 1px dashed gray;margin: 0 0.4em 0.5em 0.4em;box-sizing: border-box;padding-bottom: 0.4em;background-color: white;}#sk-container-id-3 div.sk-label label {font-family: monospace;font-weight: bold;display: inline-block;line-height: 1.2em;}#sk-container-id-3 div.sk-label-container {text-align: center;}#sk-container-id-3 div.sk-container {/* jupyter's `normalize.less` sets `[hidden] { display: none; }` but bootstrap.min.css set `[hidden] { display: none !important; }` so we also need the `!important` here to be able to override the default hidden behavior on the sphinx rendered scikit-learn.org. See: https://github.com/scikit-learn/scikit-learn/issues/21755 */display: inline-block !important;position: relative;}#sk-container-id-3 div.sk-text-repr-fallback {display: none;}</style><div id=\"sk-container-id-3\" class=\"sk-top-container\"><div class=\"sk-text-repr-fallback\"><pre>RandomForestClassifier(random_state=42)</pre><b>In a Jupyter environment, please rerun this cell to show the HTML representation or trust the notebook. <br />On GitHub, the HTML representation is unable to render, please try loading this page with nbviewer.org.</b></div><div class=\"sk-container\" hidden><div class=\"sk-item\"><div class=\"sk-estimator sk-toggleable\"><input class=\"sk-toggleable__control sk-hidden--visually\" id=\"sk-estimator-id-5\" type=\"checkbox\" checked><label for=\"sk-estimator-id-5\" class=\"sk-toggleable__label sk-toggleable__label-arrow\">RandomForestClassifier</label><div class=\"sk-toggleable__content\"><pre>RandomForestClassifier(random_state=42)</pre></div></div></div></div></div>"
      ],
      "text/plain": [
       "RandomForestClassifier(random_state=42)"
      ]
     },
     "execution_count": 39,
     "metadata": {},
     "output_type": "execute_result"
    }
   ],
   "source": [
    "# creating an object from the classifier\n",
    "rd_forest = RandomForestClassifier(random_state=42)\n",
    "# fitting the classifier\n",
    "rd_forest.fit(X_resampled, y_resampled)"
   ]
  },
  {
   "cell_type": "code",
   "execution_count": 42,
   "id": "60478ab4",
   "metadata": {},
   "outputs": [
    {
     "name": "stdout",
     "output_type": "stream",
     "text": [
      "              precision    recall  f1-score   support\n",
      "\n",
      "           0       1.00      1.00      1.00     44199\n",
      "           1       1.00      1.00      1.00     44199\n",
      "\n",
      "    accuracy                           1.00     88398\n",
      "   macro avg       1.00      1.00      1.00     88398\n",
      "weighted avg       1.00      1.00      1.00     88398\n",
      "\n"
     ]
    }
   ],
   "source": [
    "# making predictions on the train data.\n",
    "y_train_preds = rd_forest.predict(X_resampled)\n",
    "\n",
    "# creating a classification report\n",
    "clf_report1 = classification_report(y_resampled, y_train_preds)\n",
    "print(clf_report1)\n"
   ]
  },
  {
   "cell_type": "code",
   "execution_count": 44,
   "id": "3562897f",
   "metadata": {},
   "outputs": [
    {
     "name": "stdout",
     "output_type": "stream",
     "text": [
      "              precision    recall  f1-score   support\n",
      "\n",
      "           0       0.88      0.74      0.80     19150\n",
      "           1       0.51      0.74      0.60      6983\n",
      "\n",
      "    accuracy                           0.74     26133\n",
      "   macro avg       0.70      0.74      0.70     26133\n",
      "weighted avg       0.78      0.74      0.75     26133\n",
      "\n"
     ]
    }
   ],
   "source": [
    "# making predictions on the test data.\n",
    "y_test_preds = rd_forest.predict(X_test)\n",
    "\n",
    "# creating a classification report\n",
    "clf_report1 = classification_report(y_test, y_test_preds)\n",
    "print(clf_report1)"
   ]
  },
  {
   "cell_type": "markdown",
   "id": "6cd470bd",
   "metadata": {},
   "source": [
    "The model appears to overfit to the train data due to its exceptional performance. This is evident from the perfect accuracy, precision, recall, and F1-score values on the train dataset. However, its performance on the test dataset is less impressive, which indicates a need for further optimization to enhance generalization to unseen data. Although the model can effectively predict non-cancelled reservations, its ability to predict reservation cancellations requires improvement.\n",
    "\n",
    "Further model tuning might lead to a more robust predictive capability for hotel reservation cancellations. \n",
    "\n",
    "\n",
    "\n",
    "\n",
    "\n"
   ]
  },
  {
   "cell_type": "markdown",
   "id": "428d5d3f",
   "metadata": {},
   "source": [
    "### Hyperparameter tuning the model using using GridSearchCV "
   ]
  },
  {
   "cell_type": "code",
   "execution_count": 45,
   "id": "735c34d9",
   "metadata": {},
   "outputs": [
    {
     "data": {
      "text/plain": [
       "{'RF__criterion': 'entropy',\n",
       " 'RF__max_depth': None,\n",
       " 'RF__min_samples_leaf': 3,\n",
       " 'RF__min_samples_split': 5,\n",
       " 'RF__n_estimators': 100}"
      ]
     },
     "execution_count": 45,
     "metadata": {},
     "output_type": "execute_result"
    }
   ],
   "source": [
    "# creating a pipeline\n",
    "scaled_pipeline = Pipeline([\n",
    "    ('scaler', MinMaxScaler()), \n",
    "    ('RF', RandomForestClassifier(random_state=42))\n",
    "])\n",
    "\n",
    "# Define the grid\n",
    "grid = [{\n",
    "    'RF__n_estimators': [10, 30, 100],\n",
    "    'RF__criterion': ['gini', 'entropy'],\n",
    "    'RF__max_depth': [None, 2, 6, 10],\n",
    "    'RF__min_samples_split': [5, 10],\n",
    "    'RF__min_samples_leaf': [3, 6],\n",
    "}]\n",
    "\n",
    "# Define a grid search\n",
    "grid_search = GridSearchCV(estimator=scaled_pipeline, param_grid=grid, scoring='accuracy', cv=3)\n",
    "\n",
    "# Fit the training data\n",
    "grid_search.fit(X_resampled, y_resampled)\n",
    "\n",
    "# Print the best parameters\n",
    "grid_search.best_params_"
   ]
  },
  {
   "cell_type": "code",
   "execution_count": 46,
   "id": "48035c64",
   "metadata": {},
   "outputs": [
    {
     "name": "stdout",
     "output_type": "stream",
     "text": [
      "              precision    recall  f1-score   support\n",
      "\n",
      "           0       0.92      0.92      0.92     44199\n",
      "           1       0.92      0.92      0.92     44199\n",
      "\n",
      "    accuracy                           0.92     88398\n",
      "   macro avg       0.92      0.92      0.92     88398\n",
      "weighted avg       0.92      0.92      0.92     88398\n",
      "\n"
     ]
    }
   ],
   "source": [
    "# printing a classification report using the training set\n",
    "y_train_gridpreds = grid_search.predict(X_resampled)\n",
    "\n",
    "print(classification_report(y_resampled, y_train_gridpreds))\n",
    " \n"
   ]
  },
  {
   "cell_type": "code",
   "execution_count": 47,
   "id": "c994f128",
   "metadata": {},
   "outputs": [
    {
     "name": "stdout",
     "output_type": "stream",
     "text": [
      "              precision    recall  f1-score   support\n",
      "\n",
      "           0       0.92      0.64      0.76     19150\n",
      "           1       0.46      0.84      0.60      6983\n",
      "\n",
      "    accuracy                           0.70     26133\n",
      "   macro avg       0.69      0.74      0.68     26133\n",
      "weighted avg       0.80      0.70      0.71     26133\n",
      "\n"
     ]
    }
   ],
   "source": [
    "# printing the classification report using the test dataset\n",
    "y_test_gridpreds = grid_search.predict(X_test)\n",
    "\n",
    "# creating a classification report\n",
    "print(classification_report(y_test, y_test_gridpreds))\n"
   ]
  },
  {
   "cell_type": "markdown",
   "id": "297b3289",
   "metadata": {},
   "source": [
    "Hyperparameter tuning has helped the model achieve a balanced performance on the training dataset. The model demonstrates good generalization to unseen data, with a high recall for class 1(is_cancelled) on the test dataset. However, the trade-off between precision and recall indicates that the model's predictions for cancellations are less precise. This suggests that while the model is adept at identifying cancellations, there's room for improvement in reducing false positives (non-cancelled reservations incorrectly predicted as cancellations)."
   ]
  },
  {
   "cell_type": "markdown",
   "id": "e32df306",
   "metadata": {},
   "source": [
    "### Pickling and Saving the Model"
   ]
  },
  {
   "cell_type": "code",
   "execution_count": 51,
   "id": "c347f65c",
   "metadata": {},
   "outputs": [
    {
     "name": "stdout",
     "output_type": "stream",
     "text": [
      "Model saved as random_forest_model.pkl\n"
     ]
    }
   ],
   "source": [
    "#importing pickle\n",
    "import pickle\n",
    "# Save the trained model to a file\n",
    "model_filename = 'random_forest_model.pkl'\n",
    "with open(model_name, 'wb') as model_file:\n",
    "    pickle.dump(grid_search, model_file)\n",
    "\n",
    "print(\"Model saved as\", model_filename)"
   ]
  }
 ],
 "metadata": {
  "kernelspec": {
   "display_name": "Python 3 (ipykernel)",
   "language": "python",
   "name": "python3"
  },
  "language_info": {
   "codemirror_mode": {
    "name": "ipython",
    "version": 3
   },
   "file_extension": ".py",
   "mimetype": "text/x-python",
   "name": "python",
   "nbconvert_exporter": "python",
   "pygments_lexer": "ipython3",
   "version": "3.10.9"
  },
  "toc": {
   "base_numbering": 1,
   "nav_menu": {
    "height": "27.9896px",
    "width": "160px"
   },
   "number_sections": true,
   "sideBar": true,
   "skip_h1_title": false,
   "title_cell": "Table of Contents",
   "title_sidebar": "Contents",
   "toc_cell": false,
   "toc_position": {},
   "toc_section_display": true,
   "toc_window_display": false
  }
 },
 "nbformat": 4,
 "nbformat_minor": 5
}
