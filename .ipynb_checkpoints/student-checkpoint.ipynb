{
 "cells": [
  {
   "cell_type": "markdown",
   "id": "66309ba1",
   "metadata": {},
   "source": [
    "# Analysis of Hotel Reservation Churning.\n",
    "\n",
    "Group Members:\n",
    "- Loise Osoro\n",
    "- Omar Mustaf\n",
    "- William Ndoni\n",
    "- Mulei Mutuku\n",
    "- Paul Muriithi\n",
    "- Derrick Wekesa"
   ]
  },
  {
   "cell_type": "markdown",
   "id": "33f1799c",
   "metadata": {
    "toc": true
   },
   "source": [
    "<h1>Table of Contents<span class=\"tocSkip\"></span></h1>\n",
    "<div class=\"toc\"><ul class=\"toc-item\"><li><span><a href=\"#Introduction\" data-toc-modified-id=\"Introduction-1\"><span class=\"toc-item-num\">1&nbsp;&nbsp;</span>Introduction</a></span></li><li><span><a href=\"#Business-Understanding\" data-toc-modified-id=\"Business-Understanding-2\"><span class=\"toc-item-num\">2&nbsp;&nbsp;</span>Business Understanding</a></span><ul class=\"toc-item\"><li><span><a href=\"#Problem-Statement\" data-toc-modified-id=\"Problem-Statement-2.1\"><span class=\"toc-item-num\">2.1&nbsp;&nbsp;</span>Problem Statement</a></span></li><li><span><a href=\"#research-questions\" data-toc-modified-id=\"research-questions-2.2\"><span class=\"toc-item-num\">2.2&nbsp;&nbsp;</span>research questions</a></span></li><li><span><a href=\"#Main-Objective\" data-toc-modified-id=\"Main-Objective-2.3\"><span class=\"toc-item-num\">2.3&nbsp;&nbsp;</span>Main Objective</a></span></li><li><span><a href=\"#Specific-Objectives\" data-toc-modified-id=\"Specific-Objectives-2.4\"><span class=\"toc-item-num\">2.4&nbsp;&nbsp;</span>Specific Objectives</a></span></li><li><span><a href=\"#Metrics-of-Success\" data-toc-modified-id=\"Metrics-of-Success-2.5\"><span class=\"toc-item-num\">2.5&nbsp;&nbsp;</span>Metrics of Success</a></span></li></ul></li><li><span><a href=\"#Data-Understanding\" data-toc-modified-id=\"Data-Understanding-3\"><span class=\"toc-item-num\">3&nbsp;&nbsp;</span>Data Understanding</a></span><ul class=\"toc-item\"><li><span><a href=\"#Dropping-Irrelevant-columns\" data-toc-modified-id=\"Dropping-Irrelevant-columns-3.1\"><span class=\"toc-item-num\">3.1&nbsp;&nbsp;</span>Dropping Irrelevant columns</a></span></li></ul></li><li><span><a href=\"#Data-Preparation\" data-toc-modified-id=\"Data-Preparation-4\"><span class=\"toc-item-num\">4&nbsp;&nbsp;</span>Data Preparation</a></span><ul class=\"toc-item\"><li><ul class=\"toc-item\"><li><span><a href=\"#Dealing-with-duplicates\" data-toc-modified-id=\"Dealing-with-duplicates-4.0.1\"><span class=\"toc-item-num\">4.0.1&nbsp;&nbsp;</span>Dealing with duplicates</a></span></li><li><span><a href=\"#Dealing-with-missing-values\" data-toc-modified-id=\"Dealing-with-missing-values-4.0.2\"><span class=\"toc-item-num\">4.0.2&nbsp;&nbsp;</span>Dealing with missing values</a></span></li></ul></li></ul></li><li><span><a href=\"#Explolatory-Data-Analysis\" data-toc-modified-id=\"Explolatory-Data-Analysis-5\"><span class=\"toc-item-num\">5&nbsp;&nbsp;</span>Explolatory Data Analysis</a></span></li><li><span><a href=\"#Creating-Dummies\" data-toc-modified-id=\"Creating-Dummies-6\"><span class=\"toc-item-num\">6&nbsp;&nbsp;</span>Creating Dummies</a></span><ul class=\"toc-item\"><li><span><a href=\"#Splitting-the-dataset\" data-toc-modified-id=\"Splitting-the-dataset-6.1\"><span class=\"toc-item-num\">6.1&nbsp;&nbsp;</span>Splitting the dataset</a></span></li><li><span><a href=\"#Normalizing-the-dataset\" data-toc-modified-id=\"Normalizing-the-dataset-6.2\"><span class=\"toc-item-num\">6.2&nbsp;&nbsp;</span>Normalizing the dataset</a></span></li><li><span><a href=\"#Addressing-the-imbalanced-dataset.\" data-toc-modified-id=\"Addressing-the-imbalanced-dataset.-6.3\"><span class=\"toc-item-num\">6.3&nbsp;&nbsp;</span>Addressing the imbalanced dataset.</a></span></li></ul></li><li><span><a href=\"#Modelling\" data-toc-modified-id=\"Modelling-7\"><span class=\"toc-item-num\">7&nbsp;&nbsp;</span>Modelling</a></span></li><li><span><a href=\"#The-Baseline-model:-logistic-regression-model\" data-toc-modified-id=\"The-Baseline-model:-logistic-regression-model-8\"><span class=\"toc-item-num\">8&nbsp;&nbsp;</span>The Baseline model: logistic regression model</a></span></li><li><span><a href=\"#KNEIGHBORS-MODEL\" data-toc-modified-id=\"KNEIGHBORS-MODEL-9\"><span class=\"toc-item-num\">9&nbsp;&nbsp;</span>KNEIGHBORS MODEL</a></span><ul class=\"toc-item\"><li><span><a href=\"#Hyperparameter-Tuning-using-RandomizedsearchCV\" data-toc-modified-id=\"Hyperparameter-Tuning-using-RandomizedsearchCV-9.1\"><span class=\"toc-item-num\">9.1&nbsp;&nbsp;</span>Hyperparameter Tuning using RandomizedsearchCV</a></span></li><li><span><a href=\"#PERFORMANCE-ON-THE-TEST-DATA\" data-toc-modified-id=\"PERFORMANCE-ON-THE-TEST-DATA-9.2\"><span class=\"toc-item-num\">9.2&nbsp;&nbsp;</span>PERFORMANCE ON THE TEST DATA</a></span></li><li><span><a href=\"#Hyperparameter-Tuning-using-GridsearchCV\" data-toc-modified-id=\"Hyperparameter-Tuning-using-GridsearchCV-9.3\"><span class=\"toc-item-num\">9.3&nbsp;&nbsp;</span>Hyperparameter Tuning using GridsearchCV</a></span></li></ul></li><li><span><a href=\"#Building-a-DecisionTreeClassifier\" data-toc-modified-id=\"Building-a-DecisionTreeClassifier-10\"><span class=\"toc-item-num\">10&nbsp;&nbsp;</span>Building a DecisionTreeClassifier</a></span><ul class=\"toc-item\"><li><span><a href=\"#Using-GridSearchCV-to-build-a-DecisionTreeClassifier\" data-toc-modified-id=\"Using-GridSearchCV-to-build-a-DecisionTreeClassifier-10.1\"><span class=\"toc-item-num\">10.1&nbsp;&nbsp;</span>Using GridSearchCV to build a DecisionTreeClassifier</a></span></li><li><span><a href=\"#creating-a-pipeline-for-the-DecisionTreeClassiffier\" data-toc-modified-id=\"creating-a-pipeline-for-the-DecisionTreeClassiffier-10.2\"><span class=\"toc-item-num\">10.2&nbsp;&nbsp;</span>creating a pipeline for the DecisionTreeClassiffier</a></span></li></ul></li><li><span><a href=\"#Random-Forest-Algorithm\" data-toc-modified-id=\"Random-Forest-Algorithm-11\"><span class=\"toc-item-num\">11&nbsp;&nbsp;</span>Random Forest Algorithm</a></span><ul class=\"toc-item\"><li><span><a href=\"#Hyperparameter-tuning-the-model-using-using-GridSearchCV\" data-toc-modified-id=\"Hyperparameter-tuning-the-model-using-using-GridSearchCV-11.1\"><span class=\"toc-item-num\">11.1&nbsp;&nbsp;</span>Hyperparameter tuning the model using using GridSearchCV</a></span></li><li><span><a href=\"#Pickling-and-Saving-the-Model\" data-toc-modified-id=\"Pickling-and-Saving-the-Model-11.2\"><span class=\"toc-item-num\">11.2&nbsp;&nbsp;</span>Pickling and Saving the Model</a></span></li></ul></li><li><span><a href=\"#Adaboost\" data-toc-modified-id=\"Adaboost-12\"><span class=\"toc-item-num\">12&nbsp;&nbsp;</span>Adaboost</a></span></li><li><span><a href=\"#Gradient-Boosting-Models\" data-toc-modified-id=\"Gradient-Boosting-Models-13\"><span class=\"toc-item-num\">13&nbsp;&nbsp;</span>Gradient Boosting Models</a></span><ul class=\"toc-item\"><li><span><a href=\"#Gradient-Boosting-Classifier\" data-toc-modified-id=\"Gradient-Boosting-Classifier-13.1\"><span class=\"toc-item-num\">13.1&nbsp;&nbsp;</span>Gradient Boosting Classifier</a></span></li><li><span><a href=\"#XGBoost-Classifier\" data-toc-modified-id=\"XGBoost-Classifier-13.2\"><span class=\"toc-item-num\">13.2&nbsp;&nbsp;</span>XGBoost Classifier</a></span></li><li><span><a href=\"#saving-our-best-gradient-boosting-model-as-a-pickle-file\" data-toc-modified-id=\"saving-our-best-gradient-boosting-model-as-a-pickle-file-13.3\"><span class=\"toc-item-num\">13.3&nbsp;&nbsp;</span>saving our best gradient boosting model as a pickle file</a></span></li></ul></li><li><span><a href=\"#Finding-the-best-model\" data-toc-modified-id=\"Finding-the-best-model-14\"><span class=\"toc-item-num\">14&nbsp;&nbsp;</span>Finding the best model</a></span></li><li><span><a href=\"#Conclusions\" data-toc-modified-id=\"Conclusions-15\"><span class=\"toc-item-num\">15&nbsp;&nbsp;</span>Conclusions</a></span></li><li><span><a href=\"#Recommendations\" data-toc-modified-id=\"Recommendations-16\"><span class=\"toc-item-num\">16&nbsp;&nbsp;</span>Recommendations</a></span></li></ul></div>"
   ]
  },
  {
   "cell_type": "markdown",
   "id": "f054cdbf",
   "metadata": {},
   "source": [
    "## Introduction\n",
    "Hotels are a major part of the hospitality industry, that are considered to have a large economic impact to our community. Hotels provide accomodation, entertainment and leisure,both to local and international tourists. Due to their large target population(local and international), hotel reservation system has became a necessary component inorder to expand their customer base.\n",
    "\n",
    "Hotel reservations systems are a convenient and easy way for customers to access hotel services.\n",
    "Hotel customers also have the ability to cancel their hotel reservations in advance and receive a full refund or encounter some charges depending on the situation.This is a very convenient feature of hotel reservations to the customers.\n",
    "\n",
    "## Business Understanding\n",
    "\n",
    "Hotel business is a very profitable business in the current era.However any hotel can encounter great losses when there is an increase in the churn rate (cancellation of hotel reservations).This is because hotels require constant maintenance whose cost can only be accounted for when the hotel business is running.\n",
    "\n",
    "The aim of this project is to develop a model that can predict whether a customer will cancel their hotel reservation or not based on certain features.With this model,hotels can be able to anticipate and counter any predestined hotel reservation cancellations.\n",
    "In addition the model will provide insight on the features that influence the churn rate in the hotel business.This will enable hotel managers to mitigate the churn rate in the hotel business  \n",
    "\n",
    "### Problem Statement\n",
    "\n",
    "Being part of the hotel management, the company is been experiencing a dropping hotel revenue collection, which can be linked to the decreasing number of reservation bookings and increased reservation churning / cancelations. Therefore to mitigate this, we have been tasked with to come up with strategies and recommendations that are aimed at increased revenue collection in the hotel.\n",
    "To accomplish this, we will undertake data analysis on the companies reservation data in order to find patterns that can improve revenue collection and hotel bookings as well as developing a model that can predict hotel churning inorder to effectively handle them before their occurence.\n",
    "\n",
    "### research questions\n",
    "\n",
    " * Is the reservation churn rate the same in the various hotel categories?\n",
    " * Which are the busiest months in hotel bookings and which months receive the most cancellations?\n",
    " * Which reservation channel (e.g., online travel agencies, direct booking, etc.) leads to the most bookings, and which channel is associated  with the highest reservation cancellations?\n",
    " * Which countries contribute to the most bookings, and which countries are associated with the highest reservation cancellations?\n",
    " * Which hotel features/services need improvement?Can these improvements lead to a significant reduction in the churn rate?\n",
    " * What are the key factors that influence hotel reservation cancellations?\n",
    " * can we develop a predictive model to anticipate and mitigate reservation cancellations in the hotel business\n",
    "\n",
    "### Main Objective\n",
    "This project is aimed at providing appropriate recommendations / strategies that will increasing hotel revenue and to develop a model that can predict hotel churning / cancelation and its major causes and how to mitigate them.\n",
    "\n",
    "### Specific Objectives\n",
    "\n",
    "- Identify various patterns and trents that can improve revenue collection\n",
    "- To devolope a model that can predict whether a reservation is canceled or not\n",
    "- To identify the top 5 the major factors / features that are associated with reservation cancelations\n",
    "- To develop a predictive model using machine learning algorithms that can anticipate reservation cancellations with a high level of accuracy (80% and above).\n",
    "### Metrics of Success\n",
    "\n",
    "- To provide insights on the factors that influence the churn rate in the hotel business. \n",
    "- The final model should have an accuracy score of 80% and above."
   ]
  },
  {
   "cell_type": "markdown",
   "id": "47bda162",
   "metadata": {},
   "source": [
    "## Data Understanding\n",
    "***\n",
    "The datset contains information collected from two hotel categories; resort and city hotel with a structure of 31 variables and 119,390 observations, with a ratio of 34% to 66% respectively for the two hotels. Each row represents booking done within the period 1st July,2015 and 31st August,2017 and the bookings that were checked-in and the ones canceled.\n",
    "\n",
    "For detail explanation of the dataset's columns, view the [Link](https://github.com/u-mar/Churn-Prediction/blob/main/data/columns.md)\n",
    "\n",
    "The dataset was extracted from hotels’ Property Management System (PMS) SQL databases from different hotel categories ,resort and city,in Portugal. Dataset download [Link](https://bit.ly/2WvQbhJ)\n",
    "\n",
    "The information contained in this dataset will be used to train out model.The columns (features) will provide great insight once used to train the model."
   ]
  },
  {
   "cell_type": "code",
   "execution_count": 1,
   "id": "94fbb2d2",
   "metadata": {},
   "outputs": [],
   "source": [
    "# importing necesary packages\n",
    "import joblib\n",
    "from imblearn.over_sampling import SMOTE\n",
    "import pandas as pd\n",
    "import pickle\n",
    "import numpy as np\n",
    "from sklearn.compose import make_column_transformer\n",
    "from sklearn.ensemble import GradientBoostingClassifier , AdaBoostClassifier , RandomForestClassifier\n",
    "from sklearn.neighbors import KNeighborsClassifier\n",
    "from sklearn.linear_model import LogisticRegression\n",
    "from sklearn.model_selection import train_test_split\n",
    "from sklearn.metrics import roc_curve ,auc, accuracy_score ,precision_score , recall_score, f1_score, classification_report\n",
    "from sklearn.metrics import confusion_matrix, ConfusionMatrixDisplay\n",
    "from sklearn.model_selection import cross_validate, GridSearchCV\n",
    "from sklearn.preprocessing import StandardScaler\n",
    "from sklearn.pipeline import Pipeline\n",
    "from sklearn.tree import DecisionTreeClassifier\n",
    "from xgboost import XGBClassifier\n",
    "from sklearn.compose import ColumnTransformer\n",
    "from sklearn.ensemble import AdaBoostClassifier\n",
    "from sklearn.feature_selection import SelectKBest,f_classif\n",
    "from sklearn.model_selection import RandomizedSearchCV\n",
    "import warnings\n",
    "\n",
    "warnings.filterwarnings('ignore')\n",
    "#plottings\n",
    "import matplotlib.pyplot as plt\n",
    "import seaborn as sns\n",
    "\n",
    "%matplotlib inline\n",
    "plt.style.use('ggplot')\n"
   ]
  },
  {
   "cell_type": "code",
   "execution_count": 2,
   "id": "e4951fe7",
   "metadata": {},
   "outputs": [
    {
     "name": "stdout",
     "output_type": "stream",
     "text": [
      "Rows: 119390\n",
      " Columns: 32\n"
     ]
    },
    {
     "data": {
      "text/html": [
       "<div>\n",
       "<style scoped>\n",
       "    .dataframe tbody tr th:only-of-type {\n",
       "        vertical-align: middle;\n",
       "    }\n",
       "\n",
       "    .dataframe tbody tr th {\n",
       "        vertical-align: top;\n",
       "    }\n",
       "\n",
       "    .dataframe thead th {\n",
       "        text-align: right;\n",
       "    }\n",
       "</style>\n",
       "<table border=\"1\" class=\"dataframe\">\n",
       "  <thead>\n",
       "    <tr style=\"text-align: right;\">\n",
       "      <th></th>\n",
       "      <th>hotel</th>\n",
       "      <th>is_canceled</th>\n",
       "      <th>lead_time</th>\n",
       "      <th>arrival_date_year</th>\n",
       "      <th>arrival_date_month</th>\n",
       "      <th>arrival_date_week_number</th>\n",
       "      <th>arrival_date_day_of_month</th>\n",
       "      <th>stays_in_weekend_nights</th>\n",
       "      <th>stays_in_week_nights</th>\n",
       "      <th>adults</th>\n",
       "      <th>...</th>\n",
       "      <th>deposit_type</th>\n",
       "      <th>agent</th>\n",
       "      <th>company</th>\n",
       "      <th>days_in_waiting_list</th>\n",
       "      <th>customer_type</th>\n",
       "      <th>adr</th>\n",
       "      <th>required_car_parking_spaces</th>\n",
       "      <th>total_of_special_requests</th>\n",
       "      <th>reservation_status</th>\n",
       "      <th>reservation_status_date</th>\n",
       "    </tr>\n",
       "  </thead>\n",
       "  <tbody>\n",
       "    <tr>\n",
       "      <th>0</th>\n",
       "      <td>Resort Hotel</td>\n",
       "      <td>0</td>\n",
       "      <td>342</td>\n",
       "      <td>2015</td>\n",
       "      <td>July</td>\n",
       "      <td>27</td>\n",
       "      <td>1</td>\n",
       "      <td>0</td>\n",
       "      <td>0</td>\n",
       "      <td>2</td>\n",
       "      <td>...</td>\n",
       "      <td>No Deposit</td>\n",
       "      <td>NaN</td>\n",
       "      <td>NaN</td>\n",
       "      <td>0</td>\n",
       "      <td>Transient</td>\n",
       "      <td>0.0</td>\n",
       "      <td>0</td>\n",
       "      <td>0</td>\n",
       "      <td>Check-Out</td>\n",
       "      <td>2015-07-01</td>\n",
       "    </tr>\n",
       "    <tr>\n",
       "      <th>1</th>\n",
       "      <td>Resort Hotel</td>\n",
       "      <td>0</td>\n",
       "      <td>737</td>\n",
       "      <td>2015</td>\n",
       "      <td>July</td>\n",
       "      <td>27</td>\n",
       "      <td>1</td>\n",
       "      <td>0</td>\n",
       "      <td>0</td>\n",
       "      <td>2</td>\n",
       "      <td>...</td>\n",
       "      <td>No Deposit</td>\n",
       "      <td>NaN</td>\n",
       "      <td>NaN</td>\n",
       "      <td>0</td>\n",
       "      <td>Transient</td>\n",
       "      <td>0.0</td>\n",
       "      <td>0</td>\n",
       "      <td>0</td>\n",
       "      <td>Check-Out</td>\n",
       "      <td>2015-07-01</td>\n",
       "    </tr>\n",
       "    <tr>\n",
       "      <th>2</th>\n",
       "      <td>Resort Hotel</td>\n",
       "      <td>0</td>\n",
       "      <td>7</td>\n",
       "      <td>2015</td>\n",
       "      <td>July</td>\n",
       "      <td>27</td>\n",
       "      <td>1</td>\n",
       "      <td>0</td>\n",
       "      <td>1</td>\n",
       "      <td>1</td>\n",
       "      <td>...</td>\n",
       "      <td>No Deposit</td>\n",
       "      <td>NaN</td>\n",
       "      <td>NaN</td>\n",
       "      <td>0</td>\n",
       "      <td>Transient</td>\n",
       "      <td>75.0</td>\n",
       "      <td>0</td>\n",
       "      <td>0</td>\n",
       "      <td>Check-Out</td>\n",
       "      <td>2015-07-02</td>\n",
       "    </tr>\n",
       "    <tr>\n",
       "      <th>3</th>\n",
       "      <td>Resort Hotel</td>\n",
       "      <td>0</td>\n",
       "      <td>13</td>\n",
       "      <td>2015</td>\n",
       "      <td>July</td>\n",
       "      <td>27</td>\n",
       "      <td>1</td>\n",
       "      <td>0</td>\n",
       "      <td>1</td>\n",
       "      <td>1</td>\n",
       "      <td>...</td>\n",
       "      <td>No Deposit</td>\n",
       "      <td>304.0</td>\n",
       "      <td>NaN</td>\n",
       "      <td>0</td>\n",
       "      <td>Transient</td>\n",
       "      <td>75.0</td>\n",
       "      <td>0</td>\n",
       "      <td>0</td>\n",
       "      <td>Check-Out</td>\n",
       "      <td>2015-07-02</td>\n",
       "    </tr>\n",
       "    <tr>\n",
       "      <th>4</th>\n",
       "      <td>Resort Hotel</td>\n",
       "      <td>0</td>\n",
       "      <td>14</td>\n",
       "      <td>2015</td>\n",
       "      <td>July</td>\n",
       "      <td>27</td>\n",
       "      <td>1</td>\n",
       "      <td>0</td>\n",
       "      <td>2</td>\n",
       "      <td>2</td>\n",
       "      <td>...</td>\n",
       "      <td>No Deposit</td>\n",
       "      <td>240.0</td>\n",
       "      <td>NaN</td>\n",
       "      <td>0</td>\n",
       "      <td>Transient</td>\n",
       "      <td>98.0</td>\n",
       "      <td>0</td>\n",
       "      <td>1</td>\n",
       "      <td>Check-Out</td>\n",
       "      <td>2015-07-03</td>\n",
       "    </tr>\n",
       "  </tbody>\n",
       "</table>\n",
       "<p>5 rows × 32 columns</p>\n",
       "</div>"
      ],
      "text/plain": [
       "          hotel  is_canceled  lead_time  arrival_date_year arrival_date_month  \\\n",
       "0  Resort Hotel            0        342               2015               July   \n",
       "1  Resort Hotel            0        737               2015               July   \n",
       "2  Resort Hotel            0          7               2015               July   \n",
       "3  Resort Hotel            0         13               2015               July   \n",
       "4  Resort Hotel            0         14               2015               July   \n",
       "\n",
       "   arrival_date_week_number  arrival_date_day_of_month  \\\n",
       "0                        27                          1   \n",
       "1                        27                          1   \n",
       "2                        27                          1   \n",
       "3                        27                          1   \n",
       "4                        27                          1   \n",
       "\n",
       "   stays_in_weekend_nights  stays_in_week_nights  adults  ...  deposit_type  \\\n",
       "0                        0                     0       2  ...    No Deposit   \n",
       "1                        0                     0       2  ...    No Deposit   \n",
       "2                        0                     1       1  ...    No Deposit   \n",
       "3                        0                     1       1  ...    No Deposit   \n",
       "4                        0                     2       2  ...    No Deposit   \n",
       "\n",
       "   agent company days_in_waiting_list customer_type   adr  \\\n",
       "0    NaN     NaN                    0     Transient   0.0   \n",
       "1    NaN     NaN                    0     Transient   0.0   \n",
       "2    NaN     NaN                    0     Transient  75.0   \n",
       "3  304.0     NaN                    0     Transient  75.0   \n",
       "4  240.0     NaN                    0     Transient  98.0   \n",
       "\n",
       "   required_car_parking_spaces  total_of_special_requests  reservation_status  \\\n",
       "0                            0                          0           Check-Out   \n",
       "1                            0                          0           Check-Out   \n",
       "2                            0                          0           Check-Out   \n",
       "3                            0                          0           Check-Out   \n",
       "4                            0                          1           Check-Out   \n",
       "\n",
       "  reservation_status_date  \n",
       "0              2015-07-01  \n",
       "1              2015-07-01  \n",
       "2              2015-07-02  \n",
       "3              2015-07-02  \n",
       "4              2015-07-03  \n",
       "\n",
       "[5 rows x 32 columns]"
      ]
     },
     "execution_count": 2,
     "metadata": {},
     "output_type": "execute_result"
    }
   ],
   "source": [
    "# Reading the Dataset and looking at the statistics\n",
    "\n",
    "hotel = pd.read_csv('data/hotel_bookings.csv')\n",
    "print(f\"Rows: {hotel.shape[0]}\\n Columns: {hotel.shape[1]}\")\n",
    "hotel.head()"
   ]
  },
  {
   "cell_type": "code",
   "execution_count": 3,
   "id": "749779c9",
   "metadata": {},
   "outputs": [
    {
     "name": "stdout",
     "output_type": "stream",
     "text": [
      "<class 'pandas.core.frame.DataFrame'>\n",
      "RangeIndex: 119390 entries, 0 to 119389\n",
      "Data columns (total 32 columns):\n",
      " #   Column                          Non-Null Count   Dtype  \n",
      "---  ------                          --------------   -----  \n",
      " 0   hotel                           119390 non-null  object \n",
      " 1   is_canceled                     119390 non-null  int64  \n",
      " 2   lead_time                       119390 non-null  int64  \n",
      " 3   arrival_date_year               119390 non-null  int64  \n",
      " 4   arrival_date_month              119390 non-null  object \n",
      " 5   arrival_date_week_number        119390 non-null  int64  \n",
      " 6   arrival_date_day_of_month       119390 non-null  int64  \n",
      " 7   stays_in_weekend_nights         119390 non-null  int64  \n",
      " 8   stays_in_week_nights            119390 non-null  int64  \n",
      " 9   adults                          119390 non-null  int64  \n",
      " 10  children                        119386 non-null  float64\n",
      " 11  babies                          119390 non-null  int64  \n",
      " 12  meal                            119390 non-null  object \n",
      " 13  country                         118902 non-null  object \n",
      " 14  market_segment                  119390 non-null  object \n",
      " 15  distribution_channel            119390 non-null  object \n",
      " 16  is_repeated_guest               119390 non-null  int64  \n",
      " 17  previous_cancellations          119390 non-null  int64  \n",
      " 18  previous_bookings_not_canceled  119390 non-null  int64  \n",
      " 19  reserved_room_type              119390 non-null  object \n",
      " 20  assigned_room_type              119390 non-null  object \n",
      " 21  booking_changes                 119390 non-null  int64  \n",
      " 22  deposit_type                    119390 non-null  object \n",
      " 23  agent                           103050 non-null  float64\n",
      " 24  company                         6797 non-null    float64\n",
      " 25  days_in_waiting_list            119390 non-null  int64  \n",
      " 26  customer_type                   119390 non-null  object \n",
      " 27  adr                             119390 non-null  float64\n",
      " 28  required_car_parking_spaces     119390 non-null  int64  \n",
      " 29  total_of_special_requests       119390 non-null  int64  \n",
      " 30  reservation_status              119390 non-null  object \n",
      " 31  reservation_status_date         119390 non-null  object \n",
      "dtypes: float64(4), int64(16), object(12)\n",
      "memory usage: 29.1+ MB\n"
     ]
    }
   ],
   "source": [
    "# checking structure of the dataset\n",
    "hotel.info()"
   ]
  },
  {
   "cell_type": "markdown",
   "id": "11ce7bc2",
   "metadata": {},
   "source": [
    "We can observe some columns with missing values like `company` and `agent` have many missing values. The columns seem to be of the right data types."
   ]
  },
  {
   "cell_type": "markdown",
   "id": "2eec0ead",
   "metadata": {},
   "source": [
    "### Dropping Irrelevant columns \n",
    "\n",
    "From the above output, and column descriptions the `company` and `agent`columns represent Identification Numbers  and therefore they are not useful in our data analysis therefore we drop them.\n",
    "Also the `reservation_status_date` column is a date column and is not necessary to our analysis, we also drop it from our dataset.\n",
    "We will therefore drop these column to help reduce the model complexity."
   ]
  },
  {
   "cell_type": "code",
   "execution_count": 4,
   "id": "a19e9e5c",
   "metadata": {},
   "outputs": [],
   "source": [
    "# dropping the irrelevant columns\n",
    "hotel.drop(columns=['company','agent','reservation_status','reservation_status_date'], \\\n",
    "           axis=1, inplace=True)"
   ]
  },
  {
   "cell_type": "code",
   "execution_count": 5,
   "id": "9648c383",
   "metadata": {},
   "outputs": [
    {
     "data": {
      "text/html": [
       "<div>\n",
       "<style scoped>\n",
       "    .dataframe tbody tr th:only-of-type {\n",
       "        vertical-align: middle;\n",
       "    }\n",
       "\n",
       "    .dataframe tbody tr th {\n",
       "        vertical-align: top;\n",
       "    }\n",
       "\n",
       "    .dataframe thead th {\n",
       "        text-align: right;\n",
       "    }\n",
       "</style>\n",
       "<table border=\"1\" class=\"dataframe\">\n",
       "  <thead>\n",
       "    <tr style=\"text-align: right;\">\n",
       "      <th></th>\n",
       "      <th>is_canceled</th>\n",
       "      <th>lead_time</th>\n",
       "      <th>arrival_date_year</th>\n",
       "      <th>arrival_date_week_number</th>\n",
       "      <th>arrival_date_day_of_month</th>\n",
       "      <th>stays_in_weekend_nights</th>\n",
       "      <th>stays_in_week_nights</th>\n",
       "      <th>adults</th>\n",
       "      <th>children</th>\n",
       "      <th>babies</th>\n",
       "      <th>is_repeated_guest</th>\n",
       "      <th>previous_cancellations</th>\n",
       "      <th>previous_bookings_not_canceled</th>\n",
       "      <th>booking_changes</th>\n",
       "      <th>days_in_waiting_list</th>\n",
       "      <th>adr</th>\n",
       "      <th>required_car_parking_spaces</th>\n",
       "      <th>total_of_special_requests</th>\n",
       "    </tr>\n",
       "  </thead>\n",
       "  <tbody>\n",
       "    <tr>\n",
       "      <th>count</th>\n",
       "      <td>119390.000000</td>\n",
       "      <td>119390.000000</td>\n",
       "      <td>119390.000000</td>\n",
       "      <td>119390.000000</td>\n",
       "      <td>119390.000000</td>\n",
       "      <td>119390.000000</td>\n",
       "      <td>119390.000000</td>\n",
       "      <td>119390.000000</td>\n",
       "      <td>119386.000000</td>\n",
       "      <td>119390.000000</td>\n",
       "      <td>119390.000000</td>\n",
       "      <td>119390.000000</td>\n",
       "      <td>119390.000000</td>\n",
       "      <td>119390.000000</td>\n",
       "      <td>119390.000000</td>\n",
       "      <td>119390.000000</td>\n",
       "      <td>119390.000000</td>\n",
       "      <td>119390.000000</td>\n",
       "    </tr>\n",
       "    <tr>\n",
       "      <th>mean</th>\n",
       "      <td>0.370416</td>\n",
       "      <td>104.011416</td>\n",
       "      <td>2016.156554</td>\n",
       "      <td>27.165173</td>\n",
       "      <td>15.798241</td>\n",
       "      <td>0.927599</td>\n",
       "      <td>2.500302</td>\n",
       "      <td>1.856403</td>\n",
       "      <td>0.103890</td>\n",
       "      <td>0.007949</td>\n",
       "      <td>0.031912</td>\n",
       "      <td>0.087118</td>\n",
       "      <td>0.137097</td>\n",
       "      <td>0.221124</td>\n",
       "      <td>2.321149</td>\n",
       "      <td>101.831122</td>\n",
       "      <td>0.062518</td>\n",
       "      <td>0.571363</td>\n",
       "    </tr>\n",
       "    <tr>\n",
       "      <th>std</th>\n",
       "      <td>0.482918</td>\n",
       "      <td>106.863097</td>\n",
       "      <td>0.707476</td>\n",
       "      <td>13.605138</td>\n",
       "      <td>8.780829</td>\n",
       "      <td>0.998613</td>\n",
       "      <td>1.908286</td>\n",
       "      <td>0.579261</td>\n",
       "      <td>0.398561</td>\n",
       "      <td>0.097436</td>\n",
       "      <td>0.175767</td>\n",
       "      <td>0.844336</td>\n",
       "      <td>1.497437</td>\n",
       "      <td>0.652306</td>\n",
       "      <td>17.594721</td>\n",
       "      <td>50.535790</td>\n",
       "      <td>0.245291</td>\n",
       "      <td>0.792798</td>\n",
       "    </tr>\n",
       "    <tr>\n",
       "      <th>min</th>\n",
       "      <td>0.000000</td>\n",
       "      <td>0.000000</td>\n",
       "      <td>2015.000000</td>\n",
       "      <td>1.000000</td>\n",
       "      <td>1.000000</td>\n",
       "      <td>0.000000</td>\n",
       "      <td>0.000000</td>\n",
       "      <td>0.000000</td>\n",
       "      <td>0.000000</td>\n",
       "      <td>0.000000</td>\n",
       "      <td>0.000000</td>\n",
       "      <td>0.000000</td>\n",
       "      <td>0.000000</td>\n",
       "      <td>0.000000</td>\n",
       "      <td>0.000000</td>\n",
       "      <td>-6.380000</td>\n",
       "      <td>0.000000</td>\n",
       "      <td>0.000000</td>\n",
       "    </tr>\n",
       "    <tr>\n",
       "      <th>25%</th>\n",
       "      <td>0.000000</td>\n",
       "      <td>18.000000</td>\n",
       "      <td>2016.000000</td>\n",
       "      <td>16.000000</td>\n",
       "      <td>8.000000</td>\n",
       "      <td>0.000000</td>\n",
       "      <td>1.000000</td>\n",
       "      <td>2.000000</td>\n",
       "      <td>0.000000</td>\n",
       "      <td>0.000000</td>\n",
       "      <td>0.000000</td>\n",
       "      <td>0.000000</td>\n",
       "      <td>0.000000</td>\n",
       "      <td>0.000000</td>\n",
       "      <td>0.000000</td>\n",
       "      <td>69.290000</td>\n",
       "      <td>0.000000</td>\n",
       "      <td>0.000000</td>\n",
       "    </tr>\n",
       "    <tr>\n",
       "      <th>50%</th>\n",
       "      <td>0.000000</td>\n",
       "      <td>69.000000</td>\n",
       "      <td>2016.000000</td>\n",
       "      <td>28.000000</td>\n",
       "      <td>16.000000</td>\n",
       "      <td>1.000000</td>\n",
       "      <td>2.000000</td>\n",
       "      <td>2.000000</td>\n",
       "      <td>0.000000</td>\n",
       "      <td>0.000000</td>\n",
       "      <td>0.000000</td>\n",
       "      <td>0.000000</td>\n",
       "      <td>0.000000</td>\n",
       "      <td>0.000000</td>\n",
       "      <td>0.000000</td>\n",
       "      <td>94.575000</td>\n",
       "      <td>0.000000</td>\n",
       "      <td>0.000000</td>\n",
       "    </tr>\n",
       "    <tr>\n",
       "      <th>75%</th>\n",
       "      <td>1.000000</td>\n",
       "      <td>160.000000</td>\n",
       "      <td>2017.000000</td>\n",
       "      <td>38.000000</td>\n",
       "      <td>23.000000</td>\n",
       "      <td>2.000000</td>\n",
       "      <td>3.000000</td>\n",
       "      <td>2.000000</td>\n",
       "      <td>0.000000</td>\n",
       "      <td>0.000000</td>\n",
       "      <td>0.000000</td>\n",
       "      <td>0.000000</td>\n",
       "      <td>0.000000</td>\n",
       "      <td>0.000000</td>\n",
       "      <td>0.000000</td>\n",
       "      <td>126.000000</td>\n",
       "      <td>0.000000</td>\n",
       "      <td>1.000000</td>\n",
       "    </tr>\n",
       "    <tr>\n",
       "      <th>max</th>\n",
       "      <td>1.000000</td>\n",
       "      <td>737.000000</td>\n",
       "      <td>2017.000000</td>\n",
       "      <td>53.000000</td>\n",
       "      <td>31.000000</td>\n",
       "      <td>19.000000</td>\n",
       "      <td>50.000000</td>\n",
       "      <td>55.000000</td>\n",
       "      <td>10.000000</td>\n",
       "      <td>10.000000</td>\n",
       "      <td>1.000000</td>\n",
       "      <td>26.000000</td>\n",
       "      <td>72.000000</td>\n",
       "      <td>21.000000</td>\n",
       "      <td>391.000000</td>\n",
       "      <td>5400.000000</td>\n",
       "      <td>8.000000</td>\n",
       "      <td>5.000000</td>\n",
       "    </tr>\n",
       "  </tbody>\n",
       "</table>\n",
       "</div>"
      ],
      "text/plain": [
       "         is_canceled      lead_time  arrival_date_year  \\\n",
       "count  119390.000000  119390.000000      119390.000000   \n",
       "mean        0.370416     104.011416        2016.156554   \n",
       "std         0.482918     106.863097           0.707476   \n",
       "min         0.000000       0.000000        2015.000000   \n",
       "25%         0.000000      18.000000        2016.000000   \n",
       "50%         0.000000      69.000000        2016.000000   \n",
       "75%         1.000000     160.000000        2017.000000   \n",
       "max         1.000000     737.000000        2017.000000   \n",
       "\n",
       "       arrival_date_week_number  arrival_date_day_of_month  \\\n",
       "count             119390.000000              119390.000000   \n",
       "mean                  27.165173                  15.798241   \n",
       "std                   13.605138                   8.780829   \n",
       "min                    1.000000                   1.000000   \n",
       "25%                   16.000000                   8.000000   \n",
       "50%                   28.000000                  16.000000   \n",
       "75%                   38.000000                  23.000000   \n",
       "max                   53.000000                  31.000000   \n",
       "\n",
       "       stays_in_weekend_nights  stays_in_week_nights         adults  \\\n",
       "count            119390.000000         119390.000000  119390.000000   \n",
       "mean                  0.927599              2.500302       1.856403   \n",
       "std                   0.998613              1.908286       0.579261   \n",
       "min                   0.000000              0.000000       0.000000   \n",
       "25%                   0.000000              1.000000       2.000000   \n",
       "50%                   1.000000              2.000000       2.000000   \n",
       "75%                   2.000000              3.000000       2.000000   \n",
       "max                  19.000000             50.000000      55.000000   \n",
       "\n",
       "            children         babies  is_repeated_guest  \\\n",
       "count  119386.000000  119390.000000      119390.000000   \n",
       "mean        0.103890       0.007949           0.031912   \n",
       "std         0.398561       0.097436           0.175767   \n",
       "min         0.000000       0.000000           0.000000   \n",
       "25%         0.000000       0.000000           0.000000   \n",
       "50%         0.000000       0.000000           0.000000   \n",
       "75%         0.000000       0.000000           0.000000   \n",
       "max        10.000000      10.000000           1.000000   \n",
       "\n",
       "       previous_cancellations  previous_bookings_not_canceled  \\\n",
       "count           119390.000000                   119390.000000   \n",
       "mean                 0.087118                        0.137097   \n",
       "std                  0.844336                        1.497437   \n",
       "min                  0.000000                        0.000000   \n",
       "25%                  0.000000                        0.000000   \n",
       "50%                  0.000000                        0.000000   \n",
       "75%                  0.000000                        0.000000   \n",
       "max                 26.000000                       72.000000   \n",
       "\n",
       "       booking_changes  days_in_waiting_list            adr  \\\n",
       "count    119390.000000         119390.000000  119390.000000   \n",
       "mean          0.221124              2.321149     101.831122   \n",
       "std           0.652306             17.594721      50.535790   \n",
       "min           0.000000              0.000000      -6.380000   \n",
       "25%           0.000000              0.000000      69.290000   \n",
       "50%           0.000000              0.000000      94.575000   \n",
       "75%           0.000000              0.000000     126.000000   \n",
       "max          21.000000            391.000000    5400.000000   \n",
       "\n",
       "       required_car_parking_spaces  total_of_special_requests  \n",
       "count                119390.000000              119390.000000  \n",
       "mean                      0.062518                   0.571363  \n",
       "std                       0.245291                   0.792798  \n",
       "min                       0.000000                   0.000000  \n",
       "25%                       0.000000                   0.000000  \n",
       "50%                       0.000000                   0.000000  \n",
       "75%                       0.000000                   1.000000  \n",
       "max                       8.000000                   5.000000  "
      ]
     },
     "execution_count": 5,
     "metadata": {},
     "output_type": "execute_result"
    }
   ],
   "source": [
    "# summary statistics of columns\n",
    "hotel.describe()"
   ]
  },
  {
   "cell_type": "markdown",
   "id": "e179d28b",
   "metadata": {},
   "source": [
    "## Data Preparation\n",
    "In this section, we will perform data cleaning to prepare the dataset for analysis, the various data cleaning methods that are to be used will be;\n",
    "- Checking and removing duplicates \n",
    "- Dealing with missing data \n",
    "- Checking if columns are of required data type "
   ]
  },
  {
   "cell_type": "markdown",
   "id": "3877a843",
   "metadata": {},
   "source": [
    "#### Dealing with duplicates"
   ]
  },
  {
   "cell_type": "code",
   "execution_count": 6,
   "id": "91a727ff",
   "metadata": {},
   "outputs": [
    {
     "name": "stdout",
     "output_type": "stream",
     "text": [
      "Duplicated: 32280\n"
     ]
    },
    {
     "data": {
      "text/plain": [
       "(87110, 28)"
      ]
     },
     "execution_count": 6,
     "metadata": {},
     "output_type": "execute_result"
    }
   ],
   "source": [
    "# checking for duplicates\n",
    "print(f\"Duplicated: {hotel.duplicated().sum()}\")\n",
    "\n",
    "# droping duplicates\n",
    "hotel.drop_duplicates(inplace=True)\n",
    "hotel.shape"
   ]
  },
  {
   "cell_type": "markdown",
   "id": "d7d3c627",
   "metadata": {},
   "source": [
    "#### Dealing with missing values "
   ]
  },
  {
   "cell_type": "code",
   "execution_count": 7,
   "id": "3e0b877f",
   "metadata": {},
   "outputs": [
    {
     "data": {
      "text/plain": [
       "hotel                               0\n",
       "is_canceled                         0\n",
       "lead_time                           0\n",
       "arrival_date_year                   0\n",
       "arrival_date_month                  0\n",
       "arrival_date_week_number            0\n",
       "arrival_date_day_of_month           0\n",
       "stays_in_weekend_nights             0\n",
       "stays_in_week_nights                0\n",
       "adults                              0\n",
       "children                            4\n",
       "babies                              0\n",
       "meal                                0\n",
       "country                           451\n",
       "market_segment                      0\n",
       "distribution_channel                0\n",
       "is_repeated_guest                   0\n",
       "previous_cancellations              0\n",
       "previous_bookings_not_canceled      0\n",
       "reserved_room_type                  0\n",
       "assigned_room_type                  0\n",
       "booking_changes                     0\n",
       "deposit_type                        0\n",
       "days_in_waiting_list                0\n",
       "customer_type                       0\n",
       "adr                                 0\n",
       "required_car_parking_spaces         0\n",
       "total_of_special_requests           0\n",
       "dtype: int64"
      ]
     },
     "execution_count": 7,
     "metadata": {},
     "output_type": "execute_result"
    }
   ],
   "source": [
    "# checking for missing values\n",
    "hotel.isna().sum()"
   ]
  },
  {
   "cell_type": "markdown",
   "id": "3ee0d563",
   "metadata": {},
   "source": [
    "> Since out children column has only 4 missing values, therefore we can impute with median not to affect the distribution of the column"
   ]
  },
  {
   "cell_type": "code",
   "execution_count": 8,
   "id": "172d683b",
   "metadata": {},
   "outputs": [],
   "source": [
    "# since children has 4 missing values we impute the median since it is least affected by outliers\n",
    "hotel.children.fillna(value= hotel.children.median(), inplace=True )"
   ]
  },
  {
   "cell_type": "markdown",
   "id": "c56fea76",
   "metadata": {},
   "source": [
    "> Also since the country column has missing values, we will impute the missing values with \"missing\" value not fo affect the distribution of our column values."
   ]
  },
  {
   "cell_type": "code",
   "execution_count": 9,
   "id": "9a339283",
   "metadata": {},
   "outputs": [],
   "source": [
    "# country fill missing with \"missing\" value\n",
    "hotel.country.fillna(value= 'missing', inplace=True )"
   ]
  },
  {
   "cell_type": "code",
   "execution_count": 10,
   "id": "f7232eb0",
   "metadata": {},
   "outputs": [
    {
     "data": {
      "text/plain": [
       "hotel                             0\n",
       "is_canceled                       0\n",
       "lead_time                         0\n",
       "arrival_date_year                 0\n",
       "arrival_date_month                0\n",
       "arrival_date_week_number          0\n",
       "arrival_date_day_of_month         0\n",
       "stays_in_weekend_nights           0\n",
       "stays_in_week_nights              0\n",
       "adults                            0\n",
       "children                          0\n",
       "babies                            0\n",
       "meal                              0\n",
       "country                           0\n",
       "market_segment                    0\n",
       "distribution_channel              0\n",
       "is_repeated_guest                 0\n",
       "previous_cancellations            0\n",
       "previous_bookings_not_canceled    0\n",
       "reserved_room_type                0\n",
       "assigned_room_type                0\n",
       "booking_changes                   0\n",
       "deposit_type                      0\n",
       "days_in_waiting_list              0\n",
       "customer_type                     0\n",
       "adr                               0\n",
       "required_car_parking_spaces       0\n",
       "total_of_special_requests         0\n",
       "dtype: int64"
      ]
     },
     "execution_count": 10,
     "metadata": {},
     "output_type": "execute_result"
    }
   ],
   "source": [
    "# confirming our changes\n",
    "hotel.isna().sum()"
   ]
  },
  {
   "cell_type": "code",
   "execution_count": 11,
   "id": "727de008",
   "metadata": {},
   "outputs": [
    {
     "name": "stdout",
     "output_type": "stream",
     "text": [
      "<class 'pandas.core.frame.DataFrame'>\n",
      "Int64Index: 87110 entries, 0 to 119389\n",
      "Data columns (total 28 columns):\n",
      " #   Column                          Non-Null Count  Dtype  \n",
      "---  ------                          --------------  -----  \n",
      " 0   hotel                           87110 non-null  object \n",
      " 1   is_canceled                     87110 non-null  int64  \n",
      " 2   lead_time                       87110 non-null  int64  \n",
      " 3   arrival_date_year               87110 non-null  int64  \n",
      " 4   arrival_date_month              87110 non-null  object \n",
      " 5   arrival_date_week_number        87110 non-null  int64  \n",
      " 6   arrival_date_day_of_month       87110 non-null  int64  \n",
      " 7   stays_in_weekend_nights         87110 non-null  int64  \n",
      " 8   stays_in_week_nights            87110 non-null  int64  \n",
      " 9   adults                          87110 non-null  int64  \n",
      " 10  children                        87110 non-null  float64\n",
      " 11  babies                          87110 non-null  int64  \n",
      " 12  meal                            87110 non-null  object \n",
      " 13  country                         87110 non-null  object \n",
      " 14  market_segment                  87110 non-null  object \n",
      " 15  distribution_channel            87110 non-null  object \n",
      " 16  is_repeated_guest               87110 non-null  int64  \n",
      " 17  previous_cancellations          87110 non-null  int64  \n",
      " 18  previous_bookings_not_canceled  87110 non-null  int64  \n",
      " 19  reserved_room_type              87110 non-null  object \n",
      " 20  assigned_room_type              87110 non-null  object \n",
      " 21  booking_changes                 87110 non-null  int64  \n",
      " 22  deposit_type                    87110 non-null  object \n",
      " 23  days_in_waiting_list            87110 non-null  int64  \n",
      " 24  customer_type                   87110 non-null  object \n",
      " 25  adr                             87110 non-null  float64\n",
      " 26  required_car_parking_spaces     87110 non-null  int64  \n",
      " 27  total_of_special_requests       87110 non-null  int64  \n",
      "dtypes: float64(2), int64(16), object(10)\n",
      "memory usage: 19.3+ MB\n"
     ]
    }
   ],
   "source": [
    "# confirming the columns data types\n",
    "hotel.info()"
   ]
  },
  {
   "cell_type": "markdown",
   "id": "8419f50f",
   "metadata": {},
   "source": [
    "All the columns are of requried data types"
   ]
  },
  {
   "cell_type": "markdown",
   "id": "8abd4900",
   "metadata": {},
   "source": [
    "## Explolatory Data Analysis"
   ]
  },
  {
   "cell_type": "markdown",
   "id": "47ea7e2b",
   "metadata": {},
   "source": [
    "In order to develop a model from the dataset,it is necessary to explore the dataset exhaustively to gain a better understanding therefore we will perform explolatory analsis while exploring the various research questions. "
   ]
  },
  {
   "cell_type": "code",
   "execution_count": 12,
   "id": "27aa64f2",
   "metadata": {},
   "outputs": [
    {
     "name": "stdout",
     "output_type": "stream",
     "text": [
      "0    0.72723\n",
      "1    0.27277\n",
      "Name: is_canceled, dtype: float64\n"
     ]
    },
    {
     "data": {
      "image/png": "[encoded data removed]",
      "text/plain": [
       "<Figure size 640x480 with 1 Axes>"
      ]
     },
     "metadata": {},
     "output_type": "display_data"
    }
   ],
   "source": [
    "# ploting value counts of our dependent variable\n",
    "\n",
    "print(hotel.is_canceled.value_counts(normalize=True))\n",
    "sns.countplot(x=hotel.is_canceled.replace({1:'Canceled',0:'Not Canceled'}))\n",
    "plt.title(\"Reservation Status\");"
   ]
  },
  {
   "cell_type": "markdown",
   "id": "8a6739e9",
   "metadata": {},
   "source": [
    "From the graph above, 72% of the reservations were not canceled while 27% that were canceled. To our model this represents class imbalance and will be delt with in later sections \n",
    "\n",
    "Then we plot the most busy months for the hotel."
   ]
  },
  {
   "cell_type": "code",
   "execution_count": 13,
   "id": "95ae0aed",
   "metadata": {},
   "outputs": [
    {
     "data": {
      "image/png": "[encoded data removed]",
      "text/plain": [
       "<Figure size 800x400 with 1 Axes>"
      ]
     },
     "metadata": {},
     "output_type": "display_data"
    }
   ],
   "source": [
    "# Convert 'arrival_date_month' to a categorical data type with correct ordering\n",
    "month_order = [\n",
    "    'January', 'February', 'March', 'April', 'May', 'June',\n",
    "    'July', 'August', 'September', 'October', 'November', 'December'\n",
    "]\n",
    "\n",
    "hotel['arrival_date_month'] = pd.Categorical(\n",
    "    hotel['arrival_date_month'], categories=month_order, ordered=True\n",
    ")\n",
    "\n",
    "# Group data by month and calculate counts\n",
    "monthly_counts = hotel.groupby('arrival_date_month').size().reset_index(name='total_bookings')\n",
    "\n",
    "cancelled_counts = hotel[hotel['is_canceled'] == 1].groupby('arrival_date_month').size()\\\n",
    "    .reset_index(name='total_cancellations')\n",
    "\n",
    "# Merge the two count DataFrames\n",
    "result = pd.merge(monthly_counts, cancelled_counts, on='arrival_date_month')\n",
    "\n",
    "#Plotting\n",
    "plt.figure(figsize=(8, 4))\n",
    "sns.barplot(x='arrival_date_month', y='total_bookings', \n",
    "            data=result, color='skyblue', label='Total Bookings')\n",
    "sns.barplot(x='arrival_date_month', y='total_cancellations',\n",
    "            data=result, color='salmon', label='Total Cancellations')\n",
    "plt.xlabel('Month')\n",
    "plt.ylabel('Counts')\n",
    "plt.title('Busiest Months in Hotel Bookings and Cancellations')\n",
    "plt.xticks(rotation=45)\n",
    "plt.legend()\n",
    "plt.tight_layout()\n",
    "plt.show()"
   ]
  },
  {
   "cell_type": "markdown",
   "id": "7350a286",
   "metadata": {},
   "source": [
    "From the graph, we can observe trends in booking and cancellation activity across the months.\n",
    "\n",
    "Although the summer months of July and August have the most reservations, they also continue to have high cancellation rates, which could mean that travellers are more flexible with their plans at this time of year. On the other hand, although there are fewer bookings made during months like January, February, November, and December, there are also fewer cancellations, maybe as a result of a more rigid plans. "
   ]
  },
  {
   "cell_type": "code",
   "execution_count": 14,
   "id": "64bf5db5",
   "metadata": {},
   "outputs": [
    {
     "data": {
      "image/png": "[encoded data removed]",
      "text/plain": [
       "<Figure size 600x400 with 1 Axes>"
      ]
     },
     "metadata": {},
     "output_type": "display_data"
    }
   ],
   "source": [
    "# Selecting and counting number of cancelled bookings for each hotel.\n",
    "\n",
    "# filtering the DataFrame to include only rows where bookings are canceled\n",
    "cancelled_data = hotel[hotel['is_canceled'] == 1]\n",
    "\n",
    "# grouping the filtered data by the 'hotel' column.\n",
    "cancel_grp = cancelled_data.groupby('hotel')\n",
    "\n",
    "# calculates the size (count) of each group \n",
    "# creating a DataFrame d_1 with the number of cancelled bookings for each hotel\n",
    "d_1 = pd.DataFrame(cancel_grp.size()).rename(columns = {0:'total_cancelled_bookings'})\n",
    "\n",
    "# Counting total number of bookings for each type of hotel\n",
    "grouped_by_hotel = hotel.groupby('hotel')\n",
    "total_booking = grouped_by_hotel.size()\n",
    "d_2 = pd.DataFrame(total_booking).rename(columns = {0: 'total_bookings'})\n",
    "\n",
    "d_3 = pd.concat([d_1, d_2], axis = 1)\n",
    "\n",
    "# Calculating cancel percentage \n",
    "d_3['cancel_%'] = round((d_3['total_cancelled_bookings']/d_3['total_bookings'])*100,2)\n",
    "\n",
    "# plotting the graph\n",
    "plt.figure(figsize=(6, 4))\n",
    "sns.barplot(x=d_3.index, y=d_3['cancel_%'])\n",
    "plt.xlabel('Hotel Type')\n",
    "plt.ylabel('Cancellation_%')\n",
    "plt.title('Cancellation Rate Percent by Hotel Type');"
   ]
  },
  {
   "cell_type": "markdown",
   "id": "612b695e",
   "metadata": {},
   "source": [
    "> It is evident that the City Hotel had a significantly higher churn rate in comparison to the Resort Hotel. Nearly 30% of the bookings at the City Hotel were canceled."
   ]
  },
  {
   "cell_type": "code",
   "execution_count": 15,
   "id": "e5ced5da",
   "metadata": {},
   "outputs": [
    {
     "data": {
      "image/png": "[encoded data removed]",
      "text/plain": [
       "<Figure size 1500x500 with 3 Axes>"
      ]
     },
     "metadata": {},
     "output_type": "display_data"
    }
   ],
   "source": [
    "# creating the plotting axes\n",
    "fig, ax=plt.subplots(ncols=3, figsize=(15,5))\n",
    "\n",
    "# grouping our data by room_type inorder to get the total number of reservations per toom type\n",
    "hotel.groupby('assigned_room_type')['is_canceled'].count().\\\n",
    "            plot.bar(ax=ax[0],color='tab:blue')                         # creating a bar plot for the first axis\n",
    "ax[0].set_ylabel(\"Count\")                                               #labeling the y axis\n",
    "ax[0].set_title(\"Number of Reservations per Room Type\", fontsize='11')  # setting the subplot title\n",
    "\n",
    "\n",
    "# creating a pivot table for the number of booking changes that happened for each room type\n",
    "pd.pivot_table(hotel,                                                   # data\n",
    "               values='booking_changes',                                # values used for aggregation\n",
    "               index=['assigned_room_type'],                            # column used as index\n",
    "               aggfunc=[np.sum] )[('sum', 'booking_changes')].\\\n",
    "            plot.bar(ax=ax[1], color=\"tab:blue\")                        # bar plot for middle axis               \n",
    "ax[1].set_ylabel(\"Count\")                                               # y axis labe\n",
    "ax[1].set_title(\"Total Booking changes per Room Type\", fontsize='11')   # title\n",
    "\n",
    "\n",
    "# creating a pivot table for the mean number of booking changes that happened for each room type\n",
    "pd.pivot_table(hotel,                                                 # data\n",
    "               values='booking_changes',                              # values used for aggregation\n",
    "               index=['assigned_room_type'],                          # column used for grouping\n",
    "               aggfunc=[np.mean])[('mean', 'booking_changes')].\\\n",
    "            plot.bar(ax=ax[2], color=\"tab:blue\")                              # bar plot for the third axis\n",
    "ax[2].set_ylabel(\"Count\")                                             # y axis label\n",
    "ax[2].set_title(\"Average Booking changes per Room Type\", fontsize='11') # title\n",
    "\n",
    "plt.tight_layout()\n",
    "plt.show();"
   ]
  },
  {
   "cell_type": "markdown",
   "id": "71dcf0ec",
   "metadata": {},
   "source": [
    "From the graphs above:\n",
    "- The room_type A gote the many reservations and also due to the high number of reservations it got the most booking changes\n",
    "- Room_type B got the most mean booking changes while it had few bookings therefore that particular room type should be imporved or upgraded because most most are changing their booking on that particular room-type"
   ]
  },
  {
   "cell_type": "code",
   "execution_count": 16,
   "id": "78ed049a",
   "metadata": {},
   "outputs": [
    {
     "data": {
      "image/png": "[encoded data removed]",
      "text/plain": [
       "<Figure size 1400x500 with 2 Axes>"
      ]
     },
     "metadata": {},
     "output_type": "display_data"
    }
   ],
   "source": [
    "# creating the plotting axes and figure size\n",
    "fig, axes=plt.subplots(ncols=2, figsize=(14,5))\n",
    "\n",
    "# grouping the canceled rows by distribution_channel to get the total number of canceled reservations \n",
    "#obtained from each channel\n",
    "hotel.groupby('distribution_channel')['distribution_channel'].count().\\\n",
    "            plot.bar(ax=axes[0],color='tab:blue')                                           #creating the bar plot\n",
    "axes[0].set_title(\"Canceled Reservation per Distribution Channel\", fontsize='10')           # axis title\n",
    "axes[0].set_ylabel(\"Counts\")                                                                # y axis label\n",
    "\n",
    "\n",
    "# grouping the whole dataframe and by mean aggregate to get the mean number of canceled reservations for each channel\n",
    "data3= hotel[['is_canceled','distribution_channel']].groupby(['distribution_channel']).mean().\\\n",
    "            plot.bar(ax=axes[1], color='tab:red')                                                 # creating bar plot\n",
    "axes[1].set_title(\"Mean Churning per Distribution Channel\", fontsize='10')                        # axis title\n",
    "axes[1].set_ylabel(\"Cancellation Rate\")                                                           # y axis label\n",
    "\n",
    "\n",
    "plt.tight_layout()\n",
    "plt.show();"
   ]
  },
  {
   "cell_type": "markdown",
   "id": "37e84f06",
   "metadata": {},
   "source": [
    "From the graphs above;\n",
    "- The most of the reservations were obtained from the TA/TO (ie Travel Agencies and Tour Operators) channels\n",
    "- Due to the fact the TA?TO channel had the most reservations therefore it would also have the most canceled reservations therefore we used mean to determine. The channel with the most mean reservation canceling were the reservations obatined from Undefined channels followed by the Travel Agencies channel.\n"
   ]
  },
  {
   "cell_type": "code",
   "execution_count": 17,
   "id": "a9ecb0c3",
   "metadata": {},
   "outputs": [
    {
     "data": {
      "image/png": "[encoded data removed]",
      "text/plain": [
       "<Figure size 1000x400 with 2 Axes>"
      ]
     },
     "metadata": {},
     "output_type": "display_data"
    }
   ],
   "source": [
    "# creating the plotting axes\n",
    "fig, axes=plt.subplots(ncols=2, figsize=(10,4))\n",
    "\n",
    "# grouping our data country and selecting the top 10  countries with the most reservation requests\n",
    "hotel.groupby('country')['is_canceled'].count().\\\n",
    "            sort_values( ascending=False)[:10].\\\n",
    "            plot.bar(ax=axes[0],color='tab:blue')                                 # plotting barplot\n",
    "axes[0].set_title(\"Number of reservations per Country\",fontsize='10')             # setting axis title\n",
    "axes[0].set_ylabel(\"Count\")                                                       # setting y axis label\n",
    "\n",
    "# pivoting our data country a to get the mean reservation cancelation rate for each country\n",
    "data=pd.pivot_table(hotel,                                                        # creating pivot table\n",
    "                    values='is_canceled',                                         # is_canceled column used for aggregation\n",
    "                    index=['country'],                                            # grouping by country column\n",
    "                    aggfunc=[np.mean])\n",
    "\n",
    "# using the pivot output to display the top 10 countries with most reservation cancelations\n",
    "data[data[('mean', 'is_canceled')]!=1].\\\n",
    "            sort_values(by=('mean', 'is_canceled') ,ascending=False)[:10].\\\n",
    "            plot.bar(ax=axes[1],color='tab:blue')                                  # creating the bar plot\n",
    "axes[1].set_title(\"Mean Churning per Country\",fontsize='10' )                      # setting axis title\n",
    "axes[1].set_ylabel(\"Mean\")                                                         # setting y label\n",
    "\n",
    "plt.tight_layout()\n",
    "plt.show()"
   ]
  },
  {
   "cell_type": "markdown",
   "id": "04a1d2fe",
   "metadata": {},
   "source": [
    "From the graphs above;\n",
    "- PRT (Portugal) had the most reservations since the hotels are located in Portugal. GBR( United Kingdom of Great Britain and Northern Ireland), FRA(France) and ESP(Spain) were the top 3 most international reservations obtained. Therefore more resources / offers should be directed to those countries to boost their booking rates.\n",
    "- HKG(Hong Kong), MAC(Macao) and ARE( United Arab Emirates) are the top 3with the most canceled rate. the Management should device startegies , like tayloring those countries specialised rooms or menu, to reduce the cancelation rate from those countries and increase bookings"
   ]
  },
  {
   "cell_type": "markdown",
   "id": "85cf80a3",
   "metadata": {},
   "source": [
    "## Creating Dummies\n",
    "\n",
    "We will convert our categorical variables into dummies "
   ]
  },
  {
   "cell_type": "code",
   "execution_count": 18,
   "id": "019cfb14",
   "metadata": {},
   "outputs": [
    {
     "data": {
      "text/html": [
       "<div>\n",
       "<style scoped>\n",
       "    .dataframe tbody tr th:only-of-type {\n",
       "        vertical-align: middle;\n",
       "    }\n",
       "\n",
       "    .dataframe tbody tr th {\n",
       "        vertical-align: top;\n",
       "    }\n",
       "\n",
       "    .dataframe thead th {\n",
       "        text-align: right;\n",
       "    }\n",
       "</style>\n",
       "<table border=\"1\" class=\"dataframe\">\n",
       "  <thead>\n",
       "    <tr style=\"text-align: right;\">\n",
       "      <th></th>\n",
       "      <th>is_canceled</th>\n",
       "      <th>lead_time</th>\n",
       "      <th>arrival_date_year</th>\n",
       "      <th>arrival_date_week_number</th>\n",
       "      <th>arrival_date_day_of_month</th>\n",
       "      <th>stays_in_weekend_nights</th>\n",
       "      <th>stays_in_week_nights</th>\n",
       "      <th>adults</th>\n",
       "      <th>children</th>\n",
       "      <th>babies</th>\n",
       "      <th>...</th>\n",
       "      <th>assigned_room_type_H</th>\n",
       "      <th>assigned_room_type_I</th>\n",
       "      <th>assigned_room_type_K</th>\n",
       "      <th>assigned_room_type_L</th>\n",
       "      <th>assigned_room_type_P</th>\n",
       "      <th>deposit_type_Non Refund</th>\n",
       "      <th>deposit_type_Refundable</th>\n",
       "      <th>customer_type_Group</th>\n",
       "      <th>customer_type_Transient</th>\n",
       "      <th>customer_type_Transient-Party</th>\n",
       "    </tr>\n",
       "  </thead>\n",
       "  <tbody>\n",
       "    <tr>\n",
       "      <th>0</th>\n",
       "      <td>0</td>\n",
       "      <td>342</td>\n",
       "      <td>2015</td>\n",
       "      <td>27</td>\n",
       "      <td>1</td>\n",
       "      <td>0</td>\n",
       "      <td>0</td>\n",
       "      <td>2</td>\n",
       "      <td>0.0</td>\n",
       "      <td>0</td>\n",
       "      <td>...</td>\n",
       "      <td>0</td>\n",
       "      <td>0</td>\n",
       "      <td>0</td>\n",
       "      <td>0</td>\n",
       "      <td>0</td>\n",
       "      <td>0</td>\n",
       "      <td>0</td>\n",
       "      <td>0</td>\n",
       "      <td>1</td>\n",
       "      <td>0</td>\n",
       "    </tr>\n",
       "    <tr>\n",
       "      <th>1</th>\n",
       "      <td>0</td>\n",
       "      <td>737</td>\n",
       "      <td>2015</td>\n",
       "      <td>27</td>\n",
       "      <td>1</td>\n",
       "      <td>0</td>\n",
       "      <td>0</td>\n",
       "      <td>2</td>\n",
       "      <td>0.0</td>\n",
       "      <td>0</td>\n",
       "      <td>...</td>\n",
       "      <td>0</td>\n",
       "      <td>0</td>\n",
       "      <td>0</td>\n",
       "      <td>0</td>\n",
       "      <td>0</td>\n",
       "      <td>0</td>\n",
       "      <td>0</td>\n",
       "      <td>0</td>\n",
       "      <td>1</td>\n",
       "      <td>0</td>\n",
       "    </tr>\n",
       "    <tr>\n",
       "      <th>2</th>\n",
       "      <td>0</td>\n",
       "      <td>7</td>\n",
       "      <td>2015</td>\n",
       "      <td>27</td>\n",
       "      <td>1</td>\n",
       "      <td>0</td>\n",
       "      <td>1</td>\n",
       "      <td>1</td>\n",
       "      <td>0.0</td>\n",
       "      <td>0</td>\n",
       "      <td>...</td>\n",
       "      <td>0</td>\n",
       "      <td>0</td>\n",
       "      <td>0</td>\n",
       "      <td>0</td>\n",
       "      <td>0</td>\n",
       "      <td>0</td>\n",
       "      <td>0</td>\n",
       "      <td>0</td>\n",
       "      <td>1</td>\n",
       "      <td>0</td>\n",
       "    </tr>\n",
       "    <tr>\n",
       "      <th>3</th>\n",
       "      <td>0</td>\n",
       "      <td>13</td>\n",
       "      <td>2015</td>\n",
       "      <td>27</td>\n",
       "      <td>1</td>\n",
       "      <td>0</td>\n",
       "      <td>1</td>\n",
       "      <td>1</td>\n",
       "      <td>0.0</td>\n",
       "      <td>0</td>\n",
       "      <td>...</td>\n",
       "      <td>0</td>\n",
       "      <td>0</td>\n",
       "      <td>0</td>\n",
       "      <td>0</td>\n",
       "      <td>0</td>\n",
       "      <td>0</td>\n",
       "      <td>0</td>\n",
       "      <td>0</td>\n",
       "      <td>1</td>\n",
       "      <td>0</td>\n",
       "    </tr>\n",
       "    <tr>\n",
       "      <th>4</th>\n",
       "      <td>0</td>\n",
       "      <td>14</td>\n",
       "      <td>2015</td>\n",
       "      <td>27</td>\n",
       "      <td>1</td>\n",
       "      <td>0</td>\n",
       "      <td>2</td>\n",
       "      <td>2</td>\n",
       "      <td>0.0</td>\n",
       "      <td>0</td>\n",
       "      <td>...</td>\n",
       "      <td>0</td>\n",
       "      <td>0</td>\n",
       "      <td>0</td>\n",
       "      <td>0</td>\n",
       "      <td>0</td>\n",
       "      <td>0</td>\n",
       "      <td>0</td>\n",
       "      <td>0</td>\n",
       "      <td>1</td>\n",
       "      <td>0</td>\n",
       "    </tr>\n",
       "    <tr>\n",
       "      <th>...</th>\n",
       "      <td>...</td>\n",
       "      <td>...</td>\n",
       "      <td>...</td>\n",
       "      <td>...</td>\n",
       "      <td>...</td>\n",
       "      <td>...</td>\n",
       "      <td>...</td>\n",
       "      <td>...</td>\n",
       "      <td>...</td>\n",
       "      <td>...</td>\n",
       "      <td>...</td>\n",
       "      <td>...</td>\n",
       "      <td>...</td>\n",
       "      <td>...</td>\n",
       "      <td>...</td>\n",
       "      <td>...</td>\n",
       "      <td>...</td>\n",
       "      <td>...</td>\n",
       "      <td>...</td>\n",
       "      <td>...</td>\n",
       "      <td>...</td>\n",
       "    </tr>\n",
       "    <tr>\n",
       "      <th>119385</th>\n",
       "      <td>0</td>\n",
       "      <td>23</td>\n",
       "      <td>2017</td>\n",
       "      <td>35</td>\n",
       "      <td>30</td>\n",
       "      <td>2</td>\n",
       "      <td>5</td>\n",
       "      <td>2</td>\n",
       "      <td>0.0</td>\n",
       "      <td>0</td>\n",
       "      <td>...</td>\n",
       "      <td>0</td>\n",
       "      <td>0</td>\n",
       "      <td>0</td>\n",
       "      <td>0</td>\n",
       "      <td>0</td>\n",
       "      <td>0</td>\n",
       "      <td>0</td>\n",
       "      <td>0</td>\n",
       "      <td>1</td>\n",
       "      <td>0</td>\n",
       "    </tr>\n",
       "    <tr>\n",
       "      <th>119386</th>\n",
       "      <td>0</td>\n",
       "      <td>102</td>\n",
       "      <td>2017</td>\n",
       "      <td>35</td>\n",
       "      <td>31</td>\n",
       "      <td>2</td>\n",
       "      <td>5</td>\n",
       "      <td>3</td>\n",
       "      <td>0.0</td>\n",
       "      <td>0</td>\n",
       "      <td>...</td>\n",
       "      <td>0</td>\n",
       "      <td>0</td>\n",
       "      <td>0</td>\n",
       "      <td>0</td>\n",
       "      <td>0</td>\n",
       "      <td>0</td>\n",
       "      <td>0</td>\n",
       "      <td>0</td>\n",
       "      <td>1</td>\n",
       "      <td>0</td>\n",
       "    </tr>\n",
       "    <tr>\n",
       "      <th>119387</th>\n",
       "      <td>0</td>\n",
       "      <td>34</td>\n",
       "      <td>2017</td>\n",
       "      <td>35</td>\n",
       "      <td>31</td>\n",
       "      <td>2</td>\n",
       "      <td>5</td>\n",
       "      <td>2</td>\n",
       "      <td>0.0</td>\n",
       "      <td>0</td>\n",
       "      <td>...</td>\n",
       "      <td>0</td>\n",
       "      <td>0</td>\n",
       "      <td>0</td>\n",
       "      <td>0</td>\n",
       "      <td>0</td>\n",
       "      <td>0</td>\n",
       "      <td>0</td>\n",
       "      <td>0</td>\n",
       "      <td>1</td>\n",
       "      <td>0</td>\n",
       "    </tr>\n",
       "    <tr>\n",
       "      <th>119388</th>\n",
       "      <td>0</td>\n",
       "      <td>109</td>\n",
       "      <td>2017</td>\n",
       "      <td>35</td>\n",
       "      <td>31</td>\n",
       "      <td>2</td>\n",
       "      <td>5</td>\n",
       "      <td>2</td>\n",
       "      <td>0.0</td>\n",
       "      <td>0</td>\n",
       "      <td>...</td>\n",
       "      <td>0</td>\n",
       "      <td>0</td>\n",
       "      <td>0</td>\n",
       "      <td>0</td>\n",
       "      <td>0</td>\n",
       "      <td>0</td>\n",
       "      <td>0</td>\n",
       "      <td>0</td>\n",
       "      <td>1</td>\n",
       "      <td>0</td>\n",
       "    </tr>\n",
       "    <tr>\n",
       "      <th>119389</th>\n",
       "      <td>0</td>\n",
       "      <td>205</td>\n",
       "      <td>2017</td>\n",
       "      <td>35</td>\n",
       "      <td>29</td>\n",
       "      <td>2</td>\n",
       "      <td>7</td>\n",
       "      <td>2</td>\n",
       "      <td>0.0</td>\n",
       "      <td>0</td>\n",
       "      <td>...</td>\n",
       "      <td>0</td>\n",
       "      <td>0</td>\n",
       "      <td>0</td>\n",
       "      <td>0</td>\n",
       "      <td>0</td>\n",
       "      <td>0</td>\n",
       "      <td>0</td>\n",
       "      <td>0</td>\n",
       "      <td>1</td>\n",
       "      <td>0</td>\n",
       "    </tr>\n",
       "  </tbody>\n",
       "</table>\n",
       "<p>87110 rows × 247 columns</p>\n",
       "</div>"
      ],
      "text/plain": [
       "        is_canceled  lead_time  arrival_date_year  arrival_date_week_number  \\\n",
       "0                 0        342               2015                        27   \n",
       "1                 0        737               2015                        27   \n",
       "2                 0          7               2015                        27   \n",
       "3                 0         13               2015                        27   \n",
       "4                 0         14               2015                        27   \n",
       "...             ...        ...                ...                       ...   \n",
       "119385            0         23               2017                        35   \n",
       "119386            0        102               2017                        35   \n",
       "119387            0         34               2017                        35   \n",
       "119388            0        109               2017                        35   \n",
       "119389            0        205               2017                        35   \n",
       "\n",
       "        arrival_date_day_of_month  stays_in_weekend_nights  \\\n",
       "0                               1                        0   \n",
       "1                               1                        0   \n",
       "2                               1                        0   \n",
       "3                               1                        0   \n",
       "4                               1                        0   \n",
       "...                           ...                      ...   \n",
       "119385                         30                        2   \n",
       "119386                         31                        2   \n",
       "119387                         31                        2   \n",
       "119388                         31                        2   \n",
       "119389                         29                        2   \n",
       "\n",
       "        stays_in_week_nights  adults  children  babies  ...  \\\n",
       "0                          0       2       0.0       0  ...   \n",
       "1                          0       2       0.0       0  ...   \n",
       "2                          1       1       0.0       0  ...   \n",
       "3                          1       1       0.0       0  ...   \n",
       "4                          2       2       0.0       0  ...   \n",
       "...                      ...     ...       ...     ...  ...   \n",
       "119385                     5       2       0.0       0  ...   \n",
       "119386                     5       3       0.0       0  ...   \n",
       "119387                     5       2       0.0       0  ...   \n",
       "119388                     5       2       0.0       0  ...   \n",
       "119389                     7       2       0.0       0  ...   \n",
       "\n",
       "        assigned_room_type_H  assigned_room_type_I  assigned_room_type_K  \\\n",
       "0                          0                     0                     0   \n",
       "1                          0                     0                     0   \n",
       "2                          0                     0                     0   \n",
       "3                          0                     0                     0   \n",
       "4                          0                     0                     0   \n",
       "...                      ...                   ...                   ...   \n",
       "119385                     0                     0                     0   \n",
       "119386                     0                     0                     0   \n",
       "119387                     0                     0                     0   \n",
       "119388                     0                     0                     0   \n",
       "119389                     0                     0                     0   \n",
       "\n",
       "        assigned_room_type_L  assigned_room_type_P  deposit_type_Non Refund  \\\n",
       "0                          0                     0                        0   \n",
       "1                          0                     0                        0   \n",
       "2                          0                     0                        0   \n",
       "3                          0                     0                        0   \n",
       "4                          0                     0                        0   \n",
       "...                      ...                   ...                      ...   \n",
       "119385                     0                     0                        0   \n",
       "119386                     0                     0                        0   \n",
       "119387                     0                     0                        0   \n",
       "119388                     0                     0                        0   \n",
       "119389                     0                     0                        0   \n",
       "\n",
       "        deposit_type_Refundable  customer_type_Group  customer_type_Transient  \\\n",
       "0                             0                    0                        1   \n",
       "1                             0                    0                        1   \n",
       "2                             0                    0                        1   \n",
       "3                             0                    0                        1   \n",
       "4                             0                    0                        1   \n",
       "...                         ...                  ...                      ...   \n",
       "119385                        0                    0                        1   \n",
       "119386                        0                    0                        1   \n",
       "119387                        0                    0                        1   \n",
       "119388                        0                    0                        1   \n",
       "119389                        0                    0                        1   \n",
       "\n",
       "        customer_type_Transient-Party  \n",
       "0                                   0  \n",
       "1                                   0  \n",
       "2                                   0  \n",
       "3                                   0  \n",
       "4                                   0  \n",
       "...                               ...  \n",
       "119385                              0  \n",
       "119386                              0  \n",
       "119387                              0  \n",
       "119388                              0  \n",
       "119389                              0  \n",
       "\n",
       "[87110 rows x 247 columns]"
      ]
     },
     "execution_count": 18,
     "metadata": {},
     "output_type": "execute_result"
    }
   ],
   "source": [
    "### Creating dummy variables\n",
    "hotel_with_dummies = pd.get_dummies(hotel,drop_first=True)\n",
    "hotel_with_dummies"
   ]
  },
  {
   "cell_type": "markdown",
   "id": "9fa2f58a",
   "metadata": {},
   "source": [
    "### Splitting the dataset\n",
    "\n",
    "Splitting our data into trainig and tests sets ,in the ratio 70% training and 30% test,for model evaluations to determine the best model on test data."
   ]
  },
  {
   "cell_type": "code",
   "execution_count": 19,
   "id": "d4297cd2",
   "metadata": {},
   "outputs": [],
   "source": [
    "### Defining the target and the predictors\n",
    "X = hotel_with_dummies.drop('is_canceled',axis =1)\n",
    "y = hotel_with_dummies['is_canceled']"
   ]
  },
  {
   "cell_type": "code",
   "execution_count": 20,
   "id": "e5ba8dcd",
   "metadata": {},
   "outputs": [],
   "source": [
    "### Splitting the datatset into train and test sets\n",
    "X_train,X_test,y_train,y_test = train_test_split(X,y,random_state=42,test_size=0.3)"
   ]
  },
  {
   "cell_type": "markdown",
   "id": "41c33eaf",
   "metadata": {},
   "source": [
    "### Normalizing the dataset"
   ]
  },
  {
   "cell_type": "markdown",
   "id": "bfd9a4b8",
   "metadata": {},
   "source": [
    "In order to reduce the impact of outliers,we will normalize our data to ensure the data point fall in the same scale.Some models such as KNN that will be developed in this project are sensitive to outliers."
   ]
  },
  {
   "cell_type": "code",
   "execution_count": 21,
   "id": "bd6562ed",
   "metadata": {},
   "outputs": [],
   "source": [
    "# scaled the data using standardscaler\n",
    "scaler = StandardScaler()\n",
    "X_train_scaled = scaler.fit_transform(X_train)\n",
    "X_test_scaled = scaler.transform(X_test)"
   ]
  },
  {
   "cell_type": "code",
   "execution_count": 22,
   "id": "6b2da896",
   "metadata": {},
   "outputs": [],
   "source": [
    "### Creating a pandas dataframe from the scaled dataset\n",
    "X_train_scaled = pd.DataFrame(X_train_scaled,columns =X_train.columns,index = X_train.index)\n",
    "X_test_scaled = pd.DataFrame(X_test_scaled,columns =X_test.columns,index = X_test.index)"
   ]
  },
  {
   "cell_type": "markdown",
   "id": "10ba6047",
   "metadata": {},
   "source": [
    "### Addressing the imbalanced dataset.\n",
    "\n",
    "Undersampling and oversampling are the two primary random resampling techniques that can be applied to deal with unbalanced datasets.\n",
    "\n",
    "**Undersampling:** This approach reduces the number of majority class samples to balance the class distribution. However, it may lead to the loss of valuable data due to the removal of observations.\n",
    "\n",
    "**Oversampling:** This technique involves increasing the number of minority class samples in the training set. Unlike undersampling, oversampling retains all observations from both classes, which can lead to potential overfitting.\n",
    "\n",
    "One effective oversampling technique is **SMOTE (Synthetic Minority Over-sampling Technique)**. SMOTE generates synthetic examples for the minority class by interpolating between existing examples. This helps create a more balanced dataset while avoiding the loss of information."
   ]
  },
  {
   "cell_type": "code",
   "execution_count": 23,
   "id": "5ce69385",
   "metadata": {},
   "outputs": [],
   "source": [
    "### importing the relevant packages\n",
    "from imblearn.over_sampling import SMOTE\n",
    "smote = SMOTE(random_state=42)\n",
    "# oversampling the minority class\n",
    "X_resampled,y_resampled = smote.fit_resample(X_train,y_train)"
   ]
  },
  {
   "cell_type": "markdown",
   "id": "961609c0",
   "metadata": {},
   "source": [
    "## Modelling"
   ]
  },
  {
   "cell_type": "markdown",
   "id": "58fc9add",
   "metadata": {},
   "source": [
    "##  The Baseline model: logistic regression model\n",
    "\n",
    "We will build a baseline model that predicts where a reservation is going to canceled or not, therefore due to the binary nature of the target variable use logistic regression analysis to build the model and evaluate its perfomance on test data.\n",
    "\n",
    "Below code cell demonstrates the implementation of a Logistic Regression model using a pipeline that includes data preprocessing, hyperparameter tuning, and oversampling. The Synthetic Minority Over-sampling Technique (SMOTE) is employed to address imbalanced class distribution. The process involves grid search for optimal hyperparameters and training the model on the oversampled data."
   ]
  },
  {
   "cell_type": "code",
   "execution_count": 23,
   "id": "d0c80ab2",
   "metadata": {},
   "outputs": [
    {
     "name": "stdout",
     "output_type": "stream",
     "text": [
      "Best Parameters: {'logit__C': 10}\n",
      "Best Cross-Validation Score: 0.7973006924401626\n"
     ]
    }
   ],
   "source": [
    "# Create a pipeline with StandardScaler and LogisticRegression\n",
    "pipeline = Pipeline([\n",
    "    ('scaler', StandardScaler()),  # Standardize features\n",
    "    ('logit', LogisticRegression(solver='liblinear', random_state=42))  # Logistic Regression model\n",
    "])\n",
    "\n",
    "# Define the parameter grid for grid search\n",
    "param_grid = {\n",
    "    'logit__C': [0.1, 1, 10],  # Regularization parameter\n",
    "}\n",
    "\n",
    "# Create GridSearchCV with the pipeline and parameter grid\n",
    "grid_search = GridSearchCV(pipeline, param_grid, cv=3, scoring='accuracy')\n",
    "\n",
    "# Fit the grid search on the training data\n",
    "grid_search.fit(X_train_scaled, y_train)\n",
    "\n",
    "# Print the best parameters and the corresponding cross-validation score\n",
    "print(\"Best Parameters:\", grid_search.best_params_)\n",
    "print(\"Best Cross-Validation Score:\", grid_search.best_score_)\n",
    "\n",
    "# Access the best model from the grid search\n",
    "best_model = grid_search.best_estimator_\n",
    "\n",
    "# Instantiate SMOTE with random_state=42 and sampling_strategy='auto'\n",
    "sm = SMOTE(random_state=42, sampling_strategy=\"auto\")\n",
    "\n",
    "# Fit and transform X_train and y_train using SMOTE\n",
    "X_train_oversampled, y_train_oversampled = sm.fit_resample(X_train_scaled, y_train)\n",
    "\n",
    "# Fit the best model on the oversampled training data\n",
    "best_model.fit(X_train_oversampled, y_train_oversampled)\n",
    "\n",
    "# Make predictions on the training set using the best model\n",
    "y_pred_best = best_model.predict(X_train_oversampled)"
   ]
  },
  {
   "cell_type": "code",
   "execution_count": 24,
   "id": "13a5477d",
   "metadata": {},
   "outputs": [
    {
     "name": "stdout",
     "output_type": "stream",
     "text": [
      "Baseline Model Training set\n",
      "Model AUC: 0.8594752734662984\n",
      "Accuracy: 0.7779927147673025\n",
      "Precision: 0.7622289568038245\n",
      "Recall: 0.8080499558813548\n"
     ]
    }
   ],
   "source": [
    "# Calculate decision function scores using the best trained model\n",
    "y_score = best_model.decision_function(X_train_oversampled)\n",
    "\n",
    "# Compute the True Positive Rate (TPR) and False Positive Rate (FPR) for the ROC curve\n",
    "fpr, tpr, threshold = roc_curve(y_train_oversampled, y_score)\n",
    "\n",
    "# Print metrics for the baseline model on the training set\n",
    "print(\"Baseline Model Training set\")\n",
    "print(f\"Model AUC: {auc(fpr, tpr)}\")  # Print the Area Under the ROC Curve (AUC) score\n",
    "print(f\"Accuracy: {accuracy_score(y_train_oversampled, y_pred_best)}\")  # Print the accuracy score\n",
    "print(f\"Precision: {precision_score(y_train_oversampled, y_pred_best)}\")  # Print the precision score\n",
    "print(f\"Recall: {recall_score(y_train_oversampled, y_pred_best)}\")  # Print the recall score\n"
   ]
  },
  {
   "cell_type": "code",
   "execution_count": 25,
   "id": "d6c0837c",
   "metadata": {},
   "outputs": [
    {
     "name": "stdout",
     "output_type": "stream",
     "text": [
      "Baseline Model Test set\n",
      "Model AUC: 0.8414314435393079\n",
      "Accuracy: 0.7536830826923813\n",
      "Precision: 0.5262550490478938\n",
      "Recall: 0.7836173564370614\n"
     ]
    }
   ],
   "source": [
    "# Make predictions on the test set using the best trained model\n",
    "y_test_pred = best_model.predict(X_test_scaled)  # Model prediction on the test set\n",
    "\n",
    "# Calculate decision function scores for the test set\n",
    "y_score = best_model.decision_function(X_test_scaled)\n",
    "\n",
    "# Compute the True Positive Rate (TPR) and False Positive Rate (FPR) for the ROC curve\n",
    "fpr, tpr, threshold = roc_curve(y_test, y_score)\n",
    "\n",
    "# Print metrics for the baseline model on the test set\n",
    "print(\"Baseline Model Test set\")\n",
    "print(f\"Model AUC: {auc(fpr, tpr)}\")  # Print the Area Under the ROC Curve (AUC) score\n",
    "print(f\"Accuracy: {accuracy_score(y_test, y_test_pred)}\")  # Print the accuracy score\n",
    "print(f\"Precision: {precision_score(y_test, y_test_pred)}\")  # Print the precision score\n",
    "print(f\"Recall: {recall_score(y_test, y_test_pred)}\")  # Print the recall score"
   ]
  },
  {
   "cell_type": "code",
   "execution_count": 26,
   "id": "cdca23d4",
   "metadata": {},
   "outputs": [
    {
     "data": {
      "image/png": "[encoded data removed]",
      "text/plain": [
       "<Figure size 640x480 with 2 Axes>"
      ]
     },
     "metadata": {},
     "output_type": "display_data"
    }
   ],
   "source": [
    "# Compute the confusion matrix on the test data\n",
    "mat = confusion_matrix(y_test, y_test_pred)\n",
    "\n",
    "# Create a ConfusionMatrixDisplay and plot the confusion matrix\n",
    "conf_mat = ConfusionMatrixDisplay(confusion_matrix=mat, display_labels=best_model.classes_)\n",
    "conf_mat.plot()\n",
    "plt.grid(False)  # Turn off grid lines\n"
   ]
  },
  {
   "cell_type": "code",
   "execution_count": 27,
   "id": "b1c74ce3",
   "metadata": {},
   "outputs": [
    {
     "data": {
      "image/png": "[encoded data removed]",
      "text/plain": [
       "<Figure size 1000x800 with 1 Axes>"
      ]
     },
     "metadata": {},
     "output_type": "display_data"
    }
   ],
   "source": [
    "# Create a larger figure for the ROC curve plot\n",
    "plt.figure(figsize=(10, 8))\n",
    "\n",
    "# Set the line width for the ROC curve plot\n",
    "lw = 2\n",
    "\n",
    "# Plot the ROC curve\n",
    "plt.plot(fpr, tpr, color='darkorange', lw=lw, label='ROC curve')\n",
    "\n",
    "# Add the diagonal line (random guessing)\n",
    "plt.plot([0, 1], [0, 1], color='navy', lw=lw, linestyle='--')\n",
    "\n",
    "# Set plot limits and tick marks\n",
    "plt.xlim([0.0, 1.0])\n",
    "plt.ylim([0.0, 1.05])\n",
    "plt.yticks([i/20.0 for i in range(21)])\n",
    "plt.xticks([i/20.0 for i in range(21)])\n",
    "\n",
    "# Set labels and title\n",
    "plt.xlabel('False Positive Rate')\n",
    "plt.ylabel('True Positive Rate')\n",
    "plt.title('Receiver Operating Characteristic (ROC) Curve')\n",
    "\n",
    "# Add a legend to the lower right corner\n",
    "plt.legend(loc='lower right')\n",
    "\n",
    "# Display the plot\n",
    "plt.show()  # Display the ROC curve plot\n"
   ]
  },
  {
   "cell_type": "code",
   "execution_count": 28,
   "id": "42493064",
   "metadata": {},
   "outputs": [
    {
     "name": "stdout",
     "output_type": "stream",
     "text": [
      "                   Features  Odds_ratio\n",
      "167             country_PRT    4.032772\n",
      "10   previous_cancellations    1.911737\n",
      "224    reserved_room_type_E    1.833521\n",
      "0                 lead_time    1.833276\n",
      "223    reserved_room_type_D    1.743324\n"
     ]
    }
   ],
   "source": [
    "\n",
    "# Get the logistic regression coefficients from the best_model\n",
    "logit_coefficients = best_model.named_steps['logit'].coef_[0]\n",
    "\n",
    "# Calculate odds ratios using exponentiation\n",
    "odds_ratios = np.exp(logit_coefficients)\n",
    "\n",
    "# Create a DataFrame with feature names and their corresponding odds ratios\n",
    "odds_df = pd.DataFrame({'Features': X_train.columns, 'Odds_ratio': odds_ratios})\n",
    "\n",
    "# Sort the DataFrame by Odds_ratio in descending order\n",
    "odds_df = odds_df.sort_values(by='Odds_ratio', ascending=False)\n",
    "\n",
    "# Print the top 10 features with highest odds ratios\n",
    "print(odds_df.head(5))\n"
   ]
  },
  {
   "cell_type": "markdown",
   "id": "f34ddc2c",
   "metadata": {},
   "source": [
    "From the output above of, the top 5 largest paramer coefficients, features that have the highest impact on hotel churning the following intepretations are made;"
   ]
  },
  {
   "cell_type": "markdown",
   "id": "1cd6eda3",
   "metadata": {},
   "source": [
    "- `country_PRT`: The odds of a customer cancelling reservation are approximately 4.03 times higher when the person's country is Portugal as compared to other countries.\n",
    "- `previous_cancellations`: The odds of the customer cancelling reservation are about 1.91 times higher with every single unit increase in previous cancellation.\n",
    "- `reserved_room_type_E`: The odds of a customer cancelling reservation are about 1.83 times higher when the reserved room type is \"E\" compar\n",
    "- `lead_time`: The odds of a customer cancelling reservation  are  about 1.83 times higher with every unit increase in lead time.\n",
    "- `reserved_room_type_D`: The odds of a customer cancelling reservation are about 1.74 times higher when the reserved room type is \"D\" compared to other room types."
   ]
  },
  {
   "cell_type": "code",
   "execution_count": 29,
   "id": "b9c61c86",
   "metadata": {},
   "outputs": [],
   "source": [
    "# Store the logistic regression model using joblib\n",
    "with open('best_model.pkl', 'wb') as f:\n",
    "    joblib.dump(best_model, f)\n",
    "    \n",
    "# The logistic regression model is now stored in the logreg_model.pkl file\n"
   ]
  },
  {
   "cell_type": "markdown",
   "id": "c0c9d0fa",
   "metadata": {},
   "source": [
    "## KNEIGHBORS MODEL"
   ]
  },
  {
   "cell_type": "code",
   "execution_count": 38,
   "id": "bb45ec45",
   "metadata": {},
   "outputs": [
    {
     "data": {
      "text/html": [
       "<div>\n",
       "<style scoped>\n",
       "    .dataframe tbody tr th:only-of-type {\n",
       "        vertical-align: middle;\n",
       "    }\n",
       "\n",
       "    .dataframe tbody tr th {\n",
       "        vertical-align: top;\n",
       "    }\n",
       "\n",
       "    .dataframe thead th {\n",
       "        text-align: right;\n",
       "    }\n",
       "</style>\n",
       "<table border=\"1\" class=\"dataframe\">\n",
       "  <thead>\n",
       "    <tr style=\"text-align: right;\">\n",
       "      <th></th>\n",
       "      <th>Actual</th>\n",
       "      <th>Predicted</th>\n",
       "    </tr>\n",
       "  </thead>\n",
       "  <tbody>\n",
       "    <tr>\n",
       "      <th>54695</th>\n",
       "      <td>1</td>\n",
       "      <td>0</td>\n",
       "    </tr>\n",
       "    <tr>\n",
       "      <th>99611</th>\n",
       "      <td>0</td>\n",
       "      <td>0</td>\n",
       "    </tr>\n",
       "    <tr>\n",
       "      <th>35686</th>\n",
       "      <td>0</td>\n",
       "      <td>0</td>\n",
       "    </tr>\n",
       "    <tr>\n",
       "      <th>14344</th>\n",
       "      <td>0</td>\n",
       "      <td>0</td>\n",
       "    </tr>\n",
       "    <tr>\n",
       "      <th>91524</th>\n",
       "      <td>0</td>\n",
       "      <td>0</td>\n",
       "    </tr>\n",
       "  </tbody>\n",
       "</table>\n",
       "</div>"
      ],
      "text/plain": [
       "       Actual  Predicted\n",
       "54695       1          0\n",
       "99611       0          0\n",
       "35686       0          0\n",
       "14344       0          0\n",
       "91524       0          0"
      ]
     },
     "execution_count": 38,
     "metadata": {},
     "output_type": "execute_result"
    }
   ],
   "source": [
    "# Instantiated a KNeighborsClassifier object\n",
    "knn = KNeighborsClassifier()\n",
    "\n",
    "# Fit the classifier on the resampled training data\n",
    "knn.fit(X_resampled, y_resampled)\n",
    "\n",
    "# Make predictions on the test data\n",
    "y_pred = knn.predict(X_test_scaled)\n",
    "\n",
    "# Compare the predictions made by the model\n",
    "comparison_frame = pd.DataFrame({'Actual' : y_test, 'Predicted' : y_pred})\n",
    "comparison_frame.sample(5)"
   ]
  },
  {
   "cell_type": "code",
   "execution_count": 25,
   "id": "a24c9253",
   "metadata": {},
   "outputs": [
    {
     "name": "stdout",
     "output_type": "stream",
     "text": [
      "              precision    recall  f1-score   support\n",
      "\n",
      "           0       0.73      1.00      0.85     19150\n",
      "           1       1.00      0.00      0.00      6983\n",
      "\n",
      "    accuracy                           0.73     26133\n",
      "   macro avg       0.87      0.50      0.42     26133\n",
      "weighted avg       0.80      0.73      0.62     26133\n",
      "\n",
      "[[19150     0]\n",
      " [ 6982     1]]\n",
      "F1 Score:  0.00028636884306987396\n"
     ]
    }
   ],
   "source": [
    "#  Using Classification report\n",
    "print(classification_report(y_test, y_pred))\n",
    "\n",
    "#  Using  the accuracy score\n",
    "print(confusion_matrix(y_test, y_pred))\n",
    "print('F1 Score: ', f1_score(y_test, y_pred))"
   ]
  },
  {
   "cell_type": "markdown",
   "id": "d97258ec",
   "metadata": {},
   "source": [
    "- These results suggest that the model is biased towards predicting instances as belonging to class 0 and is not performing well at identifying instances of class 1. I decided to try different approaches to address this issue, such as using a  hyperparameter tuning using a Randomizedsearch CV"
   ]
  },
  {
   "cell_type": "markdown",
   "id": "23a59b80",
   "metadata": {},
   "source": [
    "### Hyperparameter Tuning using RandomizedsearchCV"
   ]
  },
  {
   "cell_type": "code",
   "execution_count": 29,
   "id": "d4ba5f4e",
   "metadata": {},
   "outputs": [
    {
     "name": "stdout",
     "output_type": "stream",
     "text": [
      "Best Parameters: {'weights': 'uniform', 'p': 1, 'n_neighbors': 1, 'leaf_size': 30}\n",
      "Best accuracy: 0.811500260186882\n"
     ]
    }
   ],
   "source": [
    "# Defined the parameter grid\n",
    "param_dist = {\n",
    "    'leaf_size': [30,40,50],\n",
    "    'n_neighbors':[1,3],      # Number of neighbors\n",
    "    'weights': ['uniform'],  # Weighting options\n",
    "    'p': [1, 2]  # Distance metric: 1 for Manhattan, 2 for Euclidean\n",
    "}\n",
    "\n",
    "# Create a k-NN classifier instance\n",
    "knn = KNeighborsClassifier()\n",
    "\n",
    "# Create RandomizedSearchCV instance\n",
    "random_search = RandomizedSearchCV(knn, \n",
    "                                   param_distributions=param_dist, \n",
    "                                   scoring='accuracy',\n",
    "                                   cv=3, \n",
    "                                   n_iter=12,\n",
    "                            \n",
    "                                   random_state=42, \n",
    "                                   n_jobs=-1)\n",
    "\n",
    "\n",
    "# Fit the RandomizedSearchCV\n",
    "random_search.fit(X_resampled, y_resampled)\n",
    "\n",
    "# checking for parameters and performance\n",
    "print(\"Best Parameters:\", random_search.best_params_)\n",
    "print(\"Best accuracy:\", random_search.best_score_)\n",
    "\n",
    "\n",
    "# finding the best model\n",
    "best_knn = random_search.best_estimator_\n",
    "y_pred = best_knn.predict(X_test_scaled)"
   ]
  },
  {
   "cell_type": "markdown",
   "id": "ace51af3",
   "metadata": {},
   "source": [
    "- The best hyperparameters found by RandomizedSearchCV for your k-NN model are weights='uniform', p=1, n_neighbors=1, and leaf_size=30. With these hyperparameters, the model achieved an accuracy of 0.811500260186882 on the resampled data.\n",
    "\n",
    "- Accuracy score indicates that the model correctly classified about 81% of the instances in the resampled data. However, it’s important to note that this score is based on the resampled data and may not reflect the model’s performance on the original, imbalanced data or on new, unseen data.\n",
    "\n",
    "- To get a better understanding of how well the model is performing, you can evaluate it on a separate test dataset and calculate additional performance metrics such as classification report"
   ]
  },
  {
   "cell_type": "markdown",
   "id": "932060f4",
   "metadata": {},
   "source": [
    "### PERFORMANCE ON THE TEST DATA"
   ]
  },
  {
   "cell_type": "code",
   "execution_count": 30,
   "id": "8638e239",
   "metadata": {},
   "outputs": [
    {
     "name": "stdout",
     "output_type": "stream",
     "text": [
      "              precision    recall  f1-score   support\n",
      "\n",
      "           0       0.73      0.50      0.59     19150\n",
      "           1       0.27      0.51      0.35      6983\n",
      "\n",
      "    accuracy                           0.50     26133\n",
      "   macro avg       0.50      0.50      0.47     26133\n",
      "weighted avg       0.61      0.50      0.53     26133\n",
      "\n"
     ]
    }
   ],
   "source": [
    "#  predictions on the test set\n",
    "y_pred = best_knn.predict(X_test_scaled)\n",
    "\n",
    "# the classification report\n",
    "report = classification_report(y_test, y_pred)\n",
    "\n",
    "# Print the report\n",
    "print(report)"
   ]
  },
  {
   "cell_type": "markdown",
   "id": "774c15d5",
   "metadata": {},
   "source": [
    "- This displayed a moderate level of performance on the test data, with better performance seen for the second category as opposed to the first category. Exploring alternative strategies like adjusting  adopting a different classification algorithm might be beneficial to enhance the model's performance."
   ]
  },
  {
   "cell_type": "markdown",
   "id": "5ace9f2f",
   "metadata": {},
   "source": [
    "### Hyperparameter Tuning using GridsearchCV"
   ]
  },
  {
   "cell_type": "code",
   "execution_count": 40,
   "id": "db4ec27f",
   "metadata": {},
   "outputs": [
    {
     "name": "stdout",
     "output_type": "stream",
     "text": [
      "Best Parameters: {'leaf_size': 10, 'n_neighbors': 1, 'p': 1, 'weights': 'uniform'}\n",
      "Best accuracy: 0.811873571800267\n"
     ]
    }
   ],
   "source": [
    "# Define the expanded parameter grid\n",
    "param_grid = {\n",
    "    'leaf_size': [10, 20, 30, 40],\n",
    "    'n_neighbors': [1, 3, 5, 7],\n",
    "    'weights': ['uniform', 'distance'],\n",
    "    'p': [1, 2]\n",
    "}\n",
    "\n",
    "# Create a k-NN classifier instance\n",
    "knn = KNeighborsClassifier()\n",
    "\n",
    "# Create GridSearchCV instance with different cross-validation strategy\n",
    "grid_search = GridSearchCV(knn,\n",
    "                           param_grid=param_grid,\n",
    "                           scoring='accuracy',\n",
    "                           cv=3,\n",
    "                           n_jobs=-1)\n",
    "\n",
    "# Fit the GridSearchCV\n",
    "grid_search.fit(X_resampled, y_resampled)\n",
    "\n",
    "# Check for parameters and performance\n",
    "print(\"Best Parameters:\", grid_search.best_params_)\n",
    "print(\"Best accuracy:\", grid_search.best_score_)\n",
    "\n",
    "# Find the best model\n",
    "best_knn = grid_search.best_estimator_\n",
    "y_pred = best_knn.predict(X_test_scaled)\n"
   ]
  },
  {
   "cell_type": "code",
   "execution_count": 31,
   "id": "afcead49",
   "metadata": {},
   "outputs": [],
   "source": [
    "# Store the kneighbors model using joblib\n",
    "with open('knn.pkl', 'wb') as f:\n",
    "    joblib.dump(knn, f)\n",
    "    "
   ]
  },
  {
   "cell_type": "markdown",
   "id": "93c1e576",
   "metadata": {},
   "source": [
    "## Building a DecisionTreeClassifier"
   ]
  },
  {
   "cell_type": "markdown",
   "id": "0d598dfd",
   "metadata": {},
   "source": [
    "We will build a a DecisionTreeClassifier using the default parameters before using GridSearchCV to find the best parameters"
   ]
  },
  {
   "cell_type": "code",
   "execution_count": 25,
   "id": "8b2a4da7",
   "metadata": {},
   "outputs": [
    {
     "data": {
      "text/html": [
       "<style>#sk-container-id-1 {color: black;}#sk-container-id-1 pre{padding: 0;}#sk-container-id-1 div.sk-toggleable {background-color: white;}#sk-container-id-1 label.sk-toggleable__label {cursor: pointer;display: block;width: 100%;margin-bottom: 0;padding: 0.3em;box-sizing: border-box;text-align: center;}#sk-container-id-1 label.sk-toggleable__label-arrow:before {content: \"▸\";float: left;margin-right: 0.25em;color: #696969;}#sk-container-id-1 label.sk-toggleable__label-arrow:hover:before {color: black;}#sk-container-id-1 div.sk-estimator:hover label.sk-toggleable__label-arrow:before {color: black;}#sk-container-id-1 div.sk-toggleable__content {max-height: 0;max-width: 0;overflow: hidden;text-align: left;background-color: #f0f8ff;}#sk-container-id-1 div.sk-toggleable__content pre {margin: 0.2em;color: black;border-radius: 0.25em;background-color: #f0f8ff;}#sk-container-id-1 input.sk-toggleable__control:checked~div.sk-toggleable__content {max-height: 200px;max-width: 100%;overflow: auto;}#sk-container-id-1 input.sk-toggleable__control:checked~label.sk-toggleable__label-arrow:before {content: \"▾\";}#sk-container-id-1 div.sk-estimator input.sk-toggleable__control:checked~label.sk-toggleable__label {background-color: #d4ebff;}#sk-container-id-1 div.sk-label input.sk-toggleable__control:checked~label.sk-toggleable__label {background-color: #d4ebff;}#sk-container-id-1 input.sk-hidden--visually {border: 0;clip: rect(1px 1px 1px 1px);clip: rect(1px, 1px, 1px, 1px);height: 1px;margin: -1px;overflow: hidden;padding: 0;position: absolute;width: 1px;}#sk-container-id-1 div.sk-estimator {font-family: monospace;background-color: #f0f8ff;border: 1px dotted black;border-radius: 0.25em;box-sizing: border-box;margin-bottom: 0.5em;}#sk-container-id-1 div.sk-estimator:hover {background-color: #d4ebff;}#sk-container-id-1 div.sk-parallel-item::after {content: \"\";width: 100%;border-bottom: 1px solid gray;flex-grow: 1;}#sk-container-id-1 div.sk-label:hover label.sk-toggleable__label {background-color: #d4ebff;}#sk-container-id-1 div.sk-serial::before {content: \"\";position: absolute;border-left: 1px solid gray;box-sizing: border-box;top: 0;bottom: 0;left: 50%;z-index: 0;}#sk-container-id-1 div.sk-serial {display: flex;flex-direction: column;align-items: center;background-color: white;padding-right: 0.2em;padding-left: 0.2em;position: relative;}#sk-container-id-1 div.sk-item {position: relative;z-index: 1;}#sk-container-id-1 div.sk-parallel {display: flex;align-items: stretch;justify-content: center;background-color: white;position: relative;}#sk-container-id-1 div.sk-item::before, #sk-container-id-1 div.sk-parallel-item::before {content: \"\";position: absolute;border-left: 1px solid gray;box-sizing: border-box;top: 0;bottom: 0;left: 50%;z-index: -1;}#sk-container-id-1 div.sk-parallel-item {display: flex;flex-direction: column;z-index: 1;position: relative;background-color: white;}#sk-container-id-1 div.sk-parallel-item:first-child::after {align-self: flex-end;width: 50%;}#sk-container-id-1 div.sk-parallel-item:last-child::after {align-self: flex-start;width: 50%;}#sk-container-id-1 div.sk-parallel-item:only-child::after {width: 0;}#sk-container-id-1 div.sk-dashed-wrapped {border: 1px dashed gray;margin: 0 0.4em 0.5em 0.4em;box-sizing: border-box;padding-bottom: 0.4em;background-color: white;}#sk-container-id-1 div.sk-label label {font-family: monospace;font-weight: bold;display: inline-block;line-height: 1.2em;}#sk-container-id-1 div.sk-label-container {text-align: center;}#sk-container-id-1 div.sk-container {/* jupyter's `normalize.less` sets `[hidden] { display: none; }` but bootstrap.min.css set `[hidden] { display: none !important; }` so we also need the `!important` here to be able to override the default hidden behavior on the sphinx rendered scikit-learn.org. See: https://github.com/scikit-learn/scikit-learn/issues/21755 */display: inline-block !important;position: relative;}#sk-container-id-1 div.sk-text-repr-fallback {display: none;}</style><div id=\"sk-container-id-1\" class=\"sk-top-container\"><div class=\"sk-text-repr-fallback\"><pre>DecisionTreeClassifier(random_state=123)</pre><b>In a Jupyter environment, please rerun this cell to show the HTML representation or trust the notebook. <br />On GitHub, the HTML representation is unable to render, please try loading this page with nbviewer.org.</b></div><div class=\"sk-container\" hidden><div class=\"sk-item\"><div class=\"sk-estimator sk-toggleable\"><input class=\"sk-toggleable__control sk-hidden--visually\" id=\"sk-estimator-id-1\" type=\"checkbox\" checked><label for=\"sk-estimator-id-1\" class=\"sk-toggleable__label sk-toggleable__label-arrow\">DecisionTreeClassifier</label><div class=\"sk-toggleable__content\"><pre>DecisionTreeClassifier(random_state=123)</pre></div></div></div></div></div>"
      ],
      "text/plain": [
       "DecisionTreeClassifier(random_state=123)"
      ]
     },
     "execution_count": 25,
     "metadata": {},
     "output_type": "execute_result"
    }
   ],
   "source": [
    "# creating an object from the classifier\n",
    "tree_clf = DecisionTreeClassifier(random_state=123)\n",
    "# fitting the classifier\n",
    "tree_clf.fit(X_train_scaled,y_train)\n"
   ]
  },
  {
   "cell_type": "code",
   "execution_count": 26,
   "id": "1563af80",
   "metadata": {},
   "outputs": [
    {
     "name": "stdout",
     "output_type": "stream",
     "text": [
      "              precision    recall  f1-score   support\n",
      "\n",
      "           0       1.00      1.00      1.00     44199\n",
      "           1       1.00      0.99      1.00     16778\n",
      "\n",
      "    accuracy                           1.00     60977\n",
      "   macro avg       1.00      1.00      1.00     60977\n",
      "weighted avg       1.00      1.00      1.00     60977\n",
      "\n"
     ]
    }
   ],
   "source": [
    "# creating a classification report of the classifier..we will begin with the training dataset\n",
    "y_train_pred =tree_clf.predict(X_train_scaled)\n",
    "print(classification_report(y_train,y_train_pred))"
   ]
  },
  {
   "cell_type": "code",
   "execution_count": 27,
   "id": "887aa6a2",
   "metadata": {},
   "outputs": [
    {
     "name": "stdout",
     "output_type": "stream",
     "text": [
      "              precision    recall  f1-score   support\n",
      "\n",
      "           0       0.86      0.85      0.85     19150\n",
      "           1       0.59      0.61      0.60      6983\n",
      "\n",
      "    accuracy                           0.79     26133\n",
      "   macro avg       0.73      0.73      0.73     26133\n",
      "weighted avg       0.79      0.79      0.79     26133\n",
      "\n"
     ]
    }
   ],
   "source": [
    "# taking a look at the report when the model is used on the test set\n",
    "y_test_pred = tree_clf.predict(X_test_scaled)\n",
    "print(classification_report(y_test,y_test_pred))"
   ]
  },
  {
   "cell_type": "markdown",
   "id": "e7867757",
   "metadata": {},
   "source": [
    "From the two reports it can be concluded that our model performance on unseen data is low(it cannot generalize).\n",
    "- The precision and recall scores are high when predicting the class 0(hotel reservations that were not cancelled) but low when predicting class 1(cancelled hotel reservation).\n",
    "- The low test scores are a sign of an overfitted model.Next we will try determining the best parameters for the classifier using GridSearchCV"
   ]
  },
  {
   "cell_type": "markdown",
   "id": "ba3efecb",
   "metadata": {},
   "source": [
    "### Using GridSearchCV to build a DecisionTreeClassifier"
   ]
  },
  {
   "cell_type": "code",
   "execution_count": 28,
   "id": "bc3773c1",
   "metadata": {},
   "outputs": [],
   "source": [
    "# To reduce the model complexity we must prune/reduce some of the parameters to reduce model complexity\n",
    "# creating a parameter grid\n",
    "params= {'criterion':['gini','entropy','log_loss'],\n",
    "             'max_depth':[3,5,7,10],\n",
    "             'min_samples_split':[100,300,500,1000]}"
   ]
  },
  {
   "cell_type": "code",
   "execution_count": 29,
   "id": "8ec0ff60",
   "metadata": {},
   "outputs": [
    {
     "data": {
      "text/html": [
       "<style>#sk-container-id-2 {color: black;}#sk-container-id-2 pre{padding: 0;}#sk-container-id-2 div.sk-toggleable {background-color: white;}#sk-container-id-2 label.sk-toggleable__label {cursor: pointer;display: block;width: 100%;margin-bottom: 0;padding: 0.3em;box-sizing: border-box;text-align: center;}#sk-container-id-2 label.sk-toggleable__label-arrow:before {content: \"▸\";float: left;margin-right: 0.25em;color: #696969;}#sk-container-id-2 label.sk-toggleable__label-arrow:hover:before {color: black;}#sk-container-id-2 div.sk-estimator:hover label.sk-toggleable__label-arrow:before {color: black;}#sk-container-id-2 div.sk-toggleable__content {max-height: 0;max-width: 0;overflow: hidden;text-align: left;background-color: #f0f8ff;}#sk-container-id-2 div.sk-toggleable__content pre {margin: 0.2em;color: black;border-radius: 0.25em;background-color: #f0f8ff;}#sk-container-id-2 input.sk-toggleable__control:checked~div.sk-toggleable__content {max-height: 200px;max-width: 100%;overflow: auto;}#sk-container-id-2 input.sk-toggleable__control:checked~label.sk-toggleable__label-arrow:before {content: \"▾\";}#sk-container-id-2 div.sk-estimator input.sk-toggleable__control:checked~label.sk-toggleable__label {background-color: #d4ebff;}#sk-container-id-2 div.sk-label input.sk-toggleable__control:checked~label.sk-toggleable__label {background-color: #d4ebff;}#sk-container-id-2 input.sk-hidden--visually {border: 0;clip: rect(1px 1px 1px 1px);clip: rect(1px, 1px, 1px, 1px);height: 1px;margin: -1px;overflow: hidden;padding: 0;position: absolute;width: 1px;}#sk-container-id-2 div.sk-estimator {font-family: monospace;background-color: #f0f8ff;border: 1px dotted black;border-radius: 0.25em;box-sizing: border-box;margin-bottom: 0.5em;}#sk-container-id-2 div.sk-estimator:hover {background-color: #d4ebff;}#sk-container-id-2 div.sk-parallel-item::after {content: \"\";width: 100%;border-bottom: 1px solid gray;flex-grow: 1;}#sk-container-id-2 div.sk-label:hover label.sk-toggleable__label {background-color: #d4ebff;}#sk-container-id-2 div.sk-serial::before {content: \"\";position: absolute;border-left: 1px solid gray;box-sizing: border-box;top: 0;bottom: 0;left: 50%;z-index: 0;}#sk-container-id-2 div.sk-serial {display: flex;flex-direction: column;align-items: center;background-color: white;padding-right: 0.2em;padding-left: 0.2em;position: relative;}#sk-container-id-2 div.sk-item {position: relative;z-index: 1;}#sk-container-id-2 div.sk-parallel {display: flex;align-items: stretch;justify-content: center;background-color: white;position: relative;}#sk-container-id-2 div.sk-item::before, #sk-container-id-2 div.sk-parallel-item::before {content: \"\";position: absolute;border-left: 1px solid gray;box-sizing: border-box;top: 0;bottom: 0;left: 50%;z-index: -1;}#sk-container-id-2 div.sk-parallel-item {display: flex;flex-direction: column;z-index: 1;position: relative;background-color: white;}#sk-container-id-2 div.sk-parallel-item:first-child::after {align-self: flex-end;width: 50%;}#sk-container-id-2 div.sk-parallel-item:last-child::after {align-self: flex-start;width: 50%;}#sk-container-id-2 div.sk-parallel-item:only-child::after {width: 0;}#sk-container-id-2 div.sk-dashed-wrapped {border: 1px dashed gray;margin: 0 0.4em 0.5em 0.4em;box-sizing: border-box;padding-bottom: 0.4em;background-color: white;}#sk-container-id-2 div.sk-label label {font-family: monospace;font-weight: bold;display: inline-block;line-height: 1.2em;}#sk-container-id-2 div.sk-label-container {text-align: center;}#sk-container-id-2 div.sk-container {/* jupyter's `normalize.less` sets `[hidden] { display: none; }` but bootstrap.min.css set `[hidden] { display: none !important; }` so we also need the `!important` here to be able to override the default hidden behavior on the sphinx rendered scikit-learn.org. See: https://github.com/scikit-learn/scikit-learn/issues/21755 */display: inline-block !important;position: relative;}#sk-container-id-2 div.sk-text-repr-fallback {display: none;}</style><div id=\"sk-container-id-2\" class=\"sk-top-container\"><div class=\"sk-text-repr-fallback\"><pre>GridSearchCV(cv=5, estimator=DecisionTreeClassifier(random_state=123),\n",
       "             param_grid={&#x27;criterion&#x27;: [&#x27;gini&#x27;, &#x27;entropy&#x27;, &#x27;log_loss&#x27;],\n",
       "                         &#x27;max_depth&#x27;: [3, 5, 7, 10],\n",
       "                         &#x27;min_samples_split&#x27;: [100, 300, 500, 1000]})</pre><b>In a Jupyter environment, please rerun this cell to show the HTML representation or trust the notebook. <br />On GitHub, the HTML representation is unable to render, please try loading this page with nbviewer.org.</b></div><div class=\"sk-container\" hidden><div class=\"sk-item sk-dashed-wrapped\"><div class=\"sk-label-container\"><div class=\"sk-label sk-toggleable\"><input class=\"sk-toggleable__control sk-hidden--visually\" id=\"sk-estimator-id-2\" type=\"checkbox\" ><label for=\"sk-estimator-id-2\" class=\"sk-toggleable__label sk-toggleable__label-arrow\">GridSearchCV</label><div class=\"sk-toggleable__content\"><pre>GridSearchCV(cv=5, estimator=DecisionTreeClassifier(random_state=123),\n",
       "             param_grid={&#x27;criterion&#x27;: [&#x27;gini&#x27;, &#x27;entropy&#x27;, &#x27;log_loss&#x27;],\n",
       "                         &#x27;max_depth&#x27;: [3, 5, 7, 10],\n",
       "                         &#x27;min_samples_split&#x27;: [100, 300, 500, 1000]})</pre></div></div></div><div class=\"sk-parallel\"><div class=\"sk-parallel-item\"><div class=\"sk-item\"><div class=\"sk-label-container\"><div class=\"sk-label sk-toggleable\"><input class=\"sk-toggleable__control sk-hidden--visually\" id=\"sk-estimator-id-3\" type=\"checkbox\" ><label for=\"sk-estimator-id-3\" class=\"sk-toggleable__label sk-toggleable__label-arrow\">estimator: DecisionTreeClassifier</label><div class=\"sk-toggleable__content\"><pre>DecisionTreeClassifier(random_state=123)</pre></div></div></div><div class=\"sk-serial\"><div class=\"sk-item\"><div class=\"sk-estimator sk-toggleable\"><input class=\"sk-toggleable__control sk-hidden--visually\" id=\"sk-estimator-id-4\" type=\"checkbox\" ><label for=\"sk-estimator-id-4\" class=\"sk-toggleable__label sk-toggleable__label-arrow\">DecisionTreeClassifier</label><div class=\"sk-toggleable__content\"><pre>DecisionTreeClassifier(random_state=123)</pre></div></div></div></div></div></div></div></div></div></div>"
      ],
      "text/plain": [
       "GridSearchCV(cv=5, estimator=DecisionTreeClassifier(random_state=123),\n",
       "             param_grid={'criterion': ['gini', 'entropy', 'log_loss'],\n",
       "                         'max_depth': [3, 5, 7, 10],\n",
       "                         'min_samples_split': [100, 300, 500, 1000]})"
      ]
     },
     "execution_count": 29,
     "metadata": {},
     "output_type": "execute_result"
    }
   ],
   "source": [
    "# performing gridsearch to find the best model from the parameter_grid with cv = 5\n",
    "grid_clf = GridSearchCV(tree_clf,param_grid=params,cv=5)\n",
    "grid_clf.fit(X_train_scaled,y_train)"
   ]
  },
  {
   "cell_type": "code",
   "execution_count": 30,
   "id": "c8e624ef",
   "metadata": {},
   "outputs": [
    {
     "name": "stdout",
     "output_type": "stream",
     "text": [
      "              precision    recall  f1-score   support\n",
      "\n",
      "           0       0.86      0.90      0.88     44199\n",
      "           1       0.70      0.62      0.66     16778\n",
      "\n",
      "    accuracy                           0.82     60977\n",
      "   macro avg       0.78      0.76      0.77     60977\n",
      "weighted avg       0.82      0.82      0.82     60977\n",
      "\n"
     ]
    }
   ],
   "source": [
    "# assignimg the best parameters from the search to a variable\n",
    "best_params = grid_clf.best_params_\n",
    "# creating a DecisionTreeClassifier from the parameters\n",
    "tree_clf2 = DecisionTreeClassifier(random_state=123,**best_params)\n",
    "# fitting the classifier\n",
    "tree_clf2.fit(X_train_scaled,y_train)\n",
    "# printing a classification_report using the training set\n",
    "y_hat_train = tree_clf2.predict(X_train_scaled)\n",
    "print(classification_report(y_train,y_hat_train))"
   ]
  },
  {
   "cell_type": "code",
   "execution_count": 31,
   "id": "7d76c3b5",
   "metadata": {},
   "outputs": [
    {
     "name": "stdout",
     "output_type": "stream",
     "text": [
      "              precision    recall  f1-score   support\n",
      "\n",
      "           0       0.86      0.89      0.88     19150\n",
      "           1       0.67      0.61      0.64      6983\n",
      "\n",
      "    accuracy                           0.82     26133\n",
      "   macro avg       0.77      0.75      0.76     26133\n",
      "weighted avg       0.81      0.82      0.81     26133\n",
      "\n"
     ]
    }
   ],
   "source": [
    "# printing a classification_report using the testing set\n",
    "y_pred_test = tree_clf2.predict(X_test_scaled)\n",
    "print(classification_report(y_test,y_pred_test))"
   ]
  },
  {
   "cell_type": "markdown",
   "id": "65ea20b4",
   "metadata": {},
   "source": [
    "From the classification report we can conclude that our model can now generalize to unseen data.\n",
    "The precision and recall are high for class 0 (hotel reservations that were not cancelled).However,for class zero they are not that high.\n",
    "- If the hotel management is concerned with hotel reservations that will not be cancelled then this model can be of great value to the management.\n",
    "- In other words if the model predicts that a reservation will not be cancelled then there is a higher probability that the model is right.\n",
    "- The model has an accuracy score of 82% which is higher than our metric for success."
   ]
  },
  {
   "cell_type": "code",
   "execution_count": 32,
   "id": "8f3a7107",
   "metadata": {},
   "outputs": [
    {
     "data": {
      "text/plain": [
       "<Axes: >"
      ]
     },
     "execution_count": 32,
     "metadata": {},
     "output_type": "execute_result"
    },
    {
     "data": {
      "image/png": "[encoded data removed]",
      "text/plain": [
       "<Figure size 640x480 with 2 Axes>"
      ]
     },
     "metadata": {},
     "output_type": "display_data"
    }
   ],
   "source": [
    "# creating a pandas dataframe of the feature importance\n",
    "feat_importances = pd.DataFrame(tree_clf2.feature_importances_, index=X_train_scaled.columns,\n",
    "                                columns=[\"Importance\"])\n",
    "# sorting  in descending order\n",
    "feat_importances.sort_values(by='Importance', ascending=False, inplace=True)\n",
    "# creating a heatmap of the top_10 features that have an impact on the model..ie influence whether a hotel \n",
    "# reservation will be cancelled or not\n",
    "sns.heatmap(feat_importances[:20])"
   ]
  },
  {
   "cell_type": "code",
   "execution_count": 33,
   "id": "831fed92",
   "metadata": {},
   "outputs": [
    {
     "data": {
      "image/png": "[encoded data removed]",
      "text/plain": [
       "<Figure size 640x480 with 1 Axes>"
      ]
     },
     "metadata": {},
     "output_type": "display_data"
    }
   ],
   "source": [
    "# creating a bar graph of the top 10 features\n",
    "feat_importances[:10].plot(kind='bar');"
   ]
  },
  {
   "cell_type": "markdown",
   "id": "7fefc3f4",
   "metadata": {},
   "source": [
    "### creating a pipeline for the DecisionTreeClassiffier"
   ]
  },
  {
   "cell_type": "code",
   "execution_count": 34,
   "id": "6c7db0c3",
   "metadata": {},
   "outputs": [],
   "source": [
    "# creating a pipeline\n",
    "pipe_tree = Pipeline([('scaler',MinMaxScaler()),\n",
    "                     ('tree',DecisionTreeClassifier(random_state=123,**best_params))])\n",
    "# fitting the pipeline\n",
    "tree_model = pipe_tree.fit(X_train,y_train)\n"
   ]
  },
  {
   "cell_type": "code",
   "execution_count": 45,
   "id": "9559e503",
   "metadata": {},
   "outputs": [],
   "source": [
    "# storing the model using joblib\n",
    "with open('tree_model.pkl','wb') as f:\n",
    "    joblib.dump(tree_model,f)\n",
    "# the model is now stored in the tree_model.pkl file"
   ]
  },
  {
   "cell_type": "code",
   "execution_count": 36,
   "id": "3eea98a1",
   "metadata": {},
   "outputs": [
    {
     "data": {
      "text/plain": [
       "{'criterion': 'gini', 'max_depth': 10, 'min_samples_split': 100}"
      ]
     },
     "execution_count": 36,
     "metadata": {},
     "output_type": "execute_result"
    }
   ],
   "source": [
    "# displaying the best parameters from the grid search\n",
    "best_params"
   ]
  },
  {
   "cell_type": "markdown",
   "id": "71a70e52",
   "metadata": {},
   "source": [
    "## Random Forest Algorithm\n",
    "The Random Forest classifier is an ensemble learning technique that goes beyond using a single decision tree for predictions. Instead, it constructs and utilizes multiple decision trees within its framework. By aggregating the predictions from each individual tree, the Random Forest makes its final prediction based on a majority vote among these individual tree predictions. This method of combining predictions helps improve accuracy and addresses the issue of overfitting that can occur with a single decision tree."
   ]
  },
  {
   "cell_type": "code",
   "execution_count": 39,
   "id": "0f2b8c3a",
   "metadata": {},
   "outputs": [
    {
     "data": {
      "text/html": [
       "<style>#sk-container-id-3 {color: black;}#sk-container-id-3 pre{padding: 0;}#sk-container-id-3 div.sk-toggleable {background-color: white;}#sk-container-id-3 label.sk-toggleable__label {cursor: pointer;display: block;width: 100%;margin-bottom: 0;padding: 0.3em;box-sizing: border-box;text-align: center;}#sk-container-id-3 label.sk-toggleable__label-arrow:before {content: \"▸\";float: left;margin-right: 0.25em;color: #696969;}#sk-container-id-3 label.sk-toggleable__label-arrow:hover:before {color: black;}#sk-container-id-3 div.sk-estimator:hover label.sk-toggleable__label-arrow:before {color: black;}#sk-container-id-3 div.sk-toggleable__content {max-height: 0;max-width: 0;overflow: hidden;text-align: left;background-color: #f0f8ff;}#sk-container-id-3 div.sk-toggleable__content pre {margin: 0.2em;color: black;border-radius: 0.25em;background-color: #f0f8ff;}#sk-container-id-3 input.sk-toggleable__control:checked~div.sk-toggleable__content {max-height: 200px;max-width: 100%;overflow: auto;}#sk-container-id-3 input.sk-toggleable__control:checked~label.sk-toggleable__label-arrow:before {content: \"▾\";}#sk-container-id-3 div.sk-estimator input.sk-toggleable__control:checked~label.sk-toggleable__label {background-color: #d4ebff;}#sk-container-id-3 div.sk-label input.sk-toggleable__control:checked~label.sk-toggleable__label {background-color: #d4ebff;}#sk-container-id-3 input.sk-hidden--visually {border: 0;clip: rect(1px 1px 1px 1px);clip: rect(1px, 1px, 1px, 1px);height: 1px;margin: -1px;overflow: hidden;padding: 0;position: absolute;width: 1px;}#sk-container-id-3 div.sk-estimator {font-family: monospace;background-color: #f0f8ff;border: 1px dotted black;border-radius: 0.25em;box-sizing: border-box;margin-bottom: 0.5em;}#sk-container-id-3 div.sk-estimator:hover {background-color: #d4ebff;}#sk-container-id-3 div.sk-parallel-item::after {content: \"\";width: 100%;border-bottom: 1px solid gray;flex-grow: 1;}#sk-container-id-3 div.sk-label:hover label.sk-toggleable__label {background-color: #d4ebff;}#sk-container-id-3 div.sk-serial::before {content: \"\";position: absolute;border-left: 1px solid gray;box-sizing: border-box;top: 0;bottom: 0;left: 50%;z-index: 0;}#sk-container-id-3 div.sk-serial {display: flex;flex-direction: column;align-items: center;background-color: white;padding-right: 0.2em;padding-left: 0.2em;position: relative;}#sk-container-id-3 div.sk-item {position: relative;z-index: 1;}#sk-container-id-3 div.sk-parallel {display: flex;align-items: stretch;justify-content: center;background-color: white;position: relative;}#sk-container-id-3 div.sk-item::before, #sk-container-id-3 div.sk-parallel-item::before {content: \"\";position: absolute;border-left: 1px solid gray;box-sizing: border-box;top: 0;bottom: 0;left: 50%;z-index: -1;}#sk-container-id-3 div.sk-parallel-item {display: flex;flex-direction: column;z-index: 1;position: relative;background-color: white;}#sk-container-id-3 div.sk-parallel-item:first-child::after {align-self: flex-end;width: 50%;}#sk-container-id-3 div.sk-parallel-item:last-child::after {align-self: flex-start;width: 50%;}#sk-container-id-3 div.sk-parallel-item:only-child::after {width: 0;}#sk-container-id-3 div.sk-dashed-wrapped {border: 1px dashed gray;margin: 0 0.4em 0.5em 0.4em;box-sizing: border-box;padding-bottom: 0.4em;background-color: white;}#sk-container-id-3 div.sk-label label {font-family: monospace;font-weight: bold;display: inline-block;line-height: 1.2em;}#sk-container-id-3 div.sk-label-container {text-align: center;}#sk-container-id-3 div.sk-container {/* jupyter's `normalize.less` sets `[hidden] { display: none; }` but bootstrap.min.css set `[hidden] { display: none !important; }` so we also need the `!important` here to be able to override the default hidden behavior on the sphinx rendered scikit-learn.org. See: https://github.com/scikit-learn/scikit-learn/issues/21755 */display: inline-block !important;position: relative;}#sk-container-id-3 div.sk-text-repr-fallback {display: none;}</style><div id=\"sk-container-id-3\" class=\"sk-top-container\"><div class=\"sk-text-repr-fallback\"><pre>RandomForestClassifier(random_state=42)</pre><b>In a Jupyter environment, please rerun this cell to show the HTML representation or trust the notebook. <br />On GitHub, the HTML representation is unable to render, please try loading this page with nbviewer.org.</b></div><div class=\"sk-container\" hidden><div class=\"sk-item\"><div class=\"sk-estimator sk-toggleable\"><input class=\"sk-toggleable__control sk-hidden--visually\" id=\"sk-estimator-id-5\" type=\"checkbox\" checked><label for=\"sk-estimator-id-5\" class=\"sk-toggleable__label sk-toggleable__label-arrow\">RandomForestClassifier</label><div class=\"sk-toggleable__content\"><pre>RandomForestClassifier(random_state=42)</pre></div></div></div></div></div>"
      ],
      "text/plain": [
       "RandomForestClassifier(random_state=42)"
      ]
     },
     "execution_count": 39,
     "metadata": {},
     "output_type": "execute_result"
    }
   ],
   "source": [
    "# creating an object from the classifier\n",
    "rd_forest = RandomForestClassifier(random_state=42)\n",
    "# fitting the classifier\n",
    "rd_forest.fit(X_resampled, y_resampled)"
   ]
  },
  {
   "cell_type": "code",
   "execution_count": 42,
   "id": "b1691db5",
   "metadata": {},
   "outputs": [
    {
     "name": "stdout",
     "output_type": "stream",
     "text": [
      "              precision    recall  f1-score   support\n",
      "\n",
      "           0       1.00      1.00      1.00     44199\n",
      "           1       1.00      1.00      1.00     44199\n",
      "\n",
      "    accuracy                           1.00     88398\n",
      "   macro avg       1.00      1.00      1.00     88398\n",
      "weighted avg       1.00      1.00      1.00     88398\n",
      "\n"
     ]
    }
   ],
   "source": [
    "# making predictions on the train data.\n",
    "y_train_preds = rd_forest.predict(X_resampled)\n",
    "\n",
    "# creating a classification report\n",
    "clf_report1 = classification_report(y_resampled, y_train_preds)\n",
    "print(clf_report1)\n"
   ]
  },
  {
   "cell_type": "code",
   "execution_count": 44,
   "id": "eb30b80b",
   "metadata": {},
   "outputs": [
    {
     "name": "stdout",
     "output_type": "stream",
     "text": [
      "              precision    recall  f1-score   support\n",
      "\n",
      "           0       0.88      0.74      0.80     19150\n",
      "           1       0.51      0.74      0.60      6983\n",
      "\n",
      "    accuracy                           0.74     26133\n",
      "   macro avg       0.70      0.74      0.70     26133\n",
      "weighted avg       0.78      0.74      0.75     26133\n",
      "\n"
     ]
    }
   ],
   "source": [
    "# making predictions on the test data.\n",
    "y_test_preds = rd_forest.predict(X_test)\n",
    "\n",
    "# creating a classification report\n",
    "clf_report1 = classification_report(y_test, y_test_preds)\n",
    "print(clf_report1)"
   ]
  },
  {
   "cell_type": "markdown",
   "id": "e2eb59ff",
   "metadata": {},
   "source": [
    "The model appears to overfit to the train data due to its exceptional performance. This is evident from the perfect accuracy, precision, recall, and F1-score values on the train dataset. However, its performance on the test dataset is less impressive, which indicates a need for further optimization to enhance generalization to unseen data. Although the model can effectively predict non-cancelled reservations, its ability to predict reservation cancellations requires improvement.\n",
    "\n",
    "Further model tuning might lead to a more robust predictive capability for hotel reservation cancellations. \n",
    "\n",
    "\n",
    "\n",
    "\n",
    "\n"
   ]
  },
  {
   "cell_type": "markdown",
   "id": "4036d588",
   "metadata": {},
   "source": [
    "### Hyperparameter tuning the model using using GridSearchCV "
   ]
  },
  {
   "cell_type": "code",
   "execution_count": 45,
   "id": "ab0e1567",
   "metadata": {},
   "outputs": [
    {
     "data": {
      "text/plain": [
       "{'RF__criterion': 'entropy',\n",
       " 'RF__max_depth': None,\n",
       " 'RF__min_samples_leaf': 3,\n",
       " 'RF__min_samples_split': 5,\n",
       " 'RF__n_estimators': 100}"
      ]
     },
     "execution_count": 45,
     "metadata": {},
     "output_type": "execute_result"
    }
   ],
   "source": [
    "# creating a pipeline\n",
    "scaled_pipeline = Pipeline([\n",
    "    ('scaler', MinMaxScaler()), \n",
    "    ('RF', RandomForestClassifier(random_state=42))\n",
    "])\n",
    "\n",
    "# Define the grid\n",
    "grid = [{\n",
    "    'RF__n_estimators': [10, 30, 100],\n",
    "    'RF__criterion': ['gini', 'entropy'],\n",
    "    'RF__max_depth': [None, 2, 6, 10],\n",
    "    'RF__min_samples_split': [5, 10],\n",
    "    'RF__min_samples_leaf': [3, 6],\n",
    "}]\n",
    "\n",
    "# Define a grid search\n",
    "grid_search = GridSearchCV(estimator=scaled_pipeline, param_grid=grid, scoring='accuracy', cv=3)\n",
    "\n",
    "# Fit the training data\n",
    "grid_search.fit(X_resampled, y_resampled)\n",
    "\n",
    "# Print the best parameters\n",
    "grid_search.best_params_"
   ]
  },
  {
   "cell_type": "code",
   "execution_count": 46,
   "id": "d6871dbf",
   "metadata": {},
   "outputs": [
    {
     "name": "stdout",
     "output_type": "stream",
     "text": [
      "              precision    recall  f1-score   support\n",
      "\n",
      "           0       0.92      0.92      0.92     44199\n",
      "           1       0.92      0.92      0.92     44199\n",
      "\n",
      "    accuracy                           0.92     88398\n",
      "   macro avg       0.92      0.92      0.92     88398\n",
      "weighted avg       0.92      0.92      0.92     88398\n",
      "\n"
     ]
    }
   ],
   "source": [
    "# printing a classification report using the training set\n",
    "y_train_gridpreds = grid_search.predict(X_resampled)\n",
    "\n",
    "print(classification_report(y_resampled, y_train_gridpreds))\n",
    " \n"
   ]
  },
  {
   "cell_type": "code",
   "execution_count": 47,
   "id": "728f99f5",
   "metadata": {},
   "outputs": [
    {
     "name": "stdout",
     "output_type": "stream",
     "text": [
      "              precision    recall  f1-score   support\n",
      "\n",
      "           0       0.92      0.64      0.76     19150\n",
      "           1       0.46      0.84      0.60      6983\n",
      "\n",
      "    accuracy                           0.70     26133\n",
      "   macro avg       0.69      0.74      0.68     26133\n",
      "weighted avg       0.80      0.70      0.71     26133\n",
      "\n"
     ]
    }
   ],
   "source": [
    "# printing the classification report using the test dataset\n",
    "y_test_gridpreds = grid_search.predict(X_test)\n",
    "\n",
    "# creating a classification report\n",
    "print(classification_report(y_test, y_test_gridpreds))\n"
   ]
  },
  {
   "cell_type": "markdown",
   "id": "b05697c9",
   "metadata": {},
   "source": [
    "Hyperparameter tuning has helped the model achieve a balanced performance on the training dataset. The model demonstrates good generalization to unseen data, with a high recall for class 1(is_cancelled) on the test dataset. However, the trade-off between precision and recall indicates that the model's predictions for cancellations are less precise. This suggests that while the model is adept at identifying cancellations, there's room for improvement in reducing false positives (non-cancelled reservations incorrectly predicted as cancellations)."
   ]
  },
  {
   "cell_type": "markdown",
   "id": "ccb723c8",
   "metadata": {},
   "source": [
    "### Pickling and Saving the Model"
   ]
  },
  {
   "cell_type": "code",
   "execution_count": 51,
   "id": "cdf5c20f",
   "metadata": {},
   "outputs": [
    {
     "name": "stdout",
     "output_type": "stream",
     "text": [
      "Model saved as random_forest_model.pkl\n"
     ]
    }
   ],
   "source": [
    "# Save the trained model to a file\n",
    "model_filename = 'random_forest_model.pkl'\n",
    "with open(model_name, 'wb') as model_file:\n",
    "    pickle.dump(grid_search, model_file)\n",
    "\n",
    "print(\"Model saved as\", model_filename)"
   ]
  },
  {
   "cell_type": "markdown",
   "id": "d7e2ae11",
   "metadata": {},
   "source": [
    "## Adaboost"
   ]
  },
  {
   "cell_type": "markdown",
   "id": "b7b21d21",
   "metadata": {},
   "source": [
    "<font size='3'>AdaBoost is an ensemble algorithm that enhances weak models by focusing on where they perform poorly. It combines their predictions to create a stronger, more accurate model, especially useful for complex datasets.</font>"
   ]
  },
  {
   "cell_type": "code",
   "execution_count": 22,
   "id": "439a9f9b",
   "metadata": {},
   "outputs": [],
   "source": [
    "# Select integer features from the DataFrame\n",
    "int_features = X_train.select_dtypes(include=['int'])\n",
    "\n",
    "# column names as a list\n",
    "int_feature_columns = int_features.columns.tolist() "
   ]
  },
  {
   "cell_type": "code",
   "execution_count": 27,
   "id": "77c36f75",
   "metadata": {},
   "outputs": [
    {
     "data": {
      "text/html": [
       "<style>#sk-container-id-1 {color: black;background-color: white;}#sk-container-id-1 pre{padding: 0;}#sk-container-id-1 div.sk-toggleable {background-color: white;}#sk-container-id-1 label.sk-toggleable__label {cursor: pointer;display: block;width: 100%;margin-bottom: 0;padding: 0.3em;box-sizing: border-box;text-align: center;}#sk-container-id-1 label.sk-toggleable__label-arrow:before {content: \"▸\";float: left;margin-right: 0.25em;color: #696969;}#sk-container-id-1 label.sk-toggleable__label-arrow:hover:before {color: black;}#sk-container-id-1 div.sk-estimator:hover label.sk-toggleable__label-arrow:before {color: black;}#sk-container-id-1 div.sk-toggleable__content {max-height: 0;max-width: 0;overflow: hidden;text-align: left;background-color: #f0f8ff;}#sk-container-id-1 div.sk-toggleable__content pre {margin: 0.2em;color: black;border-radius: 0.25em;background-color: #f0f8ff;}#sk-container-id-1 input.sk-toggleable__control:checked~div.sk-toggleable__content {max-height: 200px;max-width: 100%;overflow: auto;}#sk-container-id-1 input.sk-toggleable__control:checked~label.sk-toggleable__label-arrow:before {content: \"▾\";}#sk-container-id-1 div.sk-estimator input.sk-toggleable__control:checked~label.sk-toggleable__label {background-color: #d4ebff;}#sk-container-id-1 div.sk-label input.sk-toggleable__control:checked~label.sk-toggleable__label {background-color: #d4ebff;}#sk-container-id-1 input.sk-hidden--visually {border: 0;clip: rect(1px 1px 1px 1px);clip: rect(1px, 1px, 1px, 1px);height: 1px;margin: -1px;overflow: hidden;padding: 0;position: absolute;width: 1px;}#sk-container-id-1 div.sk-estimator {font-family: monospace;background-color: #f0f8ff;border: 1px dotted black;border-radius: 0.25em;box-sizing: border-box;margin-bottom: 0.5em;}#sk-container-id-1 div.sk-estimator:hover {background-color: #d4ebff;}#sk-container-id-1 div.sk-parallel-item::after {content: \"\";width: 100%;border-bottom: 1px solid gray;flex-grow: 1;}#sk-container-id-1 div.sk-label:hover label.sk-toggleable__label {background-color: #d4ebff;}#sk-container-id-1 div.sk-serial::before {content: \"\";position: absolute;border-left: 1px solid gray;box-sizing: border-box;top: 0;bottom: 0;left: 50%;z-index: 0;}#sk-container-id-1 div.sk-serial {display: flex;flex-direction: column;align-items: center;background-color: white;padding-right: 0.2em;padding-left: 0.2em;position: relative;}#sk-container-id-1 div.sk-item {position: relative;z-index: 1;}#sk-container-id-1 div.sk-parallel {display: flex;align-items: stretch;justify-content: center;background-color: white;position: relative;}#sk-container-id-1 div.sk-item::before, #sk-container-id-1 div.sk-parallel-item::before {content: \"\";position: absolute;border-left: 1px solid gray;box-sizing: border-box;top: 0;bottom: 0;left: 50%;z-index: -1;}#sk-container-id-1 div.sk-parallel-item {display: flex;flex-direction: column;z-index: 1;position: relative;background-color: white;}#sk-container-id-1 div.sk-parallel-item:first-child::after {align-self: flex-end;width: 50%;}#sk-container-id-1 div.sk-parallel-item:last-child::after {align-self: flex-start;width: 50%;}#sk-container-id-1 div.sk-parallel-item:only-child::after {width: 0;}#sk-container-id-1 div.sk-dashed-wrapped {border: 1px dashed gray;margin: 0 0.4em 0.5em 0.4em;box-sizing: border-box;padding-bottom: 0.4em;background-color: white;}#sk-container-id-1 div.sk-label label {font-family: monospace;font-weight: bold;display: inline-block;line-height: 1.2em;}#sk-container-id-1 div.sk-label-container {text-align: center;}#sk-container-id-1 div.sk-container {/* jupyter's `normalize.less` sets `[hidden] { display: none; }` but bootstrap.min.css set `[hidden] { display: none !important; }` so we also need the `!important` here to be able to override the default hidden behavior on the sphinx rendered scikit-learn.org. See: https://github.com/scikit-learn/scikit-learn/issues/21755 */display: inline-block !important;position: relative;}#sk-container-id-1 div.sk-text-repr-fallback {display: none;}</style><div id=\"sk-container-id-1\" class=\"sk-top-container\"><div class=\"sk-text-repr-fallback\"><pre>ColumnTransformer(remainder=&#x27;passthrough&#x27;,\n",
       "                  transformers=[(&#x27;num&#x27;, StandardScaler(),\n",
       "                                 [&#x27;lead_time&#x27;, &#x27;arrival_date_year&#x27;,\n",
       "                                  &#x27;arrival_date_week_number&#x27;,\n",
       "                                  &#x27;arrival_date_day_of_month&#x27;,\n",
       "                                  &#x27;stays_in_weekend_nights&#x27;,\n",
       "                                  &#x27;stays_in_week_nights&#x27;, &#x27;adults&#x27;, &#x27;babies&#x27;,\n",
       "                                  &#x27;is_repeated_guest&#x27;, &#x27;previous_cancellations&#x27;,\n",
       "                                  &#x27;previous_bookings_not_canceled&#x27;,\n",
       "                                  &#x27;booking_changes&#x27;, &#x27;days_in_waiting_list&#x27;,\n",
       "                                  &#x27;required_car_parking_spaces&#x27;,\n",
       "                                  &#x27;total_of_special_requests&#x27;])])</pre><b>In a Jupyter environment, please rerun this cell to show the HTML representation or trust the notebook. <br />On GitHub, the HTML representation is unable to render, please try loading this page with nbviewer.org.</b></div><div class=\"sk-container\" hidden><div class=\"sk-item sk-dashed-wrapped\"><div class=\"sk-label-container\"><div class=\"sk-label sk-toggleable\"><input class=\"sk-toggleable__control sk-hidden--visually\" id=\"sk-estimator-id-1\" type=\"checkbox\" ><label for=\"sk-estimator-id-1\" class=\"sk-toggleable__label sk-toggleable__label-arrow\">ColumnTransformer</label><div class=\"sk-toggleable__content\"><pre>ColumnTransformer(remainder=&#x27;passthrough&#x27;,\n",
       "                  transformers=[(&#x27;num&#x27;, StandardScaler(),\n",
       "                                 [&#x27;lead_time&#x27;, &#x27;arrival_date_year&#x27;,\n",
       "                                  &#x27;arrival_date_week_number&#x27;,\n",
       "                                  &#x27;arrival_date_day_of_month&#x27;,\n",
       "                                  &#x27;stays_in_weekend_nights&#x27;,\n",
       "                                  &#x27;stays_in_week_nights&#x27;, &#x27;adults&#x27;, &#x27;babies&#x27;,\n",
       "                                  &#x27;is_repeated_guest&#x27;, &#x27;previous_cancellations&#x27;,\n",
       "                                  &#x27;previous_bookings_not_canceled&#x27;,\n",
       "                                  &#x27;booking_changes&#x27;, &#x27;days_in_waiting_list&#x27;,\n",
       "                                  &#x27;required_car_parking_spaces&#x27;,\n",
       "                                  &#x27;total_of_special_requests&#x27;])])</pre></div></div></div><div class=\"sk-parallel\"><div class=\"sk-parallel-item\"><div class=\"sk-item\"><div class=\"sk-label-container\"><div class=\"sk-label sk-toggleable\"><input class=\"sk-toggleable__control sk-hidden--visually\" id=\"sk-estimator-id-2\" type=\"checkbox\" ><label for=\"sk-estimator-id-2\" class=\"sk-toggleable__label sk-toggleable__label-arrow\">num</label><div class=\"sk-toggleable__content\"><pre>[&#x27;lead_time&#x27;, &#x27;arrival_date_year&#x27;, &#x27;arrival_date_week_number&#x27;, &#x27;arrival_date_day_of_month&#x27;, &#x27;stays_in_weekend_nights&#x27;, &#x27;stays_in_week_nights&#x27;, &#x27;adults&#x27;, &#x27;babies&#x27;, &#x27;is_repeated_guest&#x27;, &#x27;previous_cancellations&#x27;, &#x27;previous_bookings_not_canceled&#x27;, &#x27;booking_changes&#x27;, &#x27;days_in_waiting_list&#x27;, &#x27;required_car_parking_spaces&#x27;, &#x27;total_of_special_requests&#x27;]</pre></div></div></div><div class=\"sk-serial\"><div class=\"sk-item\"><div class=\"sk-estimator sk-toggleable\"><input class=\"sk-toggleable__control sk-hidden--visually\" id=\"sk-estimator-id-3\" type=\"checkbox\" ><label for=\"sk-estimator-id-3\" class=\"sk-toggleable__label sk-toggleable__label-arrow\">StandardScaler</label><div class=\"sk-toggleable__content\"><pre>StandardScaler()</pre></div></div></div></div></div></div><div class=\"sk-parallel-item\"><div class=\"sk-item\"><div class=\"sk-label-container\"><div class=\"sk-label sk-toggleable\"><input class=\"sk-toggleable__control sk-hidden--visually\" id=\"sk-estimator-id-4\" type=\"checkbox\" ><label for=\"sk-estimator-id-4\" class=\"sk-toggleable__label sk-toggleable__label-arrow\">remainder</label><div class=\"sk-toggleable__content\"><pre></pre></div></div></div><div class=\"sk-serial\"><div class=\"sk-item\"><div class=\"sk-estimator sk-toggleable\"><input class=\"sk-toggleable__control sk-hidden--visually\" id=\"sk-estimator-id-5\" type=\"checkbox\" ><label for=\"sk-estimator-id-5\" class=\"sk-toggleable__label sk-toggleable__label-arrow\">passthrough</label><div class=\"sk-toggleable__content\"><pre>passthrough</pre></div></div></div></div></div></div></div></div></div></div>"
      ],
      "text/plain": [
       "ColumnTransformer(remainder='passthrough',\n",
       "                  transformers=[('num', StandardScaler(),\n",
       "                                 ['lead_time', 'arrival_date_year',\n",
       "                                  'arrival_date_week_number',\n",
       "                                  'arrival_date_day_of_month',\n",
       "                                  'stays_in_weekend_nights',\n",
       "                                  'stays_in_week_nights', 'adults', 'babies',\n",
       "                                  'is_repeated_guest', 'previous_cancellations',\n",
       "                                  'previous_bookings_not_canceled',\n",
       "                                  'booking_changes', 'days_in_waiting_list',\n",
       "                                  'required_car_parking_spaces',\n",
       "                                  'total_of_special_requests'])])"
      ]
     },
     "execution_count": 27,
     "metadata": {},
     "output_type": "execute_result"
    }
   ],
   "source": [
    "# Create a ColumnTransformer for preprocessing\n",
    "preprocessor = ColumnTransformer(\n",
    "    transformers=[\n",
    "        ('num', StandardScaler(),int_feature_columns)  # Standardize numeric columns\n",
    "    ],\n",
    "    remainder='passthrough'  # Pass through other columns unchanged\n",
    ")\n",
    "preprocessor"
   ]
  },
  {
   "cell_type": "code",
   "execution_count": 32,
   "id": "98c363d1",
   "metadata": {},
   "outputs": [
    {
     "data": {
      "text/html": [
       "<style>#sk-container-id-2 {color: black;background-color: white;}#sk-container-id-2 pre{padding: 0;}#sk-container-id-2 div.sk-toggleable {background-color: white;}#sk-container-id-2 label.sk-toggleable__label {cursor: pointer;display: block;width: 100%;margin-bottom: 0;padding: 0.3em;box-sizing: border-box;text-align: center;}#sk-container-id-2 label.sk-toggleable__label-arrow:before {content: \"▸\";float: left;margin-right: 0.25em;color: #696969;}#sk-container-id-2 label.sk-toggleable__label-arrow:hover:before {color: black;}#sk-container-id-2 div.sk-estimator:hover label.sk-toggleable__label-arrow:before {color: black;}#sk-container-id-2 div.sk-toggleable__content {max-height: 0;max-width: 0;overflow: hidden;text-align: left;background-color: #f0f8ff;}#sk-container-id-2 div.sk-toggleable__content pre {margin: 0.2em;color: black;border-radius: 0.25em;background-color: #f0f8ff;}#sk-container-id-2 input.sk-toggleable__control:checked~div.sk-toggleable__content {max-height: 200px;max-width: 100%;overflow: auto;}#sk-container-id-2 input.sk-toggleable__control:checked~label.sk-toggleable__label-arrow:before {content: \"▾\";}#sk-container-id-2 div.sk-estimator input.sk-toggleable__control:checked~label.sk-toggleable__label {background-color: #d4ebff;}#sk-container-id-2 div.sk-label input.sk-toggleable__control:checked~label.sk-toggleable__label {background-color: #d4ebff;}#sk-container-id-2 input.sk-hidden--visually {border: 0;clip: rect(1px 1px 1px 1px);clip: rect(1px, 1px, 1px, 1px);height: 1px;margin: -1px;overflow: hidden;padding: 0;position: absolute;width: 1px;}#sk-container-id-2 div.sk-estimator {font-family: monospace;background-color: #f0f8ff;border: 1px dotted black;border-radius: 0.25em;box-sizing: border-box;margin-bottom: 0.5em;}#sk-container-id-2 div.sk-estimator:hover {background-color: #d4ebff;}#sk-container-id-2 div.sk-parallel-item::after {content: \"\";width: 100%;border-bottom: 1px solid gray;flex-grow: 1;}#sk-container-id-2 div.sk-label:hover label.sk-toggleable__label {background-color: #d4ebff;}#sk-container-id-2 div.sk-serial::before {content: \"\";position: absolute;border-left: 1px solid gray;box-sizing: border-box;top: 0;bottom: 0;left: 50%;z-index: 0;}#sk-container-id-2 div.sk-serial {display: flex;flex-direction: column;align-items: center;background-color: white;padding-right: 0.2em;padding-left: 0.2em;position: relative;}#sk-container-id-2 div.sk-item {position: relative;z-index: 1;}#sk-container-id-2 div.sk-parallel {display: flex;align-items: stretch;justify-content: center;background-color: white;position: relative;}#sk-container-id-2 div.sk-item::before, #sk-container-id-2 div.sk-parallel-item::before {content: \"\";position: absolute;border-left: 1px solid gray;box-sizing: border-box;top: 0;bottom: 0;left: 50%;z-index: -1;}#sk-container-id-2 div.sk-parallel-item {display: flex;flex-direction: column;z-index: 1;position: relative;background-color: white;}#sk-container-id-2 div.sk-parallel-item:first-child::after {align-self: flex-end;width: 50%;}#sk-container-id-2 div.sk-parallel-item:last-child::after {align-self: flex-start;width: 50%;}#sk-container-id-2 div.sk-parallel-item:only-child::after {width: 0;}#sk-container-id-2 div.sk-dashed-wrapped {border: 1px dashed gray;margin: 0 0.4em 0.5em 0.4em;box-sizing: border-box;padding-bottom: 0.4em;background-color: white;}#sk-container-id-2 div.sk-label label {font-family: monospace;font-weight: bold;display: inline-block;line-height: 1.2em;}#sk-container-id-2 div.sk-label-container {text-align: center;}#sk-container-id-2 div.sk-container {/* jupyter's `normalize.less` sets `[hidden] { display: none; }` but bootstrap.min.css set `[hidden] { display: none !important; }` so we also need the `!important` here to be able to override the default hidden behavior on the sphinx rendered scikit-learn.org. See: https://github.com/scikit-learn/scikit-learn/issues/21755 */display: inline-block !important;position: relative;}#sk-container-id-2 div.sk-text-repr-fallback {display: none;}</style><div id=\"sk-container-id-2\" class=\"sk-top-container\"><div class=\"sk-text-repr-fallback\"><pre>Pipeline(steps=[(&#x27;preprocessor&#x27;,\n",
       "                 ColumnTransformer(remainder=&#x27;passthrough&#x27;,\n",
       "                                   transformers=[(&#x27;num&#x27;, StandardScaler(),\n",
       "                                                  [&#x27;lead_time&#x27;,\n",
       "                                                   &#x27;arrival_date_year&#x27;,\n",
       "                                                   &#x27;arrival_date_week_number&#x27;,\n",
       "                                                   &#x27;arrival_date_day_of_month&#x27;,\n",
       "                                                   &#x27;stays_in_weekend_nights&#x27;,\n",
       "                                                   &#x27;stays_in_week_nights&#x27;,\n",
       "                                                   &#x27;adults&#x27;, &#x27;babies&#x27;,\n",
       "                                                   &#x27;is_repeated_guest&#x27;,\n",
       "                                                   &#x27;previous_cancellations&#x27;,\n",
       "                                                   &#x27;previous_bookings_not_canceled&#x27;,\n",
       "                                                   &#x27;booking_changes&#x27;,\n",
       "                                                   &#x27;days_in_waiting_list&#x27;,\n",
       "                                                   &#x27;required_car_parking_spaces&#x27;,\n",
       "                                                   &#x27;total_of_special_requests&#x27;])])),\n",
       "                (&#x27;feature_selector&#x27;, SelectKBest()),\n",
       "                (&#x27;classifier&#x27;,\n",
       "                 AdaBoostClassifier(estimator=DecisionTreeClassifier(criterion=&#x27;entropy&#x27;,\n",
       "                                                                     max_depth=36,\n",
       "                                                                     min_samples_leaf=30,\n",
       "                                                                     min_samples_split=49)))])</pre><b>In a Jupyter environment, please rerun this cell to show the HTML representation or trust the notebook. <br />On GitHub, the HTML representation is unable to render, please try loading this page with nbviewer.org.</b></div><div class=\"sk-container\" hidden><div class=\"sk-item sk-dashed-wrapped\"><div class=\"sk-label-container\"><div class=\"sk-label sk-toggleable\"><input class=\"sk-toggleable__control sk-hidden--visually\" id=\"sk-estimator-id-6\" type=\"checkbox\" ><label for=\"sk-estimator-id-6\" class=\"sk-toggleable__label sk-toggleable__label-arrow\">Pipeline</label><div class=\"sk-toggleable__content\"><pre>Pipeline(steps=[(&#x27;preprocessor&#x27;,\n",
       "                 ColumnTransformer(remainder=&#x27;passthrough&#x27;,\n",
       "                                   transformers=[(&#x27;num&#x27;, StandardScaler(),\n",
       "                                                  [&#x27;lead_time&#x27;,\n",
       "                                                   &#x27;arrival_date_year&#x27;,\n",
       "                                                   &#x27;arrival_date_week_number&#x27;,\n",
       "                                                   &#x27;arrival_date_day_of_month&#x27;,\n",
       "                                                   &#x27;stays_in_weekend_nights&#x27;,\n",
       "                                                   &#x27;stays_in_week_nights&#x27;,\n",
       "                                                   &#x27;adults&#x27;, &#x27;babies&#x27;,\n",
       "                                                   &#x27;is_repeated_guest&#x27;,\n",
       "                                                   &#x27;previous_cancellations&#x27;,\n",
       "                                                   &#x27;previous_bookings_not_canceled&#x27;,\n",
       "                                                   &#x27;booking_changes&#x27;,\n",
       "                                                   &#x27;days_in_waiting_list&#x27;,\n",
       "                                                   &#x27;required_car_parking_spaces&#x27;,\n",
       "                                                   &#x27;total_of_special_requests&#x27;])])),\n",
       "                (&#x27;feature_selector&#x27;, SelectKBest()),\n",
       "                (&#x27;classifier&#x27;,\n",
       "                 AdaBoostClassifier(estimator=DecisionTreeClassifier(criterion=&#x27;entropy&#x27;,\n",
       "                                                                     max_depth=36,\n",
       "                                                                     min_samples_leaf=30,\n",
       "                                                                     min_samples_split=49)))])</pre></div></div></div><div class=\"sk-serial\"><div class=\"sk-item sk-dashed-wrapped\"><div class=\"sk-label-container\"><div class=\"sk-label sk-toggleable\"><input class=\"sk-toggleable__control sk-hidden--visually\" id=\"sk-estimator-id-7\" type=\"checkbox\" ><label for=\"sk-estimator-id-7\" class=\"sk-toggleable__label sk-toggleable__label-arrow\">preprocessor: ColumnTransformer</label><div class=\"sk-toggleable__content\"><pre>ColumnTransformer(remainder=&#x27;passthrough&#x27;,\n",
       "                  transformers=[(&#x27;num&#x27;, StandardScaler(),\n",
       "                                 [&#x27;lead_time&#x27;, &#x27;arrival_date_year&#x27;,\n",
       "                                  &#x27;arrival_date_week_number&#x27;,\n",
       "                                  &#x27;arrival_date_day_of_month&#x27;,\n",
       "                                  &#x27;stays_in_weekend_nights&#x27;,\n",
       "                                  &#x27;stays_in_week_nights&#x27;, &#x27;adults&#x27;, &#x27;babies&#x27;,\n",
       "                                  &#x27;is_repeated_guest&#x27;, &#x27;previous_cancellations&#x27;,\n",
       "                                  &#x27;previous_bookings_not_canceled&#x27;,\n",
       "                                  &#x27;booking_changes&#x27;, &#x27;days_in_waiting_list&#x27;,\n",
       "                                  &#x27;required_car_parking_spaces&#x27;,\n",
       "                                  &#x27;total_of_special_requests&#x27;])])</pre></div></div></div><div class=\"sk-parallel\"><div class=\"sk-parallel-item\"><div class=\"sk-item\"><div class=\"sk-label-container\"><div class=\"sk-label sk-toggleable\"><input class=\"sk-toggleable__control sk-hidden--visually\" id=\"sk-estimator-id-8\" type=\"checkbox\" ><label for=\"sk-estimator-id-8\" class=\"sk-toggleable__label sk-toggleable__label-arrow\">num</label><div class=\"sk-toggleable__content\"><pre>[&#x27;lead_time&#x27;, &#x27;arrival_date_year&#x27;, &#x27;arrival_date_week_number&#x27;, &#x27;arrival_date_day_of_month&#x27;, &#x27;stays_in_weekend_nights&#x27;, &#x27;stays_in_week_nights&#x27;, &#x27;adults&#x27;, &#x27;babies&#x27;, &#x27;is_repeated_guest&#x27;, &#x27;previous_cancellations&#x27;, &#x27;previous_bookings_not_canceled&#x27;, &#x27;booking_changes&#x27;, &#x27;days_in_waiting_list&#x27;, &#x27;required_car_parking_spaces&#x27;, &#x27;total_of_special_requests&#x27;]</pre></div></div></div><div class=\"sk-serial\"><div class=\"sk-item\"><div class=\"sk-estimator sk-toggleable\"><input class=\"sk-toggleable__control sk-hidden--visually\" id=\"sk-estimator-id-9\" type=\"checkbox\" ><label for=\"sk-estimator-id-9\" class=\"sk-toggleable__label sk-toggleable__label-arrow\">StandardScaler</label><div class=\"sk-toggleable__content\"><pre>StandardScaler()</pre></div></div></div></div></div></div><div class=\"sk-parallel-item\"><div class=\"sk-item\"><div class=\"sk-label-container\"><div class=\"sk-label sk-toggleable\"><input class=\"sk-toggleable__control sk-hidden--visually\" id=\"sk-estimator-id-10\" type=\"checkbox\" ><label for=\"sk-estimator-id-10\" class=\"sk-toggleable__label sk-toggleable__label-arrow\">remainder</label><div class=\"sk-toggleable__content\"><pre></pre></div></div></div><div class=\"sk-serial\"><div class=\"sk-item\"><div class=\"sk-estimator sk-toggleable\"><input class=\"sk-toggleable__control sk-hidden--visually\" id=\"sk-estimator-id-11\" type=\"checkbox\" ><label for=\"sk-estimator-id-11\" class=\"sk-toggleable__label sk-toggleable__label-arrow\">passthrough</label><div class=\"sk-toggleable__content\"><pre>passthrough</pre></div></div></div></div></div></div></div></div><div class=\"sk-item\"><div class=\"sk-estimator sk-toggleable\"><input class=\"sk-toggleable__control sk-hidden--visually\" id=\"sk-estimator-id-12\" type=\"checkbox\" ><label for=\"sk-estimator-id-12\" class=\"sk-toggleable__label sk-toggleable__label-arrow\">SelectKBest</label><div class=\"sk-toggleable__content\"><pre>SelectKBest()</pre></div></div></div><div class=\"sk-item sk-dashed-wrapped\"><div class=\"sk-label-container\"><div class=\"sk-label sk-toggleable\"><input class=\"sk-toggleable__control sk-hidden--visually\" id=\"sk-estimator-id-13\" type=\"checkbox\" ><label for=\"sk-estimator-id-13\" class=\"sk-toggleable__label sk-toggleable__label-arrow\">classifier: AdaBoostClassifier</label><div class=\"sk-toggleable__content\"><pre>AdaBoostClassifier(estimator=DecisionTreeClassifier(criterion=&#x27;entropy&#x27;,\n",
       "                                                    max_depth=36,\n",
       "                                                    min_samples_leaf=30,\n",
       "                                                    min_samples_split=49))</pre></div></div></div><div class=\"sk-parallel\"><div class=\"sk-parallel-item\"><div class=\"sk-item\"><div class=\"sk-label-container\"><div class=\"sk-label sk-toggleable\"><input class=\"sk-toggleable__control sk-hidden--visually\" id=\"sk-estimator-id-14\" type=\"checkbox\" ><label for=\"sk-estimator-id-14\" class=\"sk-toggleable__label sk-toggleable__label-arrow\">estimator: DecisionTreeClassifier</label><div class=\"sk-toggleable__content\"><pre>DecisionTreeClassifier(criterion=&#x27;entropy&#x27;, max_depth=36, min_samples_leaf=30,\n",
       "                       min_samples_split=49)</pre></div></div></div><div class=\"sk-serial\"><div class=\"sk-item\"><div class=\"sk-estimator sk-toggleable\"><input class=\"sk-toggleable__control sk-hidden--visually\" id=\"sk-estimator-id-15\" type=\"checkbox\" ><label for=\"sk-estimator-id-15\" class=\"sk-toggleable__label sk-toggleable__label-arrow\">DecisionTreeClassifier</label><div class=\"sk-toggleable__content\"><pre>DecisionTreeClassifier(criterion=&#x27;entropy&#x27;, max_depth=36, min_samples_leaf=30,\n",
       "                       min_samples_split=49)</pre></div></div></div></div></div></div></div></div></div></div></div></div>"
      ],
      "text/plain": [
       "Pipeline(steps=[('preprocessor',\n",
       "                 ColumnTransformer(remainder='passthrough',\n",
       "                                   transformers=[('num', StandardScaler(),\n",
       "                                                  ['lead_time',\n",
       "                                                   'arrival_date_year',\n",
       "                                                   'arrival_date_week_number',\n",
       "                                                   'arrival_date_day_of_month',\n",
       "                                                   'stays_in_weekend_nights',\n",
       "                                                   'stays_in_week_nights',\n",
       "                                                   'adults', 'babies',\n",
       "                                                   'is_repeated_guest',\n",
       "                                                   'previous_cancellations',\n",
       "                                                   'previous_bookings_not_canceled',\n",
       "                                                   'booking_changes',\n",
       "                                                   'days_in_waiting_list',\n",
       "                                                   'required_car_parking_spaces',\n",
       "                                                   'total_of_special_requests'])])),\n",
       "                ('feature_selector', SelectKBest()),\n",
       "                ('classifier',\n",
       "                 AdaBoostClassifier(estimator=DecisionTreeClassifier(criterion='entropy',\n",
       "                                                                     max_depth=36,\n",
       "                                                                     min_samples_leaf=30,\n",
       "                                                                     min_samples_split=49)))])"
      ]
     },
     "execution_count": 32,
     "metadata": {},
     "output_type": "execute_result"
    }
   ],
   "source": [
    "# Feature selection using SelectKBest with f_classif scoring function\n",
    "feature_selector = SelectKBest(score_func=f_classif, k=10)  # Select top 10 features\n",
    "\n",
    "# Create a baseline DecisionTreeClassifier\n",
    "base = DecisionTreeClassifier(criterion='entropy', max_depth=36, min_samples_split=49 ,min_samples_leaf=30)\n",
    "\n",
    "\n",
    "# Create the pipeline with GridSearchCV, feature selection, and AdaBoostClassifier\n",
    "pipeline = Pipeline([\n",
    "    ('preprocessor', preprocessor),# Preprocessing step\n",
    "    ('feature_selector', feature_selector),  # Feature selection\n",
    "    ('classifier', AdaBoostClassifier(estimator=base))  # AdaBoostClassifier\n",
    "])\n",
    "pipeline"
   ]
  },
  {
   "cell_type": "code",
   "execution_count": 33,
   "id": "06c8be95",
   "metadata": {},
   "outputs": [],
   "source": [
    "param_grid = {\n",
    "    'feature_selector__k': [25],  # Try different values of k\n",
    "    'classifier__n_estimators': [300],  # Number of base estimators\n",
    "    'classifier__learning_rate': [1],# Learning rate\n",
    "}"
   ]
  },
  {
   "cell_type": "code",
   "execution_count": 34,
   "id": "2094dc15",
   "metadata": {},
   "outputs": [
    {
     "data": {
      "text/html": [
       "<style>#sk-container-id-3 {color: black;background-color: white;}#sk-container-id-3 pre{padding: 0;}#sk-container-id-3 div.sk-toggleable {background-color: white;}#sk-container-id-3 label.sk-toggleable__label {cursor: pointer;display: block;width: 100%;margin-bottom: 0;padding: 0.3em;box-sizing: border-box;text-align: center;}#sk-container-id-3 label.sk-toggleable__label-arrow:before {content: \"▸\";float: left;margin-right: 0.25em;color: #696969;}#sk-container-id-3 label.sk-toggleable__label-arrow:hover:before {color: black;}#sk-container-id-3 div.sk-estimator:hover label.sk-toggleable__label-arrow:before {color: black;}#sk-container-id-3 div.sk-toggleable__content {max-height: 0;max-width: 0;overflow: hidden;text-align: left;background-color: #f0f8ff;}#sk-container-id-3 div.sk-toggleable__content pre {margin: 0.2em;color: black;border-radius: 0.25em;background-color: #f0f8ff;}#sk-container-id-3 input.sk-toggleable__control:checked~div.sk-toggleable__content {max-height: 200px;max-width: 100%;overflow: auto;}#sk-container-id-3 input.sk-toggleable__control:checked~label.sk-toggleable__label-arrow:before {content: \"▾\";}#sk-container-id-3 div.sk-estimator input.sk-toggleable__control:checked~label.sk-toggleable__label {background-color: #d4ebff;}#sk-container-id-3 div.sk-label input.sk-toggleable__control:checked~label.sk-toggleable__label {background-color: #d4ebff;}#sk-container-id-3 input.sk-hidden--visually {border: 0;clip: rect(1px 1px 1px 1px);clip: rect(1px, 1px, 1px, 1px);height: 1px;margin: -1px;overflow: hidden;padding: 0;position: absolute;width: 1px;}#sk-container-id-3 div.sk-estimator {font-family: monospace;background-color: #f0f8ff;border: 1px dotted black;border-radius: 0.25em;box-sizing: border-box;margin-bottom: 0.5em;}#sk-container-id-3 div.sk-estimator:hover {background-color: #d4ebff;}#sk-container-id-3 div.sk-parallel-item::after {content: \"\";width: 100%;border-bottom: 1px solid gray;flex-grow: 1;}#sk-container-id-3 div.sk-label:hover label.sk-toggleable__label {background-color: #d4ebff;}#sk-container-id-3 div.sk-serial::before {content: \"\";position: absolute;border-left: 1px solid gray;box-sizing: border-box;top: 0;bottom: 0;left: 50%;z-index: 0;}#sk-container-id-3 div.sk-serial {display: flex;flex-direction: column;align-items: center;background-color: white;padding-right: 0.2em;padding-left: 0.2em;position: relative;}#sk-container-id-3 div.sk-item {position: relative;z-index: 1;}#sk-container-id-3 div.sk-parallel {display: flex;align-items: stretch;justify-content: center;background-color: white;position: relative;}#sk-container-id-3 div.sk-item::before, #sk-container-id-3 div.sk-parallel-item::before {content: \"\";position: absolute;border-left: 1px solid gray;box-sizing: border-box;top: 0;bottom: 0;left: 50%;z-index: -1;}#sk-container-id-3 div.sk-parallel-item {display: flex;flex-direction: column;z-index: 1;position: relative;background-color: white;}#sk-container-id-3 div.sk-parallel-item:first-child::after {align-self: flex-end;width: 50%;}#sk-container-id-3 div.sk-parallel-item:last-child::after {align-self: flex-start;width: 50%;}#sk-container-id-3 div.sk-parallel-item:only-child::after {width: 0;}#sk-container-id-3 div.sk-dashed-wrapped {border: 1px dashed gray;margin: 0 0.4em 0.5em 0.4em;box-sizing: border-box;padding-bottom: 0.4em;background-color: white;}#sk-container-id-3 div.sk-label label {font-family: monospace;font-weight: bold;display: inline-block;line-height: 1.2em;}#sk-container-id-3 div.sk-label-container {text-align: center;}#sk-container-id-3 div.sk-container {/* jupyter's `normalize.less` sets `[hidden] { display: none; }` but bootstrap.min.css set `[hidden] { display: none !important; }` so we also need the `!important` here to be able to override the default hidden behavior on the sphinx rendered scikit-learn.org. See: https://github.com/scikit-learn/scikit-learn/issues/21755 */display: inline-block !important;position: relative;}#sk-container-id-3 div.sk-text-repr-fallback {display: none;}</style><div id=\"sk-container-id-3\" class=\"sk-top-container\"><div class=\"sk-text-repr-fallback\"><pre>GridSearchCV(cv=3,\n",
       "             estimator=Pipeline(steps=[(&#x27;preprocessor&#x27;,\n",
       "                                        ColumnTransformer(remainder=&#x27;passthrough&#x27;,\n",
       "                                                          transformers=[(&#x27;num&#x27;,\n",
       "                                                                         StandardScaler(),\n",
       "                                                                         [&#x27;lead_time&#x27;,\n",
       "                                                                          &#x27;arrival_date_year&#x27;,\n",
       "                                                                          &#x27;arrival_date_week_number&#x27;,\n",
       "                                                                          &#x27;arrival_date_day_of_month&#x27;,\n",
       "                                                                          &#x27;stays_in_weekend_nights&#x27;,\n",
       "                                                                          &#x27;stays_in_week_nights&#x27;,\n",
       "                                                                          &#x27;adults&#x27;,\n",
       "                                                                          &#x27;babies&#x27;,\n",
       "                                                                          &#x27;is_repeated_guest&#x27;,\n",
       "                                                                          &#x27;previous_cancellations&#x27;,\n",
       "                                                                          &#x27;previous_...\n",
       "                                                                          &#x27;days_in_waiting_list&#x27;,\n",
       "                                                                          &#x27;required_car_parking_spaces&#x27;,\n",
       "                                                                          &#x27;total_of_special_requests&#x27;])])),\n",
       "                                       (&#x27;feature_selector&#x27;, SelectKBest()),\n",
       "                                       (&#x27;classifier&#x27;,\n",
       "                                        AdaBoostClassifier(estimator=DecisionTreeClassifier(criterion=&#x27;entropy&#x27;,\n",
       "                                                                                            max_depth=36,\n",
       "                                                                                            min_samples_leaf=30,\n",
       "                                                                                            min_samples_split=49)))]),\n",
       "             param_grid={&#x27;classifier__learning_rate&#x27;: [1],\n",
       "                         &#x27;classifier__n_estimators&#x27;: [300],\n",
       "                         &#x27;feature_selector__k&#x27;: [25]})</pre><b>In a Jupyter environment, please rerun this cell to show the HTML representation or trust the notebook. <br />On GitHub, the HTML representation is unable to render, please try loading this page with nbviewer.org.</b></div><div class=\"sk-container\" hidden><div class=\"sk-item sk-dashed-wrapped\"><div class=\"sk-label-container\"><div class=\"sk-label sk-toggleable\"><input class=\"sk-toggleable__control sk-hidden--visually\" id=\"sk-estimator-id-16\" type=\"checkbox\" ><label for=\"sk-estimator-id-16\" class=\"sk-toggleable__label sk-toggleable__label-arrow\">GridSearchCV</label><div class=\"sk-toggleable__content\"><pre>GridSearchCV(cv=3,\n",
       "             estimator=Pipeline(steps=[(&#x27;preprocessor&#x27;,\n",
       "                                        ColumnTransformer(remainder=&#x27;passthrough&#x27;,\n",
       "                                                          transformers=[(&#x27;num&#x27;,\n",
       "                                                                         StandardScaler(),\n",
       "                                                                         [&#x27;lead_time&#x27;,\n",
       "                                                                          &#x27;arrival_date_year&#x27;,\n",
       "                                                                          &#x27;arrival_date_week_number&#x27;,\n",
       "                                                                          &#x27;arrival_date_day_of_month&#x27;,\n",
       "                                                                          &#x27;stays_in_weekend_nights&#x27;,\n",
       "                                                                          &#x27;stays_in_week_nights&#x27;,\n",
       "                                                                          &#x27;adults&#x27;,\n",
       "                                                                          &#x27;babies&#x27;,\n",
       "                                                                          &#x27;is_repeated_guest&#x27;,\n",
       "                                                                          &#x27;previous_cancellations&#x27;,\n",
       "                                                                          &#x27;previous_...\n",
       "                                                                          &#x27;days_in_waiting_list&#x27;,\n",
       "                                                                          &#x27;required_car_parking_spaces&#x27;,\n",
       "                                                                          &#x27;total_of_special_requests&#x27;])])),\n",
       "                                       (&#x27;feature_selector&#x27;, SelectKBest()),\n",
       "                                       (&#x27;classifier&#x27;,\n",
       "                                        AdaBoostClassifier(estimator=DecisionTreeClassifier(criterion=&#x27;entropy&#x27;,\n",
       "                                                                                            max_depth=36,\n",
       "                                                                                            min_samples_leaf=30,\n",
       "                                                                                            min_samples_split=49)))]),\n",
       "             param_grid={&#x27;classifier__learning_rate&#x27;: [1],\n",
       "                         &#x27;classifier__n_estimators&#x27;: [300],\n",
       "                         &#x27;feature_selector__k&#x27;: [25]})</pre></div></div></div><div class=\"sk-parallel\"><div class=\"sk-parallel-item\"><div class=\"sk-item\"><div class=\"sk-label-container\"><div class=\"sk-label sk-toggleable\"><input class=\"sk-toggleable__control sk-hidden--visually\" id=\"sk-estimator-id-17\" type=\"checkbox\" ><label for=\"sk-estimator-id-17\" class=\"sk-toggleable__label sk-toggleable__label-arrow\">estimator: Pipeline</label><div class=\"sk-toggleable__content\"><pre>Pipeline(steps=[(&#x27;preprocessor&#x27;,\n",
       "                 ColumnTransformer(remainder=&#x27;passthrough&#x27;,\n",
       "                                   transformers=[(&#x27;num&#x27;, StandardScaler(),\n",
       "                                                  [&#x27;lead_time&#x27;,\n",
       "                                                   &#x27;arrival_date_year&#x27;,\n",
       "                                                   &#x27;arrival_date_week_number&#x27;,\n",
       "                                                   &#x27;arrival_date_day_of_month&#x27;,\n",
       "                                                   &#x27;stays_in_weekend_nights&#x27;,\n",
       "                                                   &#x27;stays_in_week_nights&#x27;,\n",
       "                                                   &#x27;adults&#x27;, &#x27;babies&#x27;,\n",
       "                                                   &#x27;is_repeated_guest&#x27;,\n",
       "                                                   &#x27;previous_cancellations&#x27;,\n",
       "                                                   &#x27;previous_bookings_not_canceled&#x27;,\n",
       "                                                   &#x27;booking_changes&#x27;,\n",
       "                                                   &#x27;days_in_waiting_list&#x27;,\n",
       "                                                   &#x27;required_car_parking_spaces&#x27;,\n",
       "                                                   &#x27;total_of_special_requests&#x27;])])),\n",
       "                (&#x27;feature_selector&#x27;, SelectKBest()),\n",
       "                (&#x27;classifier&#x27;,\n",
       "                 AdaBoostClassifier(estimator=DecisionTreeClassifier(criterion=&#x27;entropy&#x27;,\n",
       "                                                                     max_depth=36,\n",
       "                                                                     min_samples_leaf=30,\n",
       "                                                                     min_samples_split=49)))])</pre></div></div></div><div class=\"sk-serial\"><div class=\"sk-item\"><div class=\"sk-serial\"><div class=\"sk-item sk-dashed-wrapped\"><div class=\"sk-label-container\"><div class=\"sk-label sk-toggleable\"><input class=\"sk-toggleable__control sk-hidden--visually\" id=\"sk-estimator-id-18\" type=\"checkbox\" ><label for=\"sk-estimator-id-18\" class=\"sk-toggleable__label sk-toggleable__label-arrow\">preprocessor: ColumnTransformer</label><div class=\"sk-toggleable__content\"><pre>ColumnTransformer(remainder=&#x27;passthrough&#x27;,\n",
       "                  transformers=[(&#x27;num&#x27;, StandardScaler(),\n",
       "                                 [&#x27;lead_time&#x27;, &#x27;arrival_date_year&#x27;,\n",
       "                                  &#x27;arrival_date_week_number&#x27;,\n",
       "                                  &#x27;arrival_date_day_of_month&#x27;,\n",
       "                                  &#x27;stays_in_weekend_nights&#x27;,\n",
       "                                  &#x27;stays_in_week_nights&#x27;, &#x27;adults&#x27;, &#x27;babies&#x27;,\n",
       "                                  &#x27;is_repeated_guest&#x27;, &#x27;previous_cancellations&#x27;,\n",
       "                                  &#x27;previous_bookings_not_canceled&#x27;,\n",
       "                                  &#x27;booking_changes&#x27;, &#x27;days_in_waiting_list&#x27;,\n",
       "                                  &#x27;required_car_parking_spaces&#x27;,\n",
       "                                  &#x27;total_of_special_requests&#x27;])])</pre></div></div></div><div class=\"sk-parallel\"><div class=\"sk-parallel-item\"><div class=\"sk-item\"><div class=\"sk-label-container\"><div class=\"sk-label sk-toggleable\"><input class=\"sk-toggleable__control sk-hidden--visually\" id=\"sk-estimator-id-19\" type=\"checkbox\" ><label for=\"sk-estimator-id-19\" class=\"sk-toggleable__label sk-toggleable__label-arrow\">num</label><div class=\"sk-toggleable__content\"><pre>[&#x27;lead_time&#x27;, &#x27;arrival_date_year&#x27;, &#x27;arrival_date_week_number&#x27;, &#x27;arrival_date_day_of_month&#x27;, &#x27;stays_in_weekend_nights&#x27;, &#x27;stays_in_week_nights&#x27;, &#x27;adults&#x27;, &#x27;babies&#x27;, &#x27;is_repeated_guest&#x27;, &#x27;previous_cancellations&#x27;, &#x27;previous_bookings_not_canceled&#x27;, &#x27;booking_changes&#x27;, &#x27;days_in_waiting_list&#x27;, &#x27;required_car_parking_spaces&#x27;, &#x27;total_of_special_requests&#x27;]</pre></div></div></div><div class=\"sk-serial\"><div class=\"sk-item\"><div class=\"sk-estimator sk-toggleable\"><input class=\"sk-toggleable__control sk-hidden--visually\" id=\"sk-estimator-id-20\" type=\"checkbox\" ><label for=\"sk-estimator-id-20\" class=\"sk-toggleable__label sk-toggleable__label-arrow\">StandardScaler</label><div class=\"sk-toggleable__content\"><pre>StandardScaler()</pre></div></div></div></div></div></div><div class=\"sk-parallel-item\"><div class=\"sk-item\"><div class=\"sk-label-container\"><div class=\"sk-label sk-toggleable\"><input class=\"sk-toggleable__control sk-hidden--visually\" id=\"sk-estimator-id-21\" type=\"checkbox\" ><label for=\"sk-estimator-id-21\" class=\"sk-toggleable__label sk-toggleable__label-arrow\">remainder</label><div class=\"sk-toggleable__content\"><pre></pre></div></div></div><div class=\"sk-serial\"><div class=\"sk-item\"><div class=\"sk-estimator sk-toggleable\"><input class=\"sk-toggleable__control sk-hidden--visually\" id=\"sk-estimator-id-22\" type=\"checkbox\" ><label for=\"sk-estimator-id-22\" class=\"sk-toggleable__label sk-toggleable__label-arrow\">passthrough</label><div class=\"sk-toggleable__content\"><pre>passthrough</pre></div></div></div></div></div></div></div></div><div class=\"sk-item\"><div class=\"sk-estimator sk-toggleable\"><input class=\"sk-toggleable__control sk-hidden--visually\" id=\"sk-estimator-id-23\" type=\"checkbox\" ><label for=\"sk-estimator-id-23\" class=\"sk-toggleable__label sk-toggleable__label-arrow\">SelectKBest</label><div class=\"sk-toggleable__content\"><pre>SelectKBest()</pre></div></div></div><div class=\"sk-item sk-dashed-wrapped\"><div class=\"sk-label-container\"><div class=\"sk-label sk-toggleable\"><input class=\"sk-toggleable__control sk-hidden--visually\" id=\"sk-estimator-id-24\" type=\"checkbox\" ><label for=\"sk-estimator-id-24\" class=\"sk-toggleable__label sk-toggleable__label-arrow\">classifier: AdaBoostClassifier</label><div class=\"sk-toggleable__content\"><pre>AdaBoostClassifier(estimator=DecisionTreeClassifier(criterion=&#x27;entropy&#x27;,\n",
       "                                                    max_depth=36,\n",
       "                                                    min_samples_leaf=30,\n",
       "                                                    min_samples_split=49))</pre></div></div></div><div class=\"sk-parallel\"><div class=\"sk-parallel-item\"><div class=\"sk-item\"><div class=\"sk-label-container\"><div class=\"sk-label sk-toggleable\"><input class=\"sk-toggleable__control sk-hidden--visually\" id=\"sk-estimator-id-25\" type=\"checkbox\" ><label for=\"sk-estimator-id-25\" class=\"sk-toggleable__label sk-toggleable__label-arrow\">estimator: DecisionTreeClassifier</label><div class=\"sk-toggleable__content\"><pre>DecisionTreeClassifier(criterion=&#x27;entropy&#x27;, max_depth=36, min_samples_leaf=30,\n",
       "                       min_samples_split=49)</pre></div></div></div><div class=\"sk-serial\"><div class=\"sk-item\"><div class=\"sk-estimator sk-toggleable\"><input class=\"sk-toggleable__control sk-hidden--visually\" id=\"sk-estimator-id-26\" type=\"checkbox\" ><label for=\"sk-estimator-id-26\" class=\"sk-toggleable__label sk-toggleable__label-arrow\">DecisionTreeClassifier</label><div class=\"sk-toggleable__content\"><pre>DecisionTreeClassifier(criterion=&#x27;entropy&#x27;, max_depth=36, min_samples_leaf=30,\n",
       "                       min_samples_split=49)</pre></div></div></div></div></div></div></div></div></div></div></div></div></div></div></div></div></div>"
      ],
      "text/plain": [
       "GridSearchCV(cv=3,\n",
       "             estimator=Pipeline(steps=[('preprocessor',\n",
       "                                        ColumnTransformer(remainder='passthrough',\n",
       "                                                          transformers=[('num',\n",
       "                                                                         StandardScaler(),\n",
       "                                                                         ['lead_time',\n",
       "                                                                          'arrival_date_year',\n",
       "                                                                          'arrival_date_week_number',\n",
       "                                                                          'arrival_date_day_of_month',\n",
       "                                                                          'stays_in_weekend_nights',\n",
       "                                                                          'stays_in_week_nights',\n",
       "                                                                          'adults',\n",
       "                                                                          'babies',\n",
       "                                                                          'is_repeated_guest',\n",
       "                                                                          'previous_cancellations',\n",
       "                                                                          'previous_...\n",
       "                                                                          'days_in_waiting_list',\n",
       "                                                                          'required_car_parking_spaces',\n",
       "                                                                          'total_of_special_requests'])])),\n",
       "                                       ('feature_selector', SelectKBest()),\n",
       "                                       ('classifier',\n",
       "                                        AdaBoostClassifier(estimator=DecisionTreeClassifier(criterion='entropy',\n",
       "                                                                                            max_depth=36,\n",
       "                                                                                            min_samples_leaf=30,\n",
       "                                                                                            min_samples_split=49)))]),\n",
       "             param_grid={'classifier__learning_rate': [1],\n",
       "                         'classifier__n_estimators': [300],\n",
       "                         'feature_selector__k': [25]})"
      ]
     },
     "execution_count": 34,
     "metadata": {},
     "output_type": "execute_result"
    }
   ],
   "source": [
    "# Create GridSearchCV object\n",
    "grid_search = GridSearchCV(pipeline, param_grid=param_grid, cv=3, )\n",
    "\n",
    "grid_search"
   ]
  },
  {
   "cell_type": "code",
   "execution_count": 1,
   "id": "057fb256",
   "metadata": {},
   "outputs": [],
   "source": [
    "# Fit and evaluate the pipeline with grid search\n",
    "model = grid_search.fit(X_resampled, y_resampled)"
   ]
  },
  {
   "cell_type": "code",
   "execution_count": 38,
   "id": "454537ca",
   "metadata": {},
   "outputs": [
    {
     "name": "stdout",
     "output_type": "stream",
     "text": [
      "Best parameters: {'classifier__learning_rate': 1, 'classifier__n_estimators': 300, 'feature_selector__k': 25}\n",
      "Train score: 0.9911649584832236\n",
      "Test score: 0.766195997397926\n"
     ]
    }
   ],
   "source": [
    "best_estimator = grid_search.best_estimator_\n",
    "train_score = best_estimator.score(X_resampled,y_resampled)\n",
    "test_score = best_estimator.score(X_test, y_test)\n",
    "\n",
    "# Print the best parameters and test score\n",
    "print(\"Best parameters:\", grid_search.best_params_)\n",
    "\n",
    "print(\"Train score:\", train_score)\n",
    "print(\"Test score:\", test_score)"
   ]
  },
  {
   "cell_type": "code",
   "execution_count": 41,
   "id": "01052b43",
   "metadata": {
    "scrolled": true
   },
   "outputs": [
    {
     "name": "stdout",
     "output_type": "stream",
     "text": [
      "              precision    recall  f1-score   support\n",
      "\n",
      "           0       0.85      0.82      0.84     19150\n",
      "           1       0.56      0.61      0.58      6983\n",
      "\n",
      "    accuracy                           0.77     26133\n",
      "   macro avg       0.70      0.72      0.71     26133\n",
      "weighted avg       0.77      0.77      0.77     26133\n",
      "\n"
     ]
    }
   ],
   "source": [
    "y_pred = grid_search.predict(X_test)\n",
    "\n",
    "print(classification_report(y_test,y_pred))"
   ]
  },
  {
   "cell_type": "markdown",
   "id": "5fe18406",
   "metadata": {},
   "source": [
    "<font size='3'>The model performs well in predicting class 0, as indicated by high precision and recall scores. However, there's room for improvement in generalizing predictions for class 1 to achieve a more balanced overall performance.</font>"
   ]
  },
  {
   "cell_type": "code",
   "execution_count": 42,
   "id": "4c09ce0b",
   "metadata": {},
   "outputs": [
    {
     "data": {
      "image/png": "[encoded data removed]",
      "text/plain": [
       "<Figure size 800x600 with 1 Axes>"
      ]
     },
     "metadata": {},
     "output_type": "display_data"
    }
   ],
   "source": [
    "# Assuming you have predicted probabilities for positive class\n",
    "y_pred_probs = grid_search.predict_proba(X_test)[:, 1]\n",
    "\n",
    "# Compute ROC curve and AUC\n",
    "fpr, tpr, thresholds = roc_curve(y_test, y_pred_probs)\n",
    "roc_auc = roc_auc_score(y_test, y_pred_probs)\n",
    "\n",
    "# Plot ROC curve\n",
    "plt.figure(figsize=(8, 6))\n",
    "plt.plot(fpr, tpr, color='blue', lw=2, label='ROC curve (AUC = %0.2f)' % roc_auc)\n",
    "plt.plot([0, 1], [0, 1], color='gray', linestyle='--')\n",
    "plt.xlim([0.0, 1.0])\n",
    "plt.ylim([0.0, 1.05])\n",
    "plt.xlabel('False Positive Rate')\n",
    "plt.ylabel('True Positive Rate')\n",
    "plt.title('Receiver Operating Characteristic (ROC)')\n",
    "plt.legend(loc='lower right')\n",
    "plt.show()"
   ]
  },
  {
   "cell_type": "code",
   "execution_count": 43,
   "id": "9600b85b",
   "metadata": {},
   "outputs": [
    {
     "data": {
      "image/png": "[encoded data removed]",
      "text/plain": [
       "<Figure size 600x400 with 1 Axes>"
      ]
     },
     "metadata": {},
     "output_type": "display_data"
    }
   ],
   "source": [
    "cm = confusion_matrix(y_test, y_pred)\n",
    "\n",
    "# Plot confusion matrix\n",
    "plt.figure(figsize=(6, 4))\n",
    "sns.heatmap(cm, annot=True, fmt=\"d\", cmap=\"Blues\", cbar=False,\n",
    "            annot_kws={\"size\": 16}, linewidths=0.5)\n",
    "plt.xlabel(\"Predicted Labels\")\n",
    "plt.ylabel(\"True Labels\")\n",
    "plt.title(\"Confusion Matrix\")\n",
    "plt.show()"
   ]
  },
  {
   "cell_type": "code",
   "execution_count": 46,
   "id": "1bab1d9f",
   "metadata": {},
   "outputs": [],
   "source": [
    "with open('adaboost.pkl','wb') as f:\n",
    "    joblib.dump(model,f)\n",
    "# the model is now stored in the tree_model.pkl file"
   ]
  },
  {
   "cell_type": "markdown",
   "id": "3f454f8b",
   "metadata": {},
   "source": [
    "## Gradient Boosting Models\n",
    "\n",
    "### Gradient Boosting Classifier\n",
    "In this model we use the `Pipeline` module and pass all the preprocessing steps required and model, then evaluate the model metrics on both training and test datasets. In the pipeline we wil pass the folowing module;\n",
    "   - `GradientBoostingClassifer` as our model and fitting a baseline model for the gradinet decent boosting with default parameters"
   ]
  },
  {
   "cell_type": "code",
   "execution_count": 24,
   "id": "4bc4d0f2",
   "metadata": {},
   "outputs": [
    {
     "data": {
      "text/html": [
       "<style>#sk-container-id-1 {color: black;background-color: white;}#sk-container-id-1 pre{padding: 0;}#sk-container-id-1 div.sk-toggleable {background-color: white;}#sk-container-id-1 label.sk-toggleable__label {cursor: pointer;display: block;width: 100%;margin-bottom: 0;padding: 0.3em;box-sizing: border-box;text-align: center;}#sk-container-id-1 label.sk-toggleable__label-arrow:before {content: \"▸\";float: left;margin-right: 0.25em;color: #696969;}#sk-container-id-1 label.sk-toggleable__label-arrow:hover:before {color: black;}#sk-container-id-1 div.sk-estimator:hover label.sk-toggleable__label-arrow:before {color: black;}#sk-container-id-1 div.sk-toggleable__content {max-height: 0;max-width: 0;overflow: hidden;text-align: left;background-color: #f0f8ff;}#sk-container-id-1 div.sk-toggleable__content pre {margin: 0.2em;color: black;border-radius: 0.25em;background-color: #f0f8ff;}#sk-container-id-1 input.sk-toggleable__control:checked~div.sk-toggleable__content {max-height: 200px;max-width: 100%;overflow: auto;}#sk-container-id-1 input.sk-toggleable__control:checked~label.sk-toggleable__label-arrow:before {content: \"▾\";}#sk-container-id-1 div.sk-estimator input.sk-toggleable__control:checked~label.sk-toggleable__label {background-color: #d4ebff;}#sk-container-id-1 div.sk-label input.sk-toggleable__control:checked~label.sk-toggleable__label {background-color: #d4ebff;}#sk-container-id-1 input.sk-hidden--visually {border: 0;clip: rect(1px 1px 1px 1px);clip: rect(1px, 1px, 1px, 1px);height: 1px;margin: -1px;overflow: hidden;padding: 0;position: absolute;width: 1px;}#sk-container-id-1 div.sk-estimator {font-family: monospace;background-color: #f0f8ff;border: 1px dotted black;border-radius: 0.25em;box-sizing: border-box;margin-bottom: 0.5em;}#sk-container-id-1 div.sk-estimator:hover {background-color: #d4ebff;}#sk-container-id-1 div.sk-parallel-item::after {content: \"\";width: 100%;border-bottom: 1px solid gray;flex-grow: 1;}#sk-container-id-1 div.sk-label:hover label.sk-toggleable__label {background-color: #d4ebff;}#sk-container-id-1 div.sk-serial::before {content: \"\";position: absolute;border-left: 1px solid gray;box-sizing: border-box;top: 0;bottom: 0;left: 50%;z-index: 0;}#sk-container-id-1 div.sk-serial {display: flex;flex-direction: column;align-items: center;background-color: white;padding-right: 0.2em;padding-left: 0.2em;position: relative;}#sk-container-id-1 div.sk-item {position: relative;z-index: 1;}#sk-container-id-1 div.sk-parallel {display: flex;align-items: stretch;justify-content: center;background-color: white;position: relative;}#sk-container-id-1 div.sk-item::before, #sk-container-id-1 div.sk-parallel-item::before {content: \"\";position: absolute;border-left: 1px solid gray;box-sizing: border-box;top: 0;bottom: 0;left: 50%;z-index: -1;}#sk-container-id-1 div.sk-parallel-item {display: flex;flex-direction: column;z-index: 1;position: relative;background-color: white;}#sk-container-id-1 div.sk-parallel-item:first-child::after {align-self: flex-end;width: 50%;}#sk-container-id-1 div.sk-parallel-item:last-child::after {align-self: flex-start;width: 50%;}#sk-container-id-1 div.sk-parallel-item:only-child::after {width: 0;}#sk-container-id-1 div.sk-dashed-wrapped {border: 1px dashed gray;margin: 0 0.4em 0.5em 0.4em;box-sizing: border-box;padding-bottom: 0.4em;background-color: white;}#sk-container-id-1 div.sk-label label {font-family: monospace;font-weight: bold;display: inline-block;line-height: 1.2em;}#sk-container-id-1 div.sk-label-container {text-align: center;}#sk-container-id-1 div.sk-container {/* jupyter's `normalize.less` sets `[hidden] { display: none; }` but bootstrap.min.css set `[hidden] { display: none !important; }` so we also need the `!important` here to be able to override the default hidden behavior on the sphinx rendered scikit-learn.org. See: https://github.com/scikit-learn/scikit-learn/issues/21755 */display: inline-block !important;position: relative;}#sk-container-id-1 div.sk-text-repr-fallback {display: none;}</style><div id=\"sk-container-id-1\" class=\"sk-top-container\"><div class=\"sk-text-repr-fallback\"><pre>Pipeline(steps=[(&#x27;gb_clf&#x27;, GradientBoostingClassifier(random_state=42))])</pre><b>In a Jupyter environment, please rerun this cell to show the HTML representation or trust the notebook. <br />On GitHub, the HTML representation is unable to render, please try loading this page with nbviewer.org.</b></div><div class=\"sk-container\" hidden><div class=\"sk-item sk-dashed-wrapped\"><div class=\"sk-label-container\"><div class=\"sk-label sk-toggleable\"><input class=\"sk-toggleable__control sk-hidden--visually\" id=\"sk-estimator-id-1\" type=\"checkbox\" ><label for=\"sk-estimator-id-1\" class=\"sk-toggleable__label sk-toggleable__label-arrow\">Pipeline</label><div class=\"sk-toggleable__content\"><pre>Pipeline(steps=[(&#x27;gb_clf&#x27;, GradientBoostingClassifier(random_state=42))])</pre></div></div></div><div class=\"sk-serial\"><div class=\"sk-item\"><div class=\"sk-estimator sk-toggleable\"><input class=\"sk-toggleable__control sk-hidden--visually\" id=\"sk-estimator-id-2\" type=\"checkbox\" ><label for=\"sk-estimator-id-2\" class=\"sk-toggleable__label sk-toggleable__label-arrow\">GradientBoostingClassifier</label><div class=\"sk-toggleable__content\"><pre>GradientBoostingClassifier(random_state=42)</pre></div></div></div></div></div></div></div>"
      ],
      "text/plain": [
       "Pipeline(steps=[('gb_clf', GradientBoostingClassifier(random_state=42))])"
      ]
     },
     "execution_count": 24,
     "metadata": {},
     "output_type": "execute_result"
    }
   ],
   "source": [
    "# creating pipe\n",
    "pipe= Pipeline([('gb_clf', GradientBoostingClassifier(random_state =42)) ])\n",
    "\n",
    "# fiting the pipe on the train data\n",
    "pipe.fit(X_resampled, y_resampled)"
   ]
  },
  {
   "cell_type": "markdown",
   "id": "2f7d12da",
   "metadata": {},
   "source": [
    "> We will investigate the accuracy of our model on the training data using cross validation indorder to evaluate the training and test scores"
   ]
  },
  {
   "cell_type": "code",
   "execution_count": 25,
   "id": "199da299",
   "metadata": {},
   "outputs": [
    {
     "name": "stdout",
     "output_type": "stream",
     "text": [
      "Training\n",
      "Mean Accuracy score: 0.8491821081924931\n",
      " Mean F1-score: 0.8526923369079192\n",
      " Mean Precision: 0.8345572121060189\n",
      " Mean Recall: 0.8716939297269168\n",
      "----------------------------------------------\n",
      "Testing\n",
      "Mean Accuracy score: 0.8155727505147176\n",
      " Mean F1-score: 0.802537686822812\n",
      " Mean Precision: 0.8227953707487489\n",
      " Mean Recall: 0.8048824634041495\n",
      "----------------------------------------------\n"
     ]
    }
   ],
   "source": [
    "# GradientBoosting model predictions on training data\n",
    "gb_means=cross_validate( pipe, \n",
    "                        X_resampled,\n",
    "                        y_resampled , \n",
    "                        cv=3, \n",
    "                        scoring=['accuracy','f1','precision','recall'],\n",
    "                        return_train_score= True)\n",
    "\n",
    "train=['train_accuracy','train_f1','train_precision','train_recall']\n",
    "test=['test_accuracy','test_f1','test_precision','test_recall']\n",
    "names=[\"Training\",\"Testing\"]\n",
    "for index, list_ in enumerate([train,test]):\n",
    "    print(names[index])\n",
    "    print(f\"Mean Accuracy score: {gb_means[list_[0]].mean()}\")\n",
    "    print(f\" Mean F1-score: {gb_means[list_[0+1]].mean()}\")\n",
    "    print(f\" Mean Precision: {gb_means[list_[0+2]].mean()}\")\n",
    "    print(f\" Mean Recall: {gb_means[list_[0+3]].mean()}\")\n",
    "    print('----------------------------------------------')\n"
   ]
  },
  {
   "cell_type": "markdown",
   "id": "ba5d979b",
   "metadata": {},
   "source": [
    "> From the output above the training accuracy is 85% while the test accuracy is 81%. This shows that is our model not overfitting since the train and test scores are not far of each other.\n",
    "\n",
    "Then we will optimize / tune out model  hyper parameters, by use of  `RandomizedSearchCV` because of its fast computational speed as compared to `GridSearchCV`. This tuning is aimed at improving the score and avoid any possible undefitting and finally evaluating the the model perfomance"
   ]
  },
  {
   "cell_type": "code",
   "execution_count": 29,
   "id": "11c2b42f",
   "metadata": {},
   "outputs": [
    {
     "data": {
      "text/html": [
       "<style>#sk-container-id-2 {color: black;background-color: white;}#sk-container-id-2 pre{padding: 0;}#sk-container-id-2 div.sk-toggleable {background-color: white;}#sk-container-id-2 label.sk-toggleable__label {cursor: pointer;display: block;width: 100%;margin-bottom: 0;padding: 0.3em;box-sizing: border-box;text-align: center;}#sk-container-id-2 label.sk-toggleable__label-arrow:before {content: \"▸\";float: left;margin-right: 0.25em;color: #696969;}#sk-container-id-2 label.sk-toggleable__label-arrow:hover:before {color: black;}#sk-container-id-2 div.sk-estimator:hover label.sk-toggleable__label-arrow:before {color: black;}#sk-container-id-2 div.sk-toggleable__content {max-height: 0;max-width: 0;overflow: hidden;text-align: left;background-color: #f0f8ff;}#sk-container-id-2 div.sk-toggleable__content pre {margin: 0.2em;color: black;border-radius: 0.25em;background-color: #f0f8ff;}#sk-container-id-2 input.sk-toggleable__control:checked~div.sk-toggleable__content {max-height: 200px;max-width: 100%;overflow: auto;}#sk-container-id-2 input.sk-toggleable__control:checked~label.sk-toggleable__label-arrow:before {content: \"▾\";}#sk-container-id-2 div.sk-estimator input.sk-toggleable__control:checked~label.sk-toggleable__label {background-color: #d4ebff;}#sk-container-id-2 div.sk-label input.sk-toggleable__control:checked~label.sk-toggleable__label {background-color: #d4ebff;}#sk-container-id-2 input.sk-hidden--visually {border: 0;clip: rect(1px 1px 1px 1px);clip: rect(1px, 1px, 1px, 1px);height: 1px;margin: -1px;overflow: hidden;padding: 0;position: absolute;width: 1px;}#sk-container-id-2 div.sk-estimator {font-family: monospace;background-color: #f0f8ff;border: 1px dotted black;border-radius: 0.25em;box-sizing: border-box;margin-bottom: 0.5em;}#sk-container-id-2 div.sk-estimator:hover {background-color: #d4ebff;}#sk-container-id-2 div.sk-parallel-item::after {content: \"\";width: 100%;border-bottom: 1px solid gray;flex-grow: 1;}#sk-container-id-2 div.sk-label:hover label.sk-toggleable__label {background-color: #d4ebff;}#sk-container-id-2 div.sk-serial::before {content: \"\";position: absolute;border-left: 1px solid gray;box-sizing: border-box;top: 0;bottom: 0;left: 50%;z-index: 0;}#sk-container-id-2 div.sk-serial {display: flex;flex-direction: column;align-items: center;background-color: white;padding-right: 0.2em;padding-left: 0.2em;position: relative;}#sk-container-id-2 div.sk-item {position: relative;z-index: 1;}#sk-container-id-2 div.sk-parallel {display: flex;align-items: stretch;justify-content: center;background-color: white;position: relative;}#sk-container-id-2 div.sk-item::before, #sk-container-id-2 div.sk-parallel-item::before {content: \"\";position: absolute;border-left: 1px solid gray;box-sizing: border-box;top: 0;bottom: 0;left: 50%;z-index: -1;}#sk-container-id-2 div.sk-parallel-item {display: flex;flex-direction: column;z-index: 1;position: relative;background-color: white;}#sk-container-id-2 div.sk-parallel-item:first-child::after {align-self: flex-end;width: 50%;}#sk-container-id-2 div.sk-parallel-item:last-child::after {align-self: flex-start;width: 50%;}#sk-container-id-2 div.sk-parallel-item:only-child::after {width: 0;}#sk-container-id-2 div.sk-dashed-wrapped {border: 1px dashed gray;margin: 0 0.4em 0.5em 0.4em;box-sizing: border-box;padding-bottom: 0.4em;background-color: white;}#sk-container-id-2 div.sk-label label {font-family: monospace;font-weight: bold;display: inline-block;line-height: 1.2em;}#sk-container-id-2 div.sk-label-container {text-align: center;}#sk-container-id-2 div.sk-container {/* jupyter's `normalize.less` sets `[hidden] { display: none; }` but bootstrap.min.css set `[hidden] { display: none !important; }` so we also need the `!important` here to be able to override the default hidden behavior on the sphinx rendered scikit-learn.org. See: https://github.com/scikit-learn/scikit-learn/issues/21755 */display: inline-block !important;position: relative;}#sk-container-id-2 div.sk-text-repr-fallback {display: none;}</style><div id=\"sk-container-id-2\" class=\"sk-top-container\"><div class=\"sk-text-repr-fallback\"><pre>RandomizedSearchCV(cv=3,\n",
       "                   estimator=Pipeline(steps=[(&#x27;gb_clf&#x27;,\n",
       "                                              GradientBoostingClassifier(random_state=42))]),\n",
       "                   n_iter=6, n_jobs=-1,\n",
       "                   param_distributions={&#x27;gb_clf__learning_rate&#x27;: [0.1],\n",
       "                                        &#x27;gb_clf__max_depth&#x27;: [6],\n",
       "                                        &#x27;gb_clf__max_features&#x27;: [None, &#x27;sqrt&#x27;,\n",
       "                                                                 &#x27;log2&#x27;],\n",
       "                                        &#x27;gb_clf__min_samples_split&#x27;: [2, 5],\n",
       "                                        &#x27;gb_clf__n_estimators&#x27;: [100]},\n",
       "                   scoring=&#x27;accuracy&#x27;)</pre><b>In a Jupyter environment, please rerun this cell to show the HTML representation or trust the notebook. <br />On GitHub, the HTML representation is unable to render, please try loading this page with nbviewer.org.</b></div><div class=\"sk-container\" hidden><div class=\"sk-item sk-dashed-wrapped\"><div class=\"sk-label-container\"><div class=\"sk-label sk-toggleable\"><input class=\"sk-toggleable__control sk-hidden--visually\" id=\"sk-estimator-id-3\" type=\"checkbox\" ><label for=\"sk-estimator-id-3\" class=\"sk-toggleable__label sk-toggleable__label-arrow\">RandomizedSearchCV</label><div class=\"sk-toggleable__content\"><pre>RandomizedSearchCV(cv=3,\n",
       "                   estimator=Pipeline(steps=[(&#x27;gb_clf&#x27;,\n",
       "                                              GradientBoostingClassifier(random_state=42))]),\n",
       "                   n_iter=6, n_jobs=-1,\n",
       "                   param_distributions={&#x27;gb_clf__learning_rate&#x27;: [0.1],\n",
       "                                        &#x27;gb_clf__max_depth&#x27;: [6],\n",
       "                                        &#x27;gb_clf__max_features&#x27;: [None, &#x27;sqrt&#x27;,\n",
       "                                                                 &#x27;log2&#x27;],\n",
       "                                        &#x27;gb_clf__min_samples_split&#x27;: [2, 5],\n",
       "                                        &#x27;gb_clf__n_estimators&#x27;: [100]},\n",
       "                   scoring=&#x27;accuracy&#x27;)</pre></div></div></div><div class=\"sk-parallel\"><div class=\"sk-parallel-item\"><div class=\"sk-item\"><div class=\"sk-label-container\"><div class=\"sk-label sk-toggleable\"><input class=\"sk-toggleable__control sk-hidden--visually\" id=\"sk-estimator-id-4\" type=\"checkbox\" ><label for=\"sk-estimator-id-4\" class=\"sk-toggleable__label sk-toggleable__label-arrow\">estimator: Pipeline</label><div class=\"sk-toggleable__content\"><pre>Pipeline(steps=[(&#x27;gb_clf&#x27;, GradientBoostingClassifier(random_state=42))])</pre></div></div></div><div class=\"sk-serial\"><div class=\"sk-item\"><div class=\"sk-serial\"><div class=\"sk-item\"><div class=\"sk-estimator sk-toggleable\"><input class=\"sk-toggleable__control sk-hidden--visually\" id=\"sk-estimator-id-5\" type=\"checkbox\" ><label for=\"sk-estimator-id-5\" class=\"sk-toggleable__label sk-toggleable__label-arrow\">GradientBoostingClassifier</label><div class=\"sk-toggleable__content\"><pre>GradientBoostingClassifier(random_state=42)</pre></div></div></div></div></div></div></div></div></div></div></div></div>"
      ],
      "text/plain": [
       "RandomizedSearchCV(cv=3,\n",
       "                   estimator=Pipeline(steps=[('gb_clf',\n",
       "                                              GradientBoostingClassifier(random_state=42))]),\n",
       "                   n_iter=6, n_jobs=-1,\n",
       "                   param_distributions={'gb_clf__learning_rate': [0.1],\n",
       "                                        'gb_clf__max_depth': [6],\n",
       "                                        'gb_clf__max_features': [None, 'sqrt',\n",
       "                                                                 'log2'],\n",
       "                                        'gb_clf__min_samples_split': [2, 5],\n",
       "                                        'gb_clf__n_estimators': [100]},\n",
       "                   scoring='accuracy')"
      ]
     },
     "execution_count": 29,
     "metadata": {},
     "output_type": "execute_result"
    }
   ],
   "source": [
    "# creating a parameters dictionary\n",
    "params= {\n",
    "    'gb_clf__learning_rate' : [0.1],\n",
    "    'gb_clf__max_features' : [None, 'sqrt', 'log2'],\n",
    "    'gb_clf__n_estimators' : [100],\n",
    "    'gb_clf__min_samples_split' : [2,5],\n",
    "    'gb_clf__max_depth' : [6] \n",
    " }\n",
    "\n",
    "#instatiating the GridSearchCV\n",
    "grid_gb= RandomizedSearchCV( estimator= pipe , \n",
    "                              param_distributions =params,\n",
    "                              cv=3, \n",
    "                              scoring='accuracy',\n",
    "                              n_iter=6 ,\n",
    "                              n_jobs=-1)\n",
    "\n",
    "#fitting the grid on the train data\n",
    "grid_gb.fit(X_resampled, y_resampled)"
   ]
  },
  {
   "cell_type": "code",
   "execution_count": 30,
   "id": "7fcba8a1",
   "metadata": {},
   "outputs": [
    {
     "name": "stdout",
     "output_type": "stream",
     "text": [
      "Best Parameter Combination Found During Grid Search:\n",
      "gb_clf__n_estimators :  100\n",
      "gb_clf__min_samples_split :  2\n",
      "gb_clf__max_features :  None\n",
      "gb_clf__max_depth :  6\n",
      "gb_clf__learning_rate :  0.1\n",
      "Best Accuracy Score: 0.8276770967668953\n"
     ]
    }
   ],
   "source": [
    "# printing the best found parameters\n",
    "best_params=grid_gb.best_params_    # assigning best parameters to best_params\n",
    "print(\"Best Parameter Combination Found During Grid Search:\")\n",
    "for param, value in best_params.items():     #looping over the best parameters dictionary\n",
    "    print(param,': ',value)                  # printing the values\n",
    "    \n",
    "print(f\"Best Accuracy Score: {grid_gb.best_score_}\")    #printing the best identified accuracy"
   ]
  },
  {
   "cell_type": "code",
   "execution_count": 39,
   "id": "e033846e",
   "metadata": {},
   "outputs": [
    {
     "name": "stdout",
     "output_type": "stream",
     "text": [
      "Training\n",
      "Mean Accuracy score: 0.881892124256205\n",
      " Mean F1-score: 0.8834764073337831\n",
      " Mean Precision: 0.8744643988811175\n",
      " Mean Recall: 0.8928256295391298\n",
      "----------------------------------------------\n",
      "Testing\n",
      "Mean Accuracy score: 0.8273377225729089\n",
      " Mean F1-score: 0.8033359666110234\n",
      " Mean Precision: 0.8528689863076696\n",
      " Mean Recall: 0.7950179868322813\n",
      "----------------------------------------------\n"
     ]
    }
   ],
   "source": [
    "# using the grid to evaluate the perfomance of the model\n",
    "\n",
    "gb_means=cross_validate( grid_gb,             # instantiating the cross validate\n",
    "                        X_resampled,\n",
    "                        y_resampled , \n",
    "                        cv=3, \n",
    "                        scoring=['accuracy','f1','precision','recall'],\n",
    "                        return_train_score= True)\n",
    "\n",
    "# pritting the cross validate scores through a for loop\n",
    "train=['train_accuracy','train_f1','train_precision','train_recall']\n",
    "test=['test_accuracy','test_f1','test_precision','test_recall']\n",
    "names=[\"Training\",\"Testing\"]\n",
    "for index, list_ in enumerate([train,test]):\n",
    "    print(names[index])\n",
    "    print(f\"Mean Accuracy score: {gb_means[list_[0]].mean()}\")\n",
    "    print(f\" Mean F1-score: {gb_means[list_[0+1]].mean()}\")\n",
    "    print(f\" Mean Precision: {gb_means[list_[0+2]].mean()}\")\n",
    "    print(f\" Mean Recall: {gb_means[list_[0+3]].mean()}\")\n",
    "    print('----------------------------------------------')"
   ]
  },
  {
   "cell_type": "markdown",
   "id": "d37cf5ad",
   "metadata": {},
   "source": [
    "> Form the grid search we can observe that the test accuracy has increased from 81.5% to 82.8%, therefore out optimal parameters produce the better model interms of accuarcy and precision even though the other metrics (f1-score and recall) remain constant.\n",
    "\n",
    "Using the best gradient descent tuned model, since its the better model, to examine its perfomance on the test data."
   ]
  },
  {
   "cell_type": "code",
   "execution_count": 49,
   "id": "d1c1ee53",
   "metadata": {
    "scrolled": true
   },
   "outputs": [
    {
     "name": "stdout",
     "output_type": "stream",
     "text": [
      "Training\n",
      "Accuracy: 0.872055928867169\n",
      "f1 score: 0.8734616245245022\n",
      "Precision: 0.863969367654545\n",
      "Recall: 0.8831647774836535\n",
      "------------------------------------------- \n",
      "\n",
      "Testing\n",
      "Accuracy: 0.8137986453908851\n",
      "f1 score: 0.67442794058611\n",
      "Precision: 0.632927288710285\n",
      "Recall: 0.7217528282972935\n",
      "------------------------------------------- \n",
      "\n"
     ]
    }
   ],
   "source": [
    "# printing the training and testing metrics\n",
    "ys= [y_resampled, y_test]                                # target list\n",
    "names= ['Training', 'Testing']                                 # names list\n",
    "for index,values in enumerate([X_resampled, X_test]):   # looping over predictors list\n",
    "    pred = grid_gb.predict(values)                             # fitting the grid \n",
    "    print( names[index])                                        # printing the names\n",
    "    print(f\"Accuracy: {accuracy_score(ys[index], pred)}\")       # calculating accuracy\n",
    "    print(f\"f1 score: {f1_score(ys[index], pred)}\")       # calculating f1 score     \n",
    "    print(f\"Precision: {precision_score(ys[index], pred)}\")       # calculating precision\n",
    "    print(f\"Recall: {recall_score(ys[index], pred)}\")       # calculating recall\n",
    "    print(\"------------------------------------------- \\n\")\n"
   ]
  },
  {
   "cell_type": "markdown",
   "id": "2edda5ab",
   "metadata": {},
   "source": [
    "From the results above we can observe that the model is generalising very poorly on unseen data as the recall and precision metrics are dropping drastically"
   ]
  },
  {
   "cell_type": "markdown",
   "id": "f0d779ce",
   "metadata": {},
   "source": [
    "### XGBoost Classifier\n",
    "We will create a xgboost model, a form of gradiend boost, to examine if it performs better than the gradient boost model"
   ]
  },
  {
   "cell_type": "code",
   "execution_count": 31,
   "id": "86fd4253",
   "metadata": {},
   "outputs": [
    {
     "data": {
      "text/html": [
       "<style>#sk-container-id-3 {color: black;background-color: white;}#sk-container-id-3 pre{padding: 0;}#sk-container-id-3 div.sk-toggleable {background-color: white;}#sk-container-id-3 label.sk-toggleable__label {cursor: pointer;display: block;width: 100%;margin-bottom: 0;padding: 0.3em;box-sizing: border-box;text-align: center;}#sk-container-id-3 label.sk-toggleable__label-arrow:before {content: \"▸\";float: left;margin-right: 0.25em;color: #696969;}#sk-container-id-3 label.sk-toggleable__label-arrow:hover:before {color: black;}#sk-container-id-3 div.sk-estimator:hover label.sk-toggleable__label-arrow:before {color: black;}#sk-container-id-3 div.sk-toggleable__content {max-height: 0;max-width: 0;overflow: hidden;text-align: left;background-color: #f0f8ff;}#sk-container-id-3 div.sk-toggleable__content pre {margin: 0.2em;color: black;border-radius: 0.25em;background-color: #f0f8ff;}#sk-container-id-3 input.sk-toggleable__control:checked~div.sk-toggleable__content {max-height: 200px;max-width: 100%;overflow: auto;}#sk-container-id-3 input.sk-toggleable__control:checked~label.sk-toggleable__label-arrow:before {content: \"▾\";}#sk-container-id-3 div.sk-estimator input.sk-toggleable__control:checked~label.sk-toggleable__label {background-color: #d4ebff;}#sk-container-id-3 div.sk-label input.sk-toggleable__control:checked~label.sk-toggleable__label {background-color: #d4ebff;}#sk-container-id-3 input.sk-hidden--visually {border: 0;clip: rect(1px 1px 1px 1px);clip: rect(1px, 1px, 1px, 1px);height: 1px;margin: -1px;overflow: hidden;padding: 0;position: absolute;width: 1px;}#sk-container-id-3 div.sk-estimator {font-family: monospace;background-color: #f0f8ff;border: 1px dotted black;border-radius: 0.25em;box-sizing: border-box;margin-bottom: 0.5em;}#sk-container-id-3 div.sk-estimator:hover {background-color: #d4ebff;}#sk-container-id-3 div.sk-parallel-item::after {content: \"\";width: 100%;border-bottom: 1px solid gray;flex-grow: 1;}#sk-container-id-3 div.sk-label:hover label.sk-toggleable__label {background-color: #d4ebff;}#sk-container-id-3 div.sk-serial::before {content: \"\";position: absolute;border-left: 1px solid gray;box-sizing: border-box;top: 0;bottom: 0;left: 50%;z-index: 0;}#sk-container-id-3 div.sk-serial {display: flex;flex-direction: column;align-items: center;background-color: white;padding-right: 0.2em;padding-left: 0.2em;position: relative;}#sk-container-id-3 div.sk-item {position: relative;z-index: 1;}#sk-container-id-3 div.sk-parallel {display: flex;align-items: stretch;justify-content: center;background-color: white;position: relative;}#sk-container-id-3 div.sk-item::before, #sk-container-id-3 div.sk-parallel-item::before {content: \"\";position: absolute;border-left: 1px solid gray;box-sizing: border-box;top: 0;bottom: 0;left: 50%;z-index: -1;}#sk-container-id-3 div.sk-parallel-item {display: flex;flex-direction: column;z-index: 1;position: relative;background-color: white;}#sk-container-id-3 div.sk-parallel-item:first-child::after {align-self: flex-end;width: 50%;}#sk-container-id-3 div.sk-parallel-item:last-child::after {align-self: flex-start;width: 50%;}#sk-container-id-3 div.sk-parallel-item:only-child::after {width: 0;}#sk-container-id-3 div.sk-dashed-wrapped {border: 1px dashed gray;margin: 0 0.4em 0.5em 0.4em;box-sizing: border-box;padding-bottom: 0.4em;background-color: white;}#sk-container-id-3 div.sk-label label {font-family: monospace;font-weight: bold;display: inline-block;line-height: 1.2em;}#sk-container-id-3 div.sk-label-container {text-align: center;}#sk-container-id-3 div.sk-container {/* jupyter's `normalize.less` sets `[hidden] { display: none; }` but bootstrap.min.css set `[hidden] { display: none !important; }` so we also need the `!important` here to be able to override the default hidden behavior on the sphinx rendered scikit-learn.org. See: https://github.com/scikit-learn/scikit-learn/issues/21755 */display: inline-block !important;position: relative;}#sk-container-id-3 div.sk-text-repr-fallback {display: none;}</style><div id=\"sk-container-id-3\" class=\"sk-top-container\"><div class=\"sk-text-repr-fallback\"><pre>Pipeline(steps=[(&#x27;xg_clf&#x27;,\n",
       "                 XGBClassifier(base_score=None, booster=None, callbacks=None,\n",
       "                               colsample_bylevel=None, colsample_bynode=None,\n",
       "                               colsample_bytree=None,\n",
       "                               early_stopping_rounds=None,\n",
       "                               enable_categorical=False, eval_metric=None,\n",
       "                               feature_types=None, gamma=None, gpu_id=None,\n",
       "                               grow_policy=None, importance_type=None,\n",
       "                               interaction_constraints=None, learning_rate=None,\n",
       "                               max_bin=None, max_cat_threshold=None,\n",
       "                               max_cat_to_onehot=None, max_delta_step=None,\n",
       "                               max_depth=None, max_leaves=None,\n",
       "                               min_child_weight=None, missing=nan,\n",
       "                               monotone_constraints=None, n_estimators=100,\n",
       "                               n_jobs=None, num_parallel_tree=None,\n",
       "                               predictor=None, random_state=42, ...))])</pre><b>In a Jupyter environment, please rerun this cell to show the HTML representation or trust the notebook. <br />On GitHub, the HTML representation is unable to render, please try loading this page with nbviewer.org.</b></div><div class=\"sk-container\" hidden><div class=\"sk-item sk-dashed-wrapped\"><div class=\"sk-label-container\"><div class=\"sk-label sk-toggleable\"><input class=\"sk-toggleable__control sk-hidden--visually\" id=\"sk-estimator-id-6\" type=\"checkbox\" ><label for=\"sk-estimator-id-6\" class=\"sk-toggleable__label sk-toggleable__label-arrow\">Pipeline</label><div class=\"sk-toggleable__content\"><pre>Pipeline(steps=[(&#x27;xg_clf&#x27;,\n",
       "                 XGBClassifier(base_score=None, booster=None, callbacks=None,\n",
       "                               colsample_bylevel=None, colsample_bynode=None,\n",
       "                               colsample_bytree=None,\n",
       "                               early_stopping_rounds=None,\n",
       "                               enable_categorical=False, eval_metric=None,\n",
       "                               feature_types=None, gamma=None, gpu_id=None,\n",
       "                               grow_policy=None, importance_type=None,\n",
       "                               interaction_constraints=None, learning_rate=None,\n",
       "                               max_bin=None, max_cat_threshold=None,\n",
       "                               max_cat_to_onehot=None, max_delta_step=None,\n",
       "                               max_depth=None, max_leaves=None,\n",
       "                               min_child_weight=None, missing=nan,\n",
       "                               monotone_constraints=None, n_estimators=100,\n",
       "                               n_jobs=None, num_parallel_tree=None,\n",
       "                               predictor=None, random_state=42, ...))])</pre></div></div></div><div class=\"sk-serial\"><div class=\"sk-item\"><div class=\"sk-estimator sk-toggleable\"><input class=\"sk-toggleable__control sk-hidden--visually\" id=\"sk-estimator-id-7\" type=\"checkbox\" ><label for=\"sk-estimator-id-7\" class=\"sk-toggleable__label sk-toggleable__label-arrow\">XGBClassifier</label><div class=\"sk-toggleable__content\"><pre>XGBClassifier(base_score=None, booster=None, callbacks=None,\n",
       "              colsample_bylevel=None, colsample_bynode=None,\n",
       "              colsample_bytree=None, early_stopping_rounds=None,\n",
       "              enable_categorical=False, eval_metric=None, feature_types=None,\n",
       "              gamma=None, gpu_id=None, grow_policy=None, importance_type=None,\n",
       "              interaction_constraints=None, learning_rate=None, max_bin=None,\n",
       "              max_cat_threshold=None, max_cat_to_onehot=None,\n",
       "              max_delta_step=None, max_depth=None, max_leaves=None,\n",
       "              min_child_weight=None, missing=nan, monotone_constraints=None,\n",
       "              n_estimators=100, n_jobs=None, num_parallel_tree=None,\n",
       "              predictor=None, random_state=42, ...)</pre></div></div></div></div></div></div></div>"
      ],
      "text/plain": [
       "Pipeline(steps=[('xg_clf',\n",
       "                 XGBClassifier(base_score=None, booster=None, callbacks=None,\n",
       "                               colsample_bylevel=None, colsample_bynode=None,\n",
       "                               colsample_bytree=None,\n",
       "                               early_stopping_rounds=None,\n",
       "                               enable_categorical=False, eval_metric=None,\n",
       "                               feature_types=None, gamma=None, gpu_id=None,\n",
       "                               grow_policy=None, importance_type=None,\n",
       "                               interaction_constraints=None, learning_rate=None,\n",
       "                               max_bin=None, max_cat_threshold=None,\n",
       "                               max_cat_to_onehot=None, max_delta_step=None,\n",
       "                               max_depth=None, max_leaves=None,\n",
       "                               min_child_weight=None, missing=nan,\n",
       "                               monotone_constraints=None, n_estimators=100,\n",
       "                               n_jobs=None, num_parallel_tree=None,\n",
       "                               predictor=None, random_state=42, ...))])"
      ]
     },
     "execution_count": 31,
     "metadata": {},
     "output_type": "execute_result"
    }
   ],
   "source": [
    "# creating pipe for the XGBClassifier model\n",
    "pipe_xgb= Pipeline([('xg_clf', XGBClassifier(random_state=42)) ])\n",
    "\n",
    "# fiting the pipe on the train data\n",
    "pipe_xgb.fit(X_resampled, y_resampled)"
   ]
  },
  {
   "cell_type": "markdown",
   "id": "d789275b",
   "metadata": {},
   "source": [
    "Using the `cross_validate` to heck the performance of our model on training data snd a generalazition on test data"
   ]
  },
  {
   "cell_type": "code",
   "execution_count": 32,
   "id": "24c1ba29",
   "metadata": {},
   "outputs": [
    {
     "name": "stdout",
     "output_type": "stream",
     "text": [
      "Training\n",
      "Mean Accuracy score: 0.9071359080522182\n",
      " Mean F1-score: 0.9079159690472104\n",
      " Mean Precision: 0.9041420785057842\n",
      " Mean Recall: 0.9119210841874251\n",
      "----------------------------------------------\n",
      "Testing\n",
      "Mean Accuracy score: 0.8335595827959908\n",
      " Mean F1-score: 0.8006063311557985\n",
      " Mean Precision: 0.8739211205064897\n",
      " Mean Recall: 0.7870313808004705\n",
      "----------------------------------------------\n"
     ]
    }
   ],
   "source": [
    "# xgboost model predictions on training data using cross validate\n",
    "xgb_means=cross_validate(pipe_xgb ,                                  # the pipe with the model\n",
    "                         X_resampled,                          # features train data\n",
    "                         y_resampled,                          # target train data\n",
    "                         cv=3,                                       # number of k-folds=3\n",
    "                         scoring=['accuracy','f1','precision','recall'], # scoring metrics to be returned\n",
    "                         return_train_score= True)                        \n",
    "\n",
    "train=['train_accuracy','train_f1','train_precision','train_recall']\n",
    "test=['test_accuracy','test_f1','test_precision','test_recall']\n",
    "names=[\"Training\",\"Testing\"]\n",
    "for index, list_ in enumerate([train,test]):\n",
    "    print(names[index])\n",
    "    print(f\"Mean Accuracy score: {xgb_means[list_[0]].mean()}\")\n",
    "    print(f\" Mean F1-score: {xgb_means[list_[0+1]].mean()}\")\n",
    "    print(f\" Mean Precision: {xgb_means[list_[0+2]].mean()}\")\n",
    "    print(f\" Mean Recall: {xgb_means[list_[0+3]].mean()}\")\n",
    "    print('----------------------------------------------')"
   ]
  },
  {
   "cell_type": "markdown",
   "id": "335614bf",
   "metadata": {},
   "source": [
    "> From the output above, the baseline xgboost model has overfitted the training data since the train scores are high but the test scores are low.\n",
    "\n",
    "Through the use of `RandomizedSearchCV` we will tune model hypeprameters in aim of reducing the overfit and increasing the test scores"
   ]
  },
  {
   "cell_type": "code",
   "execution_count": 33,
   "id": "84ea9c97",
   "metadata": {
    "scrolled": false
   },
   "outputs": [
    {
     "data": {
      "text/html": [
       "<style>#sk-container-id-4 {color: black;background-color: white;}#sk-container-id-4 pre{padding: 0;}#sk-container-id-4 div.sk-toggleable {background-color: white;}#sk-container-id-4 label.sk-toggleable__label {cursor: pointer;display: block;width: 100%;margin-bottom: 0;padding: 0.3em;box-sizing: border-box;text-align: center;}#sk-container-id-4 label.sk-toggleable__label-arrow:before {content: \"▸\";float: left;margin-right: 0.25em;color: #696969;}#sk-container-id-4 label.sk-toggleable__label-arrow:hover:before {color: black;}#sk-container-id-4 div.sk-estimator:hover label.sk-toggleable__label-arrow:before {color: black;}#sk-container-id-4 div.sk-toggleable__content {max-height: 0;max-width: 0;overflow: hidden;text-align: left;background-color: #f0f8ff;}#sk-container-id-4 div.sk-toggleable__content pre {margin: 0.2em;color: black;border-radius: 0.25em;background-color: #f0f8ff;}#sk-container-id-4 input.sk-toggleable__control:checked~div.sk-toggleable__content {max-height: 200px;max-width: 100%;overflow: auto;}#sk-container-id-4 input.sk-toggleable__control:checked~label.sk-toggleable__label-arrow:before {content: \"▾\";}#sk-container-id-4 div.sk-estimator input.sk-toggleable__control:checked~label.sk-toggleable__label {background-color: #d4ebff;}#sk-container-id-4 div.sk-label input.sk-toggleable__control:checked~label.sk-toggleable__label {background-color: #d4ebff;}#sk-container-id-4 input.sk-hidden--visually {border: 0;clip: rect(1px 1px 1px 1px);clip: rect(1px, 1px, 1px, 1px);height: 1px;margin: -1px;overflow: hidden;padding: 0;position: absolute;width: 1px;}#sk-container-id-4 div.sk-estimator {font-family: monospace;background-color: #f0f8ff;border: 1px dotted black;border-radius: 0.25em;box-sizing: border-box;margin-bottom: 0.5em;}#sk-container-id-4 div.sk-estimator:hover {background-color: #d4ebff;}#sk-container-id-4 div.sk-parallel-item::after {content: \"\";width: 100%;border-bottom: 1px solid gray;flex-grow: 1;}#sk-container-id-4 div.sk-label:hover label.sk-toggleable__label {background-color: #d4ebff;}#sk-container-id-4 div.sk-serial::before {content: \"\";position: absolute;border-left: 1px solid gray;box-sizing: border-box;top: 0;bottom: 0;left: 50%;z-index: 0;}#sk-container-id-4 div.sk-serial {display: flex;flex-direction: column;align-items: center;background-color: white;padding-right: 0.2em;padding-left: 0.2em;position: relative;}#sk-container-id-4 div.sk-item {position: relative;z-index: 1;}#sk-container-id-4 div.sk-parallel {display: flex;align-items: stretch;justify-content: center;background-color: white;position: relative;}#sk-container-id-4 div.sk-item::before, #sk-container-id-4 div.sk-parallel-item::before {content: \"\";position: absolute;border-left: 1px solid gray;box-sizing: border-box;top: 0;bottom: 0;left: 50%;z-index: -1;}#sk-container-id-4 div.sk-parallel-item {display: flex;flex-direction: column;z-index: 1;position: relative;background-color: white;}#sk-container-id-4 div.sk-parallel-item:first-child::after {align-self: flex-end;width: 50%;}#sk-container-id-4 div.sk-parallel-item:last-child::after {align-self: flex-start;width: 50%;}#sk-container-id-4 div.sk-parallel-item:only-child::after {width: 0;}#sk-container-id-4 div.sk-dashed-wrapped {border: 1px dashed gray;margin: 0 0.4em 0.5em 0.4em;box-sizing: border-box;padding-bottom: 0.4em;background-color: white;}#sk-container-id-4 div.sk-label label {font-family: monospace;font-weight: bold;display: inline-block;line-height: 1.2em;}#sk-container-id-4 div.sk-label-container {text-align: center;}#sk-container-id-4 div.sk-container {/* jupyter's `normalize.less` sets `[hidden] { display: none; }` but bootstrap.min.css set `[hidden] { display: none !important; }` so we also need the `!important` here to be able to override the default hidden behavior on the sphinx rendered scikit-learn.org. See: https://github.com/scikit-learn/scikit-learn/issues/21755 */display: inline-block !important;position: relative;}#sk-container-id-4 div.sk-text-repr-fallback {display: none;}</style><div id=\"sk-container-id-4\" class=\"sk-top-container\"><div class=\"sk-text-repr-fallback\"><pre>RandomizedSearchCV(cv=3,\n",
       "                   estimator=Pipeline(steps=[(&#x27;xg_clf&#x27;,\n",
       "                                              XGBClassifier(base_score=None,\n",
       "                                                            booster=None,\n",
       "                                                            callbacks=None,\n",
       "                                                            colsample_bylevel=None,\n",
       "                                                            colsample_bynode=None,\n",
       "                                                            colsample_bytree=None,\n",
       "                                                            early_stopping_rounds=None,\n",
       "                                                            enable_categorical=False,\n",
       "                                                            eval_metric=None,\n",
       "                                                            feature_types=None,\n",
       "                                                            gamma=None,\n",
       "                                                            gpu_id=None,\n",
       "                                                            grow_policy=None,\n",
       "                                                            importance_type=None,\n",
       "                                                            interaction_cons...\n",
       "                                                            min_child_weight=None,\n",
       "                                                            missing=nan,\n",
       "                                                            monotone_constraints=None,\n",
       "                                                            n_estimators=100,\n",
       "                                                            n_jobs=None,\n",
       "                                                            num_parallel_tree=None,\n",
       "                                                            predictor=None,\n",
       "                                                            random_state=42, ...))]),\n",
       "                   n_iter=4, n_jobs=-1,\n",
       "                   param_distributions={&#x27;xg_clf__learning_rate&#x27;: [0.1],\n",
       "                                        &#x27;xg_clf__max_depth&#x27;: [6, 8],\n",
       "                                        &#x27;xg_clf__min_child_weight&#x27;: [6],\n",
       "                                        &#x27;xg_clf__n_estimators&#x27;: [300],\n",
       "                                        &#x27;xg_clf__subsample&#x27;: [0.6, 0.7]},\n",
       "                   scoring=&#x27;accuracy&#x27;)</pre><b>In a Jupyter environment, please rerun this cell to show the HTML representation or trust the notebook. <br />On GitHub, the HTML representation is unable to render, please try loading this page with nbviewer.org.</b></div><div class=\"sk-container\" hidden><div class=\"sk-item sk-dashed-wrapped\"><div class=\"sk-label-container\"><div class=\"sk-label sk-toggleable\"><input class=\"sk-toggleable__control sk-hidden--visually\" id=\"sk-estimator-id-8\" type=\"checkbox\" ><label for=\"sk-estimator-id-8\" class=\"sk-toggleable__label sk-toggleable__label-arrow\">RandomizedSearchCV</label><div class=\"sk-toggleable__content\"><pre>RandomizedSearchCV(cv=3,\n",
       "                   estimator=Pipeline(steps=[(&#x27;xg_clf&#x27;,\n",
       "                                              XGBClassifier(base_score=None,\n",
       "                                                            booster=None,\n",
       "                                                            callbacks=None,\n",
       "                                                            colsample_bylevel=None,\n",
       "                                                            colsample_bynode=None,\n",
       "                                                            colsample_bytree=None,\n",
       "                                                            early_stopping_rounds=None,\n",
       "                                                            enable_categorical=False,\n",
       "                                                            eval_metric=None,\n",
       "                                                            feature_types=None,\n",
       "                                                            gamma=None,\n",
       "                                                            gpu_id=None,\n",
       "                                                            grow_policy=None,\n",
       "                                                            importance_type=None,\n",
       "                                                            interaction_cons...\n",
       "                                                            min_child_weight=None,\n",
       "                                                            missing=nan,\n",
       "                                                            monotone_constraints=None,\n",
       "                                                            n_estimators=100,\n",
       "                                                            n_jobs=None,\n",
       "                                                            num_parallel_tree=None,\n",
       "                                                            predictor=None,\n",
       "                                                            random_state=42, ...))]),\n",
       "                   n_iter=4, n_jobs=-1,\n",
       "                   param_distributions={&#x27;xg_clf__learning_rate&#x27;: [0.1],\n",
       "                                        &#x27;xg_clf__max_depth&#x27;: [6, 8],\n",
       "                                        &#x27;xg_clf__min_child_weight&#x27;: [6],\n",
       "                                        &#x27;xg_clf__n_estimators&#x27;: [300],\n",
       "                                        &#x27;xg_clf__subsample&#x27;: [0.6, 0.7]},\n",
       "                   scoring=&#x27;accuracy&#x27;)</pre></div></div></div><div class=\"sk-parallel\"><div class=\"sk-parallel-item\"><div class=\"sk-item\"><div class=\"sk-label-container\"><div class=\"sk-label sk-toggleable\"><input class=\"sk-toggleable__control sk-hidden--visually\" id=\"sk-estimator-id-9\" type=\"checkbox\" ><label for=\"sk-estimator-id-9\" class=\"sk-toggleable__label sk-toggleable__label-arrow\">estimator: Pipeline</label><div class=\"sk-toggleable__content\"><pre>Pipeline(steps=[(&#x27;xg_clf&#x27;,\n",
       "                 XGBClassifier(base_score=None, booster=None, callbacks=None,\n",
       "                               colsample_bylevel=None, colsample_bynode=None,\n",
       "                               colsample_bytree=None,\n",
       "                               early_stopping_rounds=None,\n",
       "                               enable_categorical=False, eval_metric=None,\n",
       "                               feature_types=None, gamma=None, gpu_id=None,\n",
       "                               grow_policy=None, importance_type=None,\n",
       "                               interaction_constraints=None, learning_rate=None,\n",
       "                               max_bin=None, max_cat_threshold=None,\n",
       "                               max_cat_to_onehot=None, max_delta_step=None,\n",
       "                               max_depth=None, max_leaves=None,\n",
       "                               min_child_weight=None, missing=nan,\n",
       "                               monotone_constraints=None, n_estimators=100,\n",
       "                               n_jobs=None, num_parallel_tree=None,\n",
       "                               predictor=None, random_state=42, ...))])</pre></div></div></div><div class=\"sk-serial\"><div class=\"sk-item\"><div class=\"sk-serial\"><div class=\"sk-item\"><div class=\"sk-estimator sk-toggleable\"><input class=\"sk-toggleable__control sk-hidden--visually\" id=\"sk-estimator-id-10\" type=\"checkbox\" ><label for=\"sk-estimator-id-10\" class=\"sk-toggleable__label sk-toggleable__label-arrow\">XGBClassifier</label><div class=\"sk-toggleable__content\"><pre>XGBClassifier(base_score=None, booster=None, callbacks=None,\n",
       "              colsample_bylevel=None, colsample_bynode=None,\n",
       "              colsample_bytree=None, early_stopping_rounds=None,\n",
       "              enable_categorical=False, eval_metric=None, feature_types=None,\n",
       "              gamma=None, gpu_id=None, grow_policy=None, importance_type=None,\n",
       "              interaction_constraints=None, learning_rate=None, max_bin=None,\n",
       "              max_cat_threshold=None, max_cat_to_onehot=None,\n",
       "              max_delta_step=None, max_depth=None, max_leaves=None,\n",
       "              min_child_weight=None, missing=nan, monotone_constraints=None,\n",
       "              n_estimators=100, n_jobs=None, num_parallel_tree=None,\n",
       "              predictor=None, random_state=42, ...)</pre></div></div></div></div></div></div></div></div></div></div></div></div>"
      ],
      "text/plain": [
       "RandomizedSearchCV(cv=3,\n",
       "                   estimator=Pipeline(steps=[('xg_clf',\n",
       "                                              XGBClassifier(base_score=None,\n",
       "                                                            booster=None,\n",
       "                                                            callbacks=None,\n",
       "                                                            colsample_bylevel=None,\n",
       "                                                            colsample_bynode=None,\n",
       "                                                            colsample_bytree=None,\n",
       "                                                            early_stopping_rounds=None,\n",
       "                                                            enable_categorical=False,\n",
       "                                                            eval_metric=None,\n",
       "                                                            feature_types=None,\n",
       "                                                            gamma=None,\n",
       "                                                            gpu_id=None,\n",
       "                                                            grow_policy=None,\n",
       "                                                            importance_type=None,\n",
       "                                                            interaction_cons...\n",
       "                                                            min_child_weight=None,\n",
       "                                                            missing=nan,\n",
       "                                                            monotone_constraints=None,\n",
       "                                                            n_estimators=100,\n",
       "                                                            n_jobs=None,\n",
       "                                                            num_parallel_tree=None,\n",
       "                                                            predictor=None,\n",
       "                                                            random_state=42, ...))]),\n",
       "                   n_iter=4, n_jobs=-1,\n",
       "                   param_distributions={'xg_clf__learning_rate': [0.1],\n",
       "                                        'xg_clf__max_depth': [6, 8],\n",
       "                                        'xg_clf__min_child_weight': [6],\n",
       "                                        'xg_clf__n_estimators': [300],\n",
       "                                        'xg_clf__subsample': [0.6, 0.7]},\n",
       "                   scoring='accuracy')"
      ]
     },
     "execution_count": 33,
     "metadata": {},
     "output_type": "execute_result"
    }
   ],
   "source": [
    "params_xgb= {\n",
    "    'xg_clf__learning_rate': [0.1],\n",
    "    'xg_clf__max_depth': [6,8],\n",
    "    'xg_clf__min_child_weight': [6],\n",
    "    'xg_clf__subsample': [0.6,0.7],\n",
    "    'xg_clf__n_estimators': [300],\n",
    "}\n",
    "\n",
    "\n",
    "#instatiating the GridSearchCV\n",
    "grid_xbg=   RandomizedSearchCV( estimator= pipe_xgb, \n",
    "                                param_distributions=params_xgb,\n",
    "                                cv=3 ,\n",
    "                                scoring='accuracy',\n",
    "                                n_iter = 4,\n",
    "                                n_jobs=-1)\n",
    "\n",
    "#fitting to the data\n",
    "grid_xbg.fit(X_resampled , y_resampled)"
   ]
  },
  {
   "cell_type": "code",
   "execution_count": 50,
   "id": "3558a1ad",
   "metadata": {},
   "outputs": [
    {
     "name": "stdout",
     "output_type": "stream",
     "text": [
      "Best Parameter Combination Found During Grid Search:\n",
      "xg_clf__subsample :  0.7\n",
      "xg_clf__n_estimators :  300\n",
      "xg_clf__min_child_weight :  6\n",
      "xg_clf__max_depth :  8\n",
      "xg_clf__learning_rate :  0.1\n",
      "Best Accuracy score: 0.8405393787189755\n"
     ]
    }
   ],
   "source": [
    "#displayinng the best set of parameters\n",
    "best_parameters = grid_xbg.best_params_\n",
    "\n",
    "print(\"Best Parameter Combination Found During Grid Search:\")\n",
    "for param, value in best_parameters.items():                  #looping over the dictionary of best parameters\n",
    "    print(param,': ',value)                                   # printing their names and their optimal values\n",
    "\n",
    "#printing the accuracy score of the optimal parameters\n",
    "print(f\"Best Accuracy score: {grid_xbg.best_score_}\")"
   ]
  },
  {
   "cell_type": "code",
   "execution_count": 40,
   "id": "39d5bd6c",
   "metadata": {},
   "outputs": [
    {
     "name": "stdout",
     "output_type": "stream",
     "text": [
      "Training\n",
      "Mean Accuracy score: 0.9213160931242786\n",
      " Mean F1-score: 0.9216058597309663\n",
      " Mean Precision: 0.9210755006730597\n",
      " Mean Recall: 0.9222380596846081\n",
      "----------------------------------------------\n",
      "Testing\n",
      "Mean Accuracy score: 0.8405393787189755\n",
      " Mean F1-score: 0.8072247217057855\n",
      " Mean Precision: 0.8839133020061499\n",
      " Mean Recall: 0.7912169958596348\n",
      "----------------------------------------------\n"
     ]
    }
   ],
   "source": [
    "# xgboost model predictions on training data using cross validate\n",
    "xgb_means=cross_validate( grid_xbg ,                                  # the pipe with the model\n",
    "                         X_resampled,                          # features train data\n",
    "                         y_resampled,                          # target train data\n",
    "                         cv=3,                                       # number of k-folds=3\n",
    "                         scoring=['accuracy','f1','precision','recall'], # scoring metrics to be returned\n",
    "                         return_train_score= True)                        \n",
    "\n",
    "\n",
    "train=['train_accuracy','train_f1','train_precision','train_recall']\n",
    "test=['test_accuracy','test_f1','test_precision','test_recall']\n",
    "names=[\"Training\",\"Testing\"]\n",
    "for index, list_ in enumerate([train,test]):\n",
    "    print(names[index])\n",
    "    print(f\"Mean Accuracy score: {xgb_means[list_[0]].mean()}\")\n",
    "    print(f\" Mean F1-score: {xgb_means[list_[0+1]].mean()}\")\n",
    "    print(f\" Mean Precision: {xgb_means[list_[0+2]].mean()}\")\n",
    "    print(f\" Mean Recall: {xgb_means[list_[0+3]].mean()}\")\n",
    "    print('----------------------------------------------')\n",
    "\n"
   ]
  },
  {
   "cell_type": "markdown",
   "id": "be8c72ee",
   "metadata": {},
   "source": [
    "Both the un-tuned and tuned xgboost models seem to be slightly overfitting the data, as the train folds scores are high and test folds scores are slightly low. The tuned model having higher test folds scores than the untuned model, therefore we pick it to be the better model on the xgboost models.\n"
   ]
  },
  {
   "cell_type": "code",
   "execution_count": 58,
   "id": "d87f22a9",
   "metadata": {},
   "outputs": [
    {
     "name": "stdout",
     "output_type": "stream",
     "text": [
      "Accuracy: 0.8359928060306892\n",
      "f1 score: 0.6958989640981977\n",
      "Precision: 0.6896357755589931\n",
      "Recall: 0.7022769583273665\n",
      "------------------------------------------- \n",
      "\n"
     ]
    }
   ],
   "source": [
    "#using the grid search parameters to fit test data\n",
    "test_preds= grid_xbg.predict(X_test)  \n",
    "\n",
    "# printing the metrics\n",
    "print(f\"Accuracy: {accuracy_score(y_test, test_preds)}\")    # calculating accuracy\n",
    "print(f\"f1 score: {f1_score(y_test, test_preds)}\")          # calculating f1 score     \n",
    "print(f\"Precision: {precision_score(y_test, test_preds)}\")  # calculating precision\n",
    "print(f\"Recall: {recall_score(y_test, test_preds)}\")        # calculating recall\n",
    "print(\"------------------------------------------- \\n\")\n"
   ]
  },
  {
   "cell_type": "markdown",
   "id": "f4619647",
   "metadata": {},
   "source": [
    "On test data the model has performed poorly than expected but the perfomance is still better than the tuned gradient bost model.\n",
    "\n",
    "> Therefore when comparing the two best models, gradient boosting and xgboost, xgboost performes better on unseen data, still with low f1-score, precision and recall."
   ]
  },
  {
   "cell_type": "code",
   "execution_count": 65,
   "id": "9bd46f39",
   "metadata": {},
   "outputs": [
    {
     "data": {
      "image/png": "[encoded data removed]",
      "text/plain": [
       "<Figure size 640x480 with 2 Axes>"
      ]
     },
     "metadata": {},
     "output_type": "display_data"
    }
   ],
   "source": [
    "# plotting the confusion matrix of the best model\n",
    "mat=confusion_matrix(y_test, test_preds)\n",
    "\n",
    "# displaying the matrix\n",
    "mat_plot= ConfusionMatrixDisplay(confusion_matrix= mat, display_labels=grid_xbg.classes_ )\n",
    "mat_plot.plot();\n",
    "plt.grid(False)  # removing grid lines\n",
    "\n"
   ]
  },
  {
   "cell_type": "markdown",
   "id": "d2fcee83",
   "metadata": {},
   "source": [
    "### saving our best gradient boosting model as a pickle file"
   ]
  },
  {
   "cell_type": "code",
   "execution_count": 79,
   "id": "6a6f8966",
   "metadata": {},
   "outputs": [],
   "source": [
    "# Save the trained model to a file\n",
    "with open( 'xgboost.pkl' , 'wb') as f:\n",
    "    joblib.dump(grid_xbg, f)\n"
   ]
  },
  {
   "cell_type": "markdown",
   "id": "b1d5f934",
   "metadata": {},
   "source": [
    "## Finding the best model\n",
    "Below we'll explore all the discussed models and pick the bets model , according to models perfomance on test data while majorly concentrating in the accuracy score."
   ]
  },
  {
   "cell_type": "code",
   "execution_count": 80,
   "id": "e0aab92e",
   "metadata": {},
   "outputs": [
    {
     "data": {
      "text/html": [
       "<div>\n",
       "<style scoped>\n",
       "    .dataframe tbody tr th:only-of-type {\n",
       "        vertical-align: middle;\n",
       "    }\n",
       "\n",
       "    .dataframe tbody tr th {\n",
       "        vertical-align: top;\n",
       "    }\n",
       "\n",
       "    .dataframe thead th {\n",
       "        text-align: right;\n",
       "    }\n",
       "</style>\n",
       "<table border=\"1\" class=\"dataframe\">\n",
       "  <thead>\n",
       "    <tr style=\"text-align: right;\">\n",
       "      <th></th>\n",
       "      <th>Model</th>\n",
       "      <th>Accuracy</th>\n",
       "      <th>f1-score</th>\n",
       "      <th>Precision</th>\n",
       "      <th>Recall</th>\n",
       "    </tr>\n",
       "  </thead>\n",
       "  <tbody>\n",
       "    <tr>\n",
       "      <th>0</th>\n",
       "      <td>Logistic</td>\n",
       "      <td>75</td>\n",
       "      <td>66</td>\n",
       "      <td>53</td>\n",
       "      <td>78</td>\n",
       "    </tr>\n",
       "    <tr>\n",
       "      <th>1</th>\n",
       "      <td>DecisionTrees</td>\n",
       "      <td>82</td>\n",
       "      <td>74</td>\n",
       "      <td>77</td>\n",
       "      <td>71</td>\n",
       "    </tr>\n",
       "    <tr>\n",
       "      <th>2</th>\n",
       "      <td>KNN</td>\n",
       "      <td>81</td>\n",
       "      <td>63</td>\n",
       "      <td>87</td>\n",
       "      <td>39</td>\n",
       "    </tr>\n",
       "    <tr>\n",
       "      <th>3</th>\n",
       "      <td>RandomForest</td>\n",
       "      <td>70</td>\n",
       "      <td>72</td>\n",
       "      <td>69</td>\n",
       "      <td>74</td>\n",
       "    </tr>\n",
       "    <tr>\n",
       "      <th>4</th>\n",
       "      <td>Adaboost</td>\n",
       "      <td>77</td>\n",
       "      <td>72</td>\n",
       "      <td>71</td>\n",
       "      <td>72</td>\n",
       "    </tr>\n",
       "    <tr>\n",
       "      <th>5</th>\n",
       "      <td>XGBOOST</td>\n",
       "      <td>84</td>\n",
       "      <td>70</td>\n",
       "      <td>69</td>\n",
       "      <td>70</td>\n",
       "    </tr>\n",
       "  </tbody>\n",
       "</table>\n",
       "</div>"
      ],
      "text/plain": [
       "           Model  Accuracy  f1-score  Precision  Recall\n",
       "0       Logistic        75        66         53      78\n",
       "1  DecisionTrees        82        74         77      71\n",
       "2            KNN        81        63         87      39\n",
       "3   RandomForest        70        72         69      74\n",
       "4       Adaboost        77        72         71      72\n",
       "5        XGBOOST        84        70         69      70"
      ]
     },
     "execution_count": 80,
     "metadata": {},
     "output_type": "execute_result"
    }
   ],
   "source": [
    "models = pd.DataFrame( { 'Model':  ['Logistic', 'DecisionTrees', 'KNN', 'RandomForest', 'Adaboost', 'XGBOOST'],    \n",
    "                        'Accuracy':  [75 , 82  , 81, 70 , 77 , 84],\n",
    "                        'f1-score': [66, 74, 63, 72,72,70 ],\n",
    "                        'Precision': [53, 77, 87, 69, 71, 69],\n",
    "                        'Recall': [78, 71 , 39, 74, 72, 70 ]\n",
    "                       })\n",
    "models"
   ]
  },
  {
   "cell_type": "markdown",
   "id": "40edf69b",
   "metadata": {},
   "source": [
    "From the datafarme above, the best model is the xgboost since it has the highest Accuracy"
   ]
  },
  {
   "cell_type": "markdown",
   "id": "1799c419",
   "metadata": {},
   "source": [
    "## Conclusions"
   ]
  },
  {
   "cell_type": "markdown",
   "id": "02786199",
   "metadata": {},
   "source": [
    "- The hotel experiences peak season during summer (June, July, August) and  low peak during winter (November, December, January)\n",
    "- Most of the reservations are received from Travel Agencies and Tour Operators while most churning happens from Undefined market channels.\n",
    "- The hotel is receiving fewer international reservations as most of them are from within the country and most churning is associated with Hong Kong , Macao and countries.\n",
    "- Room type A is booked by 58% of the customers, while the following rooms are rarely booked, I ,K , L, and P.\n",
    "- Room types K and L are mostly changed during booking as compared to the rest.\n",
    "- The top 5 features that greatly influence room reservation churning are: \n",
    "    - `country_PRT`: The odds of a customer cancelling reservation are approximately 4.03 times higher when the person's country is Portugal as compared to other countries.\n",
    "    - `previous_cancellations`: The odds of the customer cancelling reservation are about 1.91 times higher with every single unit increase in previous cancellation.\n",
    "    - `reserved_room_type_E`: The odds of a customer cancelling reservation are about 1.83 times higher when the reserved room type is \"E\" compar\n",
    "    - `lead_time`: The odds of a customer cancelling reservation  are  about 1.83 times higher with every unit increase in lead time.\n",
    "    - `reserved_room_type_D`: The odds of a customer cancelling reservation are about 1.74 times higher when the reserved room type is \"D\" compared to other room types.\n"
   ]
  },
  {
   "cell_type": "markdown",
   "id": "18e9b79b",
   "metadata": {},
   "source": [
    "## Recommendations"
   ]
  },
  {
   "cell_type": "markdown",
   "id": "0c89b92e",
   "metadata": {},
   "source": [
    "- Special offers for peak months (summer) to encourage more confirmed reservations during these periods and also discounts on the fewer peak months (winter).\n",
    "- Promoting International Bookings by offering discounts or tailoring services to meet their international standards/specifications.\n",
    "- Upgrading/improving the following room types I ,K , L and P in order to boost their booking and minimize book changes associated with them.\n",
    "- The hotel should offer discounts to local customers in order to discourage reservation cancelations\n",
    "- There should be good communication channels/programs with customers who have previously canceled their reservations.\n",
    "- The hotel should channel resources into collaborating with Travel Agencies and Tour Operators as they bring the most reservations.\n",
    "- The hotel should restrict reservations from Undefined market channels as they frequently lead to cancelations."
   ]
  }
 ],
 "metadata": {
  "kernelspec": {
   "display_name": "Python 3 (ipykernel)",
   "language": "python",
   "name": "python3"
  },
  "language_info": {
   "codemirror_mode": {
    "name": "ipython",
    "version": 3
   },
   "file_extension": ".py",
   "mimetype": "text/x-python",
   "name": "python",
   "nbconvert_exporter": "python",
   "pygments_lexer": "ipython3",
   "version": "3.10.11"
  },
  "toc": {
   "base_numbering": 1,
   "nav_menu": {
    "height": "340.498px",
    "width": "433.495px"
   },
   "number_sections": true,
   "sideBar": false,
   "skip_h1_title": true,
   "title_cell": "Table of Contents",
   "title_sidebar": "Contents",
   "toc_cell": true,
   "toc_position": {
    "height": "calc(100% - 180px)",
    "left": "10px",
    "top": "150px",
    "width": "284.433px"
   },
   "toc_section_display": true,
   "toc_window_display": false
  }
 },
 "nbformat": 4,
 "nbformat_minor": 5
}
